{
 "cells": [
  {
   "cell_type": "code",
   "execution_count": 2,
   "metadata": {},
   "outputs": [],
   "source": [
    "import numpy as np \n",
    "import pandas as pd "
   ]
  },
  {
   "cell_type": "code",
   "execution_count": 3,
   "metadata": {},
   "outputs": [],
   "source": [
    "from sklearn.decomposition import PCA\n",
    "from sklearn.preprocessing import StandardScaler\n",
    "from sklearn.manifold import TSNE"
   ]
  },
  {
   "cell_type": "markdown",
   "metadata": {},
   "source": [
    "**Load data from csv files.**"
   ]
  },
  {
   "cell_type": "code",
   "execution_count": 4,
   "metadata": {},
   "outputs": [],
   "source": [
    "sleepiness_df = pd.read_csv(\"C:/SEAN/GA Tech Academics/Grad/Fall 2024/ML CSE 8803/ML-CSE-8803-Team-2/Sleepiness/Datasets/acquiredDataset.csv\", header = 0)"
   ]
  },
  {
   "cell_type": "code",
   "execution_count": 5,
   "metadata": {},
   "outputs": [
    {
     "name": "stdout",
     "output_type": "stream",
     "text": [
      "(3735, 11)\n"
     ]
    }
   ],
   "source": [
    "print(sleepiness_df.shape)"
   ]
  },
  {
   "cell_type": "code",
   "execution_count": 6,
   "metadata": {},
   "outputs": [
    {
     "data": {
      "text/html": [
       "<div>\n",
       "<style scoped>\n",
       "    .dataframe tbody tr th:only-of-type {\n",
       "        vertical-align: middle;\n",
       "    }\n",
       "\n",
       "    .dataframe tbody tr th {\n",
       "        vertical-align: top;\n",
       "    }\n",
       "\n",
       "    .dataframe thead th {\n",
       "        text-align: right;\n",
       "    }\n",
       "</style>\n",
       "<table border=\"1\" class=\"dataframe\">\n",
       "  <thead>\n",
       "    <tr style=\"text-align: right;\">\n",
       "      <th></th>\n",
       "      <th>attention</th>\n",
       "      <th>meditation</th>\n",
       "      <th>delta</th>\n",
       "      <th>theta</th>\n",
       "      <th>lowAlpha</th>\n",
       "      <th>highAlpha</th>\n",
       "      <th>lowBeta</th>\n",
       "      <th>highBeta</th>\n",
       "      <th>lowGamma</th>\n",
       "      <th>highGamma</th>\n",
       "      <th>classification</th>\n",
       "    </tr>\n",
       "  </thead>\n",
       "  <tbody>\n",
       "    <tr>\n",
       "      <th>0</th>\n",
       "      <td>26</td>\n",
       "      <td>34</td>\n",
       "      <td>960462</td>\n",
       "      <td>277180</td>\n",
       "      <td>26575</td>\n",
       "      <td>27356</td>\n",
       "      <td>26575</td>\n",
       "      <td>13056</td>\n",
       "      <td>9126</td>\n",
       "      <td>2683</td>\n",
       "      <td>0</td>\n",
       "    </tr>\n",
       "    <tr>\n",
       "      <th>1</th>\n",
       "      <td>29</td>\n",
       "      <td>54</td>\n",
       "      <td>39145</td>\n",
       "      <td>28225</td>\n",
       "      <td>20172</td>\n",
       "      <td>39551</td>\n",
       "      <td>20172</td>\n",
       "      <td>9933</td>\n",
       "      <td>5237</td>\n",
       "      <td>4750</td>\n",
       "      <td>0</td>\n",
       "    </tr>\n",
       "    <tr>\n",
       "      <th>2</th>\n",
       "      <td>40</td>\n",
       "      <td>48</td>\n",
       "      <td>75410</td>\n",
       "      <td>43144</td>\n",
       "      <td>8601</td>\n",
       "      <td>13564</td>\n",
       "      <td>8601</td>\n",
       "      <td>11663</td>\n",
       "      <td>2515</td>\n",
       "      <td>3251</td>\n",
       "      <td>0</td>\n",
       "    </tr>\n",
       "    <tr>\n",
       "      <th>3</th>\n",
       "      <td>66</td>\n",
       "      <td>47</td>\n",
       "      <td>16057</td>\n",
       "      <td>41211</td>\n",
       "      <td>2534</td>\n",
       "      <td>34254</td>\n",
       "      <td>2534</td>\n",
       "      <td>27663</td>\n",
       "      <td>11396</td>\n",
       "      <td>2825</td>\n",
       "      <td>0</td>\n",
       "    </tr>\n",
       "    <tr>\n",
       "      <th>4</th>\n",
       "      <td>81</td>\n",
       "      <td>67</td>\n",
       "      <td>10304</td>\n",
       "      <td>47239</td>\n",
       "      <td>33158</td>\n",
       "      <td>47349</td>\n",
       "      <td>33158</td>\n",
       "      <td>16328</td>\n",
       "      <td>5298</td>\n",
       "      <td>5471</td>\n",
       "      <td>0</td>\n",
       "    </tr>\n",
       "  </tbody>\n",
       "</table>\n",
       "</div>"
      ],
      "text/plain": [
       "   attention  meditation   delta   theta  lowAlpha  highAlpha  lowBeta  \\\n",
       "0         26          34  960462  277180     26575      27356    26575   \n",
       "1         29          54   39145   28225     20172      39551    20172   \n",
       "2         40          48   75410   43144      8601      13564     8601   \n",
       "3         66          47   16057   41211      2534      34254     2534   \n",
       "4         81          67   10304   47239     33158      47349    33158   \n",
       "\n",
       "   highBeta  lowGamma  highGamma  classification  \n",
       "0     13056      9126       2683               0  \n",
       "1      9933      5237       4750               0  \n",
       "2     11663      2515       3251               0  \n",
       "3     27663     11396       2825               0  \n",
       "4     16328      5298       5471               0  "
      ]
     },
     "execution_count": 6,
     "metadata": {},
     "output_type": "execute_result"
    }
   ],
   "source": [
    "sleepiness_df.head()"
   ]
  }
 ],
 "metadata": {
  "kernelspec": {
   "display_name": "base",
   "language": "python",
   "name": "python3"
  },
  "language_info": {
   "codemirror_mode": {
    "name": "ipython",
    "version": 3
   },
   "file_extension": ".py",
   "mimetype": "text/x-python",
   "name": "python",
   "nbconvert_exporter": "python",
   "pygments_lexer": "ipython3",
   "version": "3.12.2"
  }
 },
 "nbformat": 4,
 "nbformat_minor": 2
}
