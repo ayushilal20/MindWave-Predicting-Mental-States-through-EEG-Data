{
 "cells": [
  {
   "cell_type": "code",
   "execution_count": 1,
   "metadata": {},
   "outputs": [],
   "source": [
    "import numpy as np \n",
    "import pandas as pd"
   ]
  },
  {
   "cell_type": "code",
   "execution_count": null,
   "metadata": {},
   "outputs": [],
   "source": [
    "from sklearn import tree"
   ]
  },
  {
   "cell_type": "markdown",
   "metadata": {},
   "source": [
    "**Load data from csv files.**"
   ]
  },
  {
   "cell_type": "code",
   "execution_count": 6,
   "metadata": {},
   "outputs": [
    {
     "name": "stderr",
     "output_type": "stream",
     "text": [
      "<>:1: SyntaxWarning: invalid escape sequence '\\F'\n",
      "<>:2: SyntaxWarning: invalid escape sequence '\\F'\n",
      "<>:3: SyntaxWarning: invalid escape sequence '\\F'\n",
      "<>:1: SyntaxWarning: invalid escape sequence '\\F'\n",
      "<>:2: SyntaxWarning: invalid escape sequence '\\F'\n",
      "<>:3: SyntaxWarning: invalid escape sequence '\\F'\n",
      "C:\\Users\\sean\\AppData\\Local\\Temp\\ipykernel_22340\\3918960565.py:1: SyntaxWarning: invalid escape sequence '\\F'\n",
      "  df_A = pd.read_csv(\"C:/SEAN/GA Tech Academics/Grad\\Fall 2024/ML CSE 8803/ML-CSE-8803-Team-2/Classification/Stress/Datasets/F_Relax_A_feature.csv\")\n",
      "C:\\Users\\sean\\AppData\\Local\\Temp\\ipykernel_22340\\3918960565.py:2: SyntaxWarning: invalid escape sequence '\\F'\n",
      "  df_M = pd.read_csv(\"C:/SEAN/GA Tech Academics/Grad\\Fall 2024/ML CSE 8803/ML-CSE-8803-Team-2/Classification/Stress/Datasets/F_Relax_M_feature.csv\")\n",
      "C:\\Users\\sean\\AppData\\Local\\Temp\\ipykernel_22340\\3918960565.py:3: SyntaxWarning: invalid escape sequence '\\F'\n",
      "  df_S = pd.read_csv(\"C:/SEAN/GA Tech Academics/Grad\\Fall 2024/ML CSE 8803/ML-CSE-8803-Team-2/Classification/Stress/Datasets/F_Relax_S_feature.csv\")\n"
     ]
    }
   ],
   "source": [
    "df_A = pd.read_csv(\"C:/SEAN/GA Tech Academics/Grad\\Fall 2024/ML CSE 8803/ML-CSE-8803-Team-2/Classification/Stress/Datasets/F_Relax_A_feature.csv\")\n",
    "df_M = pd.read_csv(\"C:/SEAN/GA Tech Academics/Grad\\Fall 2024/ML CSE 8803/ML-CSE-8803-Team-2/Classification/Stress/Datasets/F_Relax_M_feature.csv\")\n",
    "df_S = pd.read_csv(\"C:/SEAN/GA Tech Academics/Grad\\Fall 2024/ML CSE 8803/ML-CSE-8803-Team-2/Classification/Stress/Datasets/F_Relax_S_feature.csv\")"
   ]
  },
  {
   "cell_type": "markdown",
   "metadata": {},
   "source": []
  }
 ],
 "metadata": {
  "kernelspec": {
   "display_name": "base",
   "language": "python",
   "name": "python3"
  },
  "language_info": {
   "codemirror_mode": {
    "name": "ipython",
    "version": 3
   },
   "file_extension": ".py",
   "mimetype": "text/x-python",
   "name": "python",
   "nbconvert_exporter": "python",
   "pygments_lexer": "ipython3",
   "version": "3.12.2"
  }
 },
 "nbformat": 4,
 "nbformat_minor": 2
}
