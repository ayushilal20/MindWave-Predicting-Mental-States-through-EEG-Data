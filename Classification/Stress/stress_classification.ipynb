{
 "cells": [
  {
   "cell_type": "code",
   "execution_count": 1,
   "metadata": {},
   "outputs": [],
   "source": [
    "import numpy as np \n",
    "import pandas as pd"
   ]
  },
  {
   "cell_type": "code",
   "execution_count": 16,
   "metadata": {},
   "outputs": [],
   "source": [
    "from sklearn import tree\n",
    "from sklearn.decomposition import PCA\n",
    "from sklearn.preprocessing import StandardScaler\n",
    "from sklearn.feature_selection import RFECV\n",
    "from sklearn.tree import DecisionTreeClassifier\n",
    "from sklearn.model_selection import StratifiedKFold"
   ]
  },
  {
   "cell_type": "markdown",
   "metadata": {},
   "source": [
    "**Load data from csv files.**"
   ]
  },
  {
   "cell_type": "code",
   "execution_count": 15,
   "metadata": {},
   "outputs": [
    {
     "name": "stderr",
     "output_type": "stream",
     "text": [
      "<>:1: SyntaxWarning: invalid escape sequence '\\F'\n",
      "<>:2: SyntaxWarning: invalid escape sequence '\\F'\n",
      "<>:3: SyntaxWarning: invalid escape sequence '\\F'\n",
      "<>:1: SyntaxWarning: invalid escape sequence '\\F'\n",
      "<>:2: SyntaxWarning: invalid escape sequence '\\F'\n",
      "<>:3: SyntaxWarning: invalid escape sequence '\\F'\n",
      "C:\\Users\\sean\\AppData\\Local\\Temp\\ipykernel_22340\\3915618476.py:1: SyntaxWarning: invalid escape sequence '\\F'\n",
      "  df_A = pd.read_csv(\"C:/SEAN/GA Tech Academics/Grad\\Fall 2024/ML CSE 8803/ML-CSE-8803-Team-2/Classification/Stress/Datasets/F_Relax_A_feature.csv\", header = 0)\n",
      "C:\\Users\\sean\\AppData\\Local\\Temp\\ipykernel_22340\\3915618476.py:2: SyntaxWarning: invalid escape sequence '\\F'\n",
      "  df_M = pd.read_csv(\"C:/SEAN/GA Tech Academics/Grad\\Fall 2024/ML CSE 8803/ML-CSE-8803-Team-2/Classification/Stress/Datasets/F_Relax_M_feature.csv\", header = 0)\n",
      "C:\\Users\\sean\\AppData\\Local\\Temp\\ipykernel_22340\\3915618476.py:3: SyntaxWarning: invalid escape sequence '\\F'\n",
      "  df_S = pd.read_csv(\"C:/SEAN/GA Tech Academics/Grad\\Fall 2024/ML CSE 8803/ML-CSE-8803-Team-2/Classification/Stress/Datasets/F_Relax_S_feature.csv\", header = 0)\n"
     ]
    }
   ],
   "source": [
    "df_A = pd.read_csv(\"C:/SEAN/GA Tech Academics/Grad\\Fall 2024/ML CSE 8803/ML-CSE-8803-Team-2/Classification/Stress/Datasets/F_Relax_A_feature.csv\", header = 0)\n",
    "df_M = pd.read_csv(\"C:/SEAN/GA Tech Academics/Grad\\Fall 2024/ML CSE 8803/ML-CSE-8803-Team-2/Classification/Stress/Datasets/F_Relax_M_feature.csv\", header = 0)\n",
    "df_S = pd.read_csv(\"C:/SEAN/GA Tech Academics/Grad\\Fall 2024/ML CSE 8803/ML-CSE-8803-Team-2/Classification/Stress/Datasets/F_Relax_S_feature.csv\", header = 0)"
   ]
  },
  {
   "cell_type": "markdown",
   "metadata": {},
   "source": [
    "Fill in missing data with the mode of its column."
   ]
  },
  {
   "cell_type": "code",
   "execution_count": 18,
   "metadata": {},
   "outputs": [],
   "source": [
    "df_A = df_A.fillna(df_A.mode().iloc[0])\n",
    "df_M = df_M.fillna(df_M.mode().iloc[0])\n",
    "df_S = df_S.fillna(df_S.mode().iloc[0])"
   ]
  },
  {
   "cell_type": "markdown",
   "metadata": {},
   "source": [
    "Perform dimensionality reduction within each electrode's data. (There are 32 electrodes and 450 columns total, so 14 columns per electrode)."
   ]
  },
  {
   "cell_type": "code",
   "execution_count": 19,
   "metadata": {},
   "outputs": [
    {
     "name": "stdout",
     "output_type": "stream",
     "text": [
      "(6000, 3)\n",
      "(6000, 3)\n",
      "(6000, 3)\n",
      "(6000, 3)\n",
      "(6000, 3)\n",
      "(6000, 3)\n",
      "(6000, 3)\n",
      "(6000, 3)\n",
      "(6000, 3)\n",
      "(6000, 3)\n",
      "(6000, 3)\n",
      "(6000, 3)\n",
      "(6000, 3)\n",
      "(6000, 3)\n",
      "(6000, 3)\n",
      "(6000, 3)\n",
      "(6000, 3)\n",
      "(6000, 3)\n",
      "(6000, 3)\n",
      "(6000, 3)\n",
      "(6000, 3)\n",
      "(6000, 3)\n",
      "(6000, 3)\n",
      "(6000, 3)\n",
      "(6000, 3)\n",
      "(6000, 3)\n",
      "(6000, 3)\n",
      "(6000, 3)\n",
      "(6000, 3)\n",
      "(6000, 3)\n",
      "(6000, 3)\n",
      "(6000, 3)\n"
     ]
    }
   ],
   "source": [
    "start_column_index = 1\n",
    "for i in range(32):\n",
    "    df_subset = df_A.iloc[:, start_column_index: start_column_index + 14]\n",
    "    #print(df_subset.head())\n",
    "    # Use PCA to perform dimensionality reduction on df_subset. \n",
    "    # First scale the data.\n",
    "    scaler = StandardScaler()\n",
    "    scaler.fit(df_subset)\n",
    "    scaled_df_subset = scaler.transform(df_subset)\n",
    "    # Now apply PCA on the scaled data.\n",
    "    pca = PCA(n_components = 3)\n",
    "    pca.fit(scaled_df_subset)\n",
    "    pca_result = pca.transform(scaled_df_subset)\n",
    "    print(pca_result.shape)\n",
    "    start_column_index += 14"
   ]
  }
 ],
 "metadata": {
  "kernelspec": {
   "display_name": "base",
   "language": "python",
   "name": "python3"
  },
  "language_info": {
   "codemirror_mode": {
    "name": "ipython",
    "version": 3
   },
   "file_extension": ".py",
   "mimetype": "text/x-python",
   "name": "python",
   "nbconvert_exporter": "python",
   "pygments_lexer": "ipython3",
   "version": "3.12.2"
  }
 },
 "nbformat": 4,
 "nbformat_minor": 2
}
