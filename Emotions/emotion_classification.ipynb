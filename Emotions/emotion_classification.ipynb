{
 "cells": [
  {
   "cell_type": "code",
   "execution_count": 148,
   "metadata": {},
   "outputs": [],
   "source": [
    "import numpy as np \n",
    "import pandas as pd "
   ]
  },
  {
   "cell_type": "code",
   "execution_count": 149,
   "metadata": {},
   "outputs": [],
   "source": [
    "from sklearn import tree\n",
    "from sklearn.decomposition import PCA\n",
    "from sklearn.preprocessing import StandardScaler\n",
    "from sklearn.feature_selection import RFECV\n",
    "from sklearn.tree import DecisionTreeClassifier\n",
    "from sklearn.model_selection import StratifiedKFold, train_test_split, GridSearchCV\n",
    "from sklearn.metrics import accuracy_score, confusion_matrix\n",
    "from sklearn.ensemble import RandomForestClassifier"
   ]
  },
  {
   "cell_type": "code",
   "execution_count": 150,
   "metadata": {},
   "outputs": [],
   "source": [
    "import matplotlib.pyplot as plt\n",
    "import seaborn as sns"
   ]
  },
  {
   "cell_type": "code",
   "execution_count": 89,
   "metadata": {},
   "outputs": [],
   "source": [
    "import tensorflow as tf\n",
    "from tensorflow.keras.models import Sequential\n",
    "from tensorflow.keras.layers import LSTM, Dense, Dropout\n",
    "from tensorflow.keras.utils import to_categorical"
   ]
  },
  {
   "cell_type": "code",
   "execution_count": 129,
   "metadata": {},
   "outputs": [],
   "source": [
    "import torch\n",
    "import torch.nn as nn\n",
    "import torch.optim as optim\n",
    "from torch.utils.data import DataLoader, TensorDataset"
   ]
  },
  {
   "cell_type": "markdown",
   "metadata": {},
   "source": [
    "**Load data from csv files.**"
   ]
  },
  {
   "cell_type": "code",
   "execution_count": 90,
   "metadata": {},
   "outputs": [],
   "source": [
    "emotions_df = pd.read_csv(\"C:/SEAN/GA Tech Academics/Grad/Fall 2024/ML CSE 8803/ML-CSE-8803-Team-2/Classification/Emotions/Datasets/emotions.csv\", header = 0)"
   ]
  },
  {
   "cell_type": "code",
   "execution_count": 91,
   "metadata": {},
   "outputs": [
    {
     "name": "stdout",
     "output_type": "stream",
     "text": [
      "(2132, 2549)\n"
     ]
    }
   ],
   "source": [
    "print(emotions_df.shape)"
   ]
  },
  {
   "cell_type": "markdown",
   "metadata": {},
   "source": [
    "Extract the FFT columns from the dataset. The original dataset is over 2500 columns, so we absolutely need to reduce the dimensionality. Some of the columns are the result of Fast Fourier Transform (FFT). EEG signals are inherently time series data, but much of the brain’s cognitive and emotional information is encoded in specific frequency waves (e.g. alpha, beta, gamma). Thus FFT transforms raw EEG data into these frequency components, which are more interpretable and better suited for detecting emotional states."
   ]
  },
  {
   "cell_type": "code",
   "execution_count": 92,
   "metadata": {},
   "outputs": [],
   "source": [
    "emotions_df_fft_a = emotions_df.loc[:, 'fft_0_a':'fft_749_a']"
   ]
  },
  {
   "cell_type": "code",
   "execution_count": 93,
   "metadata": {},
   "outputs": [],
   "source": [
    "emotions_df_fft_b = emotions_df.loc[:, 'fft_0_b':'fft_749_b']"
   ]
  },
  {
   "cell_type": "code",
   "execution_count": 114,
   "metadata": {},
   "outputs": [
    {
     "data": {
      "text/html": [
       "<div>\n",
       "<style scoped>\n",
       "    .dataframe tbody tr th:only-of-type {\n",
       "        vertical-align: middle;\n",
       "    }\n",
       "\n",
       "    .dataframe tbody tr th {\n",
       "        vertical-align: top;\n",
       "    }\n",
       "\n",
       "    .dataframe thead th {\n",
       "        text-align: right;\n",
       "    }\n",
       "</style>\n",
       "<table border=\"1\" class=\"dataframe\">\n",
       "  <thead>\n",
       "    <tr style=\"text-align: right;\">\n",
       "      <th></th>\n",
       "      <th>fft_0_a</th>\n",
       "      <th>fft_1_a</th>\n",
       "      <th>fft_2_a</th>\n",
       "      <th>fft_3_a</th>\n",
       "      <th>fft_4_a</th>\n",
       "      <th>fft_5_a</th>\n",
       "      <th>fft_6_a</th>\n",
       "      <th>fft_7_a</th>\n",
       "      <th>fft_8_a</th>\n",
       "      <th>fft_9_a</th>\n",
       "      <th>...</th>\n",
       "      <th>fft_740_a</th>\n",
       "      <th>fft_741_a</th>\n",
       "      <th>fft_742_a</th>\n",
       "      <th>fft_743_a</th>\n",
       "      <th>fft_744_a</th>\n",
       "      <th>fft_745_a</th>\n",
       "      <th>fft_746_a</th>\n",
       "      <th>fft_747_a</th>\n",
       "      <th>fft_748_a</th>\n",
       "      <th>fft_749_a</th>\n",
       "    </tr>\n",
       "  </thead>\n",
       "  <tbody>\n",
       "    <tr>\n",
       "      <th>0</th>\n",
       "      <td>-520.0</td>\n",
       "      <td>398.00</td>\n",
       "      <td>-201.0</td>\n",
       "      <td>-201.0</td>\n",
       "      <td>398.00</td>\n",
       "      <td>-52.2</td>\n",
       "      <td>121.00</td>\n",
       "      <td>-64.0</td>\n",
       "      <td>-64.0</td>\n",
       "      <td>121.00</td>\n",
       "      <td>...</td>\n",
       "      <td>179.0</td>\n",
       "      <td>26.4</td>\n",
       "      <td>-12.9</td>\n",
       "      <td>-12.9</td>\n",
       "      <td>26.4</td>\n",
       "      <td>-474.00</td>\n",
       "      <td>442.0</td>\n",
       "      <td>-222.00</td>\n",
       "      <td>-222.00</td>\n",
       "      <td>442.0</td>\n",
       "    </tr>\n",
       "    <tr>\n",
       "      <th>1</th>\n",
       "      <td>66.2</td>\n",
       "      <td>-4.30</td>\n",
       "      <td>43.6</td>\n",
       "      <td>43.6</td>\n",
       "      <td>-4.30</td>\n",
       "      <td>66.0</td>\n",
       "      <td>-29.00</td>\n",
       "      <td>73.3</td>\n",
       "      <td>73.3</td>\n",
       "      <td>-29.00</td>\n",
       "      <td>...</td>\n",
       "      <td>184.0</td>\n",
       "      <td>17.0</td>\n",
       "      <td>-18.9</td>\n",
       "      <td>-18.9</td>\n",
       "      <td>17.0</td>\n",
       "      <td>189.00</td>\n",
       "      <td>-19.6</td>\n",
       "      <td>-8.37</td>\n",
       "      <td>-8.37</td>\n",
       "      <td>-19.6</td>\n",
       "    </tr>\n",
       "    <tr>\n",
       "      <th>2</th>\n",
       "      <td>-90.8</td>\n",
       "      <td>204.00</td>\n",
       "      <td>-77.1</td>\n",
       "      <td>-77.1</td>\n",
       "      <td>204.00</td>\n",
       "      <td>-488.0</td>\n",
       "      <td>415.00</td>\n",
       "      <td>-187.0</td>\n",
       "      <td>-187.0</td>\n",
       "      <td>415.00</td>\n",
       "      <td>...</td>\n",
       "      <td>-796.0</td>\n",
       "      <td>631.0</td>\n",
       "      <td>-261.0</td>\n",
       "      <td>-261.0</td>\n",
       "      <td>631.0</td>\n",
       "      <td>-86.40</td>\n",
       "      <td>176.0</td>\n",
       "      <td>-100.00</td>\n",
       "      <td>-100.00</td>\n",
       "      <td>176.0</td>\n",
       "    </tr>\n",
       "    <tr>\n",
       "      <th>3</th>\n",
       "      <td>119.0</td>\n",
       "      <td>6.25</td>\n",
       "      <td>10.9</td>\n",
       "      <td>10.9</td>\n",
       "      <td>6.25</td>\n",
       "      <td>-333.0</td>\n",
       "      <td>283.00</td>\n",
       "      <td>-144.0</td>\n",
       "      <td>-144.0</td>\n",
       "      <td>283.00</td>\n",
       "      <td>...</td>\n",
       "      <td>-474.0</td>\n",
       "      <td>439.0</td>\n",
       "      <td>-221.0</td>\n",
       "      <td>-221.0</td>\n",
       "      <td>439.0</td>\n",
       "      <td>272.00</td>\n",
       "      <td>-87.7</td>\n",
       "      <td>32.40</td>\n",
       "      <td>32.40</td>\n",
       "      <td>-87.7</td>\n",
       "    </tr>\n",
       "    <tr>\n",
       "      <th>4</th>\n",
       "      <td>59.0</td>\n",
       "      <td>-2.37</td>\n",
       "      <td>10.8</td>\n",
       "      <td>10.8</td>\n",
       "      <td>-2.37</td>\n",
       "      <td>118.0</td>\n",
       "      <td>-1.81</td>\n",
       "      <td>26.7</td>\n",
       "      <td>26.7</td>\n",
       "      <td>-1.81</td>\n",
       "      <td>...</td>\n",
       "      <td>30.7</td>\n",
       "      <td>50.3</td>\n",
       "      <td>-111.0</td>\n",
       "      <td>-111.0</td>\n",
       "      <td>50.3</td>\n",
       "      <td>-2.43</td>\n",
       "      <td>30.5</td>\n",
       "      <td>-152.00</td>\n",
       "      <td>-152.00</td>\n",
       "      <td>30.5</td>\n",
       "    </tr>\n",
       "  </tbody>\n",
       "</table>\n",
       "<p>5 rows × 750 columns</p>\n",
       "</div>"
      ],
      "text/plain": [
       "   fft_0_a  fft_1_a  fft_2_a  fft_3_a  fft_4_a  fft_5_a  fft_6_a  fft_7_a  \\\n",
       "0   -520.0   398.00   -201.0   -201.0   398.00    -52.2   121.00    -64.0   \n",
       "1     66.2    -4.30     43.6     43.6    -4.30     66.0   -29.00     73.3   \n",
       "2    -90.8   204.00    -77.1    -77.1   204.00   -488.0   415.00   -187.0   \n",
       "3    119.0     6.25     10.9     10.9     6.25   -333.0   283.00   -144.0   \n",
       "4     59.0    -2.37     10.8     10.8    -2.37    118.0    -1.81     26.7   \n",
       "\n",
       "   fft_8_a  fft_9_a  ...  fft_740_a  fft_741_a  fft_742_a  fft_743_a  \\\n",
       "0    -64.0   121.00  ...      179.0       26.4      -12.9      -12.9   \n",
       "1     73.3   -29.00  ...      184.0       17.0      -18.9      -18.9   \n",
       "2   -187.0   415.00  ...     -796.0      631.0     -261.0     -261.0   \n",
       "3   -144.0   283.00  ...     -474.0      439.0     -221.0     -221.0   \n",
       "4     26.7    -1.81  ...       30.7       50.3     -111.0     -111.0   \n",
       "\n",
       "   fft_744_a  fft_745_a  fft_746_a  fft_747_a  fft_748_a  fft_749_a  \n",
       "0       26.4    -474.00      442.0    -222.00    -222.00      442.0  \n",
       "1       17.0     189.00      -19.6      -8.37      -8.37      -19.6  \n",
       "2      631.0     -86.40      176.0    -100.00    -100.00      176.0  \n",
       "3      439.0     272.00      -87.7      32.40      32.40      -87.7  \n",
       "4       50.3      -2.43       30.5    -152.00    -152.00       30.5  \n",
       "\n",
       "[5 rows x 750 columns]"
      ]
     },
     "execution_count": 114,
     "metadata": {},
     "output_type": "execute_result"
    }
   ],
   "source": [
    "emotions_df_fft_a.head()"
   ]
  },
  {
   "cell_type": "code",
   "execution_count": 115,
   "metadata": {},
   "outputs": [
    {
     "data": {
      "text/html": [
       "<div>\n",
       "<style scoped>\n",
       "    .dataframe tbody tr th:only-of-type {\n",
       "        vertical-align: middle;\n",
       "    }\n",
       "\n",
       "    .dataframe tbody tr th {\n",
       "        vertical-align: top;\n",
       "    }\n",
       "\n",
       "    .dataframe thead th {\n",
       "        text-align: right;\n",
       "    }\n",
       "</style>\n",
       "<table border=\"1\" class=\"dataframe\">\n",
       "  <thead>\n",
       "    <tr style=\"text-align: right;\">\n",
       "      <th></th>\n",
       "      <th>fft_0_b</th>\n",
       "      <th>fft_1_b</th>\n",
       "      <th>fft_2_b</th>\n",
       "      <th>fft_3_b</th>\n",
       "      <th>fft_4_b</th>\n",
       "      <th>fft_5_b</th>\n",
       "      <th>fft_6_b</th>\n",
       "      <th>fft_7_b</th>\n",
       "      <th>fft_8_b</th>\n",
       "      <th>fft_9_b</th>\n",
       "      <th>...</th>\n",
       "      <th>fft_740_b</th>\n",
       "      <th>fft_741_b</th>\n",
       "      <th>fft_742_b</th>\n",
       "      <th>fft_743_b</th>\n",
       "      <th>fft_744_b</th>\n",
       "      <th>fft_745_b</th>\n",
       "      <th>fft_746_b</th>\n",
       "      <th>fft_747_b</th>\n",
       "      <th>fft_748_b</th>\n",
       "      <th>fft_749_b</th>\n",
       "    </tr>\n",
       "  </thead>\n",
       "  <tbody>\n",
       "    <tr>\n",
       "      <th>0</th>\n",
       "      <td>-508.0</td>\n",
       "      <td>438.00</td>\n",
       "      <td>-222.00</td>\n",
       "      <td>-222.00</td>\n",
       "      <td>438.00</td>\n",
       "      <td>143.0</td>\n",
       "      <td>59.40</td>\n",
       "      <td>5.05</td>\n",
       "      <td>5.05</td>\n",
       "      <td>59.40</td>\n",
       "      <td>...</td>\n",
       "      <td>74.3</td>\n",
       "      <td>23.5</td>\n",
       "      <td>20.3</td>\n",
       "      <td>20.3</td>\n",
       "      <td>23.5</td>\n",
       "      <td>-215.0</td>\n",
       "      <td>280.00</td>\n",
       "      <td>-162.00</td>\n",
       "      <td>-162.00</td>\n",
       "      <td>280.00</td>\n",
       "    </tr>\n",
       "    <tr>\n",
       "      <th>1</th>\n",
       "      <td>126.0</td>\n",
       "      <td>-4.00</td>\n",
       "      <td>7.42</td>\n",
       "      <td>7.42</td>\n",
       "      <td>-4.00</td>\n",
       "      <td>81.6</td>\n",
       "      <td>-22.30</td>\n",
       "      <td>35.30</td>\n",
       "      <td>35.30</td>\n",
       "      <td>-22.30</td>\n",
       "      <td>...</td>\n",
       "      <td>130.0</td>\n",
       "      <td>-23.3</td>\n",
       "      <td>-21.8</td>\n",
       "      <td>-21.8</td>\n",
       "      <td>-23.3</td>\n",
       "      <td>182.0</td>\n",
       "      <td>2.57</td>\n",
       "      <td>-31.60</td>\n",
       "      <td>-31.60</td>\n",
       "      <td>2.57</td>\n",
       "    </tr>\n",
       "    <tr>\n",
       "      <th>2</th>\n",
       "      <td>-85.9</td>\n",
       "      <td>361.00</td>\n",
       "      <td>-62.20</td>\n",
       "      <td>-62.20</td>\n",
       "      <td>361.00</td>\n",
       "      <td>-558.0</td>\n",
       "      <td>684.00</td>\n",
       "      <td>-152.00</td>\n",
       "      <td>-152.00</td>\n",
       "      <td>684.00</td>\n",
       "      <td>...</td>\n",
       "      <td>-534.0</td>\n",
       "      <td>462.0</td>\n",
       "      <td>-233.0</td>\n",
       "      <td>-233.0</td>\n",
       "      <td>462.0</td>\n",
       "      <td>-267.0</td>\n",
       "      <td>281.00</td>\n",
       "      <td>-148.00</td>\n",
       "      <td>-148.00</td>\n",
       "      <td>281.00</td>\n",
       "    </tr>\n",
       "    <tr>\n",
       "      <th>3</th>\n",
       "      <td>69.5</td>\n",
       "      <td>3.89</td>\n",
       "      <td>12.10</td>\n",
       "      <td>12.10</td>\n",
       "      <td>3.89</td>\n",
       "      <td>-188.0</td>\n",
       "      <td>274.00</td>\n",
       "      <td>-200.00</td>\n",
       "      <td>-200.00</td>\n",
       "      <td>274.00</td>\n",
       "      <td>...</td>\n",
       "      <td>-183.0</td>\n",
       "      <td>299.0</td>\n",
       "      <td>-243.0</td>\n",
       "      <td>-243.0</td>\n",
       "      <td>299.0</td>\n",
       "      <td>132.0</td>\n",
       "      <td>-12.40</td>\n",
       "      <td>9.53</td>\n",
       "      <td>9.53</td>\n",
       "      <td>-12.40</td>\n",
       "    </tr>\n",
       "    <tr>\n",
       "      <th>4</th>\n",
       "      <td>226.0</td>\n",
       "      <td>-27.40</td>\n",
       "      <td>147.00</td>\n",
       "      <td>147.00</td>\n",
       "      <td>-27.40</td>\n",
       "      <td>301.0</td>\n",
       "      <td>-8.48</td>\n",
       "      <td>138.00</td>\n",
       "      <td>138.00</td>\n",
       "      <td>-8.48</td>\n",
       "      <td>...</td>\n",
       "      <td>114.0</td>\n",
       "      <td>12.0</td>\n",
       "      <td>38.1</td>\n",
       "      <td>38.1</td>\n",
       "      <td>12.0</td>\n",
       "      <td>119.0</td>\n",
       "      <td>-17.60</td>\n",
       "      <td>23.90</td>\n",
       "      <td>23.90</td>\n",
       "      <td>-17.60</td>\n",
       "    </tr>\n",
       "  </tbody>\n",
       "</table>\n",
       "<p>5 rows × 750 columns</p>\n",
       "</div>"
      ],
      "text/plain": [
       "   fft_0_b  fft_1_b  fft_2_b  fft_3_b  fft_4_b  fft_5_b  fft_6_b  fft_7_b  \\\n",
       "0   -508.0   438.00  -222.00  -222.00   438.00    143.0    59.40     5.05   \n",
       "1    126.0    -4.00     7.42     7.42    -4.00     81.6   -22.30    35.30   \n",
       "2    -85.9   361.00   -62.20   -62.20   361.00   -558.0   684.00  -152.00   \n",
       "3     69.5     3.89    12.10    12.10     3.89   -188.0   274.00  -200.00   \n",
       "4    226.0   -27.40   147.00   147.00   -27.40    301.0    -8.48   138.00   \n",
       "\n",
       "   fft_8_b  fft_9_b  ...  fft_740_b  fft_741_b  fft_742_b  fft_743_b  \\\n",
       "0     5.05    59.40  ...       74.3       23.5       20.3       20.3   \n",
       "1    35.30   -22.30  ...      130.0      -23.3      -21.8      -21.8   \n",
       "2  -152.00   684.00  ...     -534.0      462.0     -233.0     -233.0   \n",
       "3  -200.00   274.00  ...     -183.0      299.0     -243.0     -243.0   \n",
       "4   138.00    -8.48  ...      114.0       12.0       38.1       38.1   \n",
       "\n",
       "   fft_744_b  fft_745_b  fft_746_b  fft_747_b  fft_748_b  fft_749_b  \n",
       "0       23.5     -215.0     280.00    -162.00    -162.00     280.00  \n",
       "1      -23.3      182.0       2.57     -31.60     -31.60       2.57  \n",
       "2      462.0     -267.0     281.00    -148.00    -148.00     281.00  \n",
       "3      299.0      132.0     -12.40       9.53       9.53     -12.40  \n",
       "4       12.0      119.0     -17.60      23.90      23.90     -17.60  \n",
       "\n",
       "[5 rows x 750 columns]"
      ]
     },
     "execution_count": 115,
     "metadata": {},
     "output_type": "execute_result"
    }
   ],
   "source": [
    "emotions_df_fft_b.head()"
   ]
  },
  {
   "cell_type": "code",
   "execution_count": 116,
   "metadata": {},
   "outputs": [],
   "source": [
    "def perform_feature_selection(df: pd.DataFrame, variance_threshold: float) -> pd.DataFrame:\n",
    "    print(\"----------STARTING FEATURE SELECTION----------\")\n",
    "    X = df\n",
    "    \n",
    "    print(\"----------STARTING PCA----------\")\n",
    "    \n",
    "    scaler = StandardScaler()\n",
    "    scaler.fit(X)\n",
    "    scaled_X = scaler.transform(X)\n",
    "\n",
    "    # Perform PCA\n",
    "    pca = PCA(n_components = 50)\n",
    "    pca.fit(scaled_X)\n",
    "    pca_result = pca.transform(scaled_X)\n",
    "    \n",
    "    print(\"----------FINISHED PCA----------\")\n",
    "    \n",
    "    # Determine number of components needed to keep a certain threshold percentage of variance\n",
    "\n",
    "    explained_variance_ratio = pca.explained_variance_ratio_\n",
    "    cumulative_variance_ratio = np.cumsum(explained_variance_ratio)\n",
    "    num_pc = np.argmax(cumulative_variance_ratio >= variance_threshold) + 1\n",
    "    print(\"Number of principal components to keep\", variance_threshold * 100, \"% of variance:\", num_pc)\n",
    "\n",
    "    # Visualization\n",
    "    plt.figure(figsize=(8, 6))\n",
    "\n",
    "    # Line plot for cumulative explained variance (all points are initially red)\n",
    "    plt.plot(range(1, len(cumulative_variance_ratio) + 1), cumulative_variance_ratio, marker='o', color='red', label='Cumulative explained variance', linestyle='-')\n",
    "\n",
    "    # Use blue dots to denote every n-th point where n is divisible by 5\n",
    "    for i in range(5, len(cumulative_variance_ratio) + 1, 5):\n",
    "        plt.scatter(i, cumulative_variance_ratio[i - 1], color='blue', zorder=5) \n",
    "        \n",
    "    plt.grid(True, which='both', linestyle='--', linewidth=0.7, alpha=0.7)\n",
    "\n",
    "    plt.xlabel('# of Principal Components')\n",
    "    plt.ylabel('Explained Variance Ratio')\n",
    "    plt.title('Explained Variance by Principal Components')\n",
    "    plt.legend(loc='best')\n",
    "    plt.show()\n",
    "    \n",
    "    # Find components that give the variance threshold.\n",
    "    \n",
    "    components_for_threshold = np.where(cumulative_variance_ratio >= variance_threshold)[0][0] + 1\n",
    "\n",
    "    # Get the list of column names needed to reach the variance threshold.\n",
    "    needed_columns = X.columns[:components_for_threshold]\n",
    "    print(\"final kept columns:\")\n",
    "    print(df[needed_columns].head())\n",
    "    print(\"----------FINISHED FEATURE SELECTION----------\")\n",
    "    return df[needed_columns]"
   ]
  },
  {
   "cell_type": "markdown",
   "metadata": {},
   "source": [
    "Extract the output column (i.e. emotional state), and map the string labels to integers."
   ]
  },
  {
   "cell_type": "code",
   "execution_count": 96,
   "metadata": {},
   "outputs": [
    {
     "name": "stdout",
     "output_type": "stream",
     "text": [
      "['NEGATIVE' 'NEUTRAL' 'POSITIVE']\n"
     ]
    }
   ],
   "source": [
    "y = emotions_df.iloc[:, -1] # The last column contains the outputs\n",
    "unique_y = y.unique()\n",
    "print(unique_y)"
   ]
  },
  {
   "cell_type": "code",
   "execution_count": 97,
   "metadata": {},
   "outputs": [
    {
     "name": "stdout",
     "output_type": "stream",
     "text": [
      "0    0\n",
      "1    1\n",
      "2    2\n",
      "3    2\n",
      "4    1\n",
      "5    1\n",
      "6    2\n",
      "7    0\n",
      "8    1\n",
      "9    0\n",
      "Name: label, dtype: int64\n"
     ]
    }
   ],
   "source": [
    "mapping = {\n",
    "    'NEGATIVE': 0,\n",
    "    'NEUTRAL': 1,\n",
    "    'POSITIVE': 2\n",
    "}\n",
    "\n",
    "# Apply the mapping to y\n",
    "y_mapped = y.map(mapping)\n",
    "\n",
    "print(y_mapped.head(10))"
   ]
  },
  {
   "cell_type": "code",
   "execution_count": 124,
   "metadata": {},
   "outputs": [
    {
     "name": "stdout",
     "output_type": "stream",
     "text": [
      "----------STARTING FEATURE SELECTION----------\n",
      "----------STARTING PCA----------\n",
      "----------FINISHED PCA----------\n",
      "Number of principal components to keep 90.0 % of variance: 10\n"
     ]
    },
    {
     "data": {
      "image/png": "[encoded data removed]",
      "text/plain": [
       "<Figure size 800x600 with 1 Axes>"
      ]
     },
     "metadata": {},
     "output_type": "display_data"
    },
    {
     "name": "stdout",
     "output_type": "stream",
     "text": [
      "final kept columns:\n",
      "   fft_0_a  fft_1_a  fft_2_a  fft_3_a  fft_4_a  fft_5_a  fft_6_a  fft_7_a  \\\n",
      "0   -520.0   398.00   -201.0   -201.0   398.00    -52.2   121.00    -64.0   \n",
      "1     66.2    -4.30     43.6     43.6    -4.30     66.0   -29.00     73.3   \n",
      "2    -90.8   204.00    -77.1    -77.1   204.00   -488.0   415.00   -187.0   \n",
      "3    119.0     6.25     10.9     10.9     6.25   -333.0   283.00   -144.0   \n",
      "4     59.0    -2.37     10.8     10.8    -2.37    118.0    -1.81     26.7   \n",
      "\n",
      "   fft_8_a  fft_9_a  \n",
      "0    -64.0   121.00  \n",
      "1     73.3   -29.00  \n",
      "2   -187.0   415.00  \n",
      "3   -144.0   283.00  \n",
      "4     26.7    -1.81  \n",
      "----------FINISHED FEATURE SELECTION----------\n"
     ]
    }
   ],
   "source": [
    "emotions_df_fft_a_preprocessed = perform_feature_selection(emotions_df_fft_a, 0.9)"
   ]
  },
  {
   "cell_type": "code",
   "execution_count": 126,
   "metadata": {},
   "outputs": [
    {
     "name": "stdout",
     "output_type": "stream",
     "text": [
      "----------STARTING FEATURE SELECTION----------\n",
      "----------STARTING PCA----------\n",
      "----------FINISHED PCA----------\n",
      "Number of principal components to keep 90.0 % of variance: 10\n"
     ]
    },
    {
     "data": {
      "image/png": "[encoded data removed]",
      "text/plain": [
       "<Figure size 800x600 with 1 Axes>"
      ]
     },
     "metadata": {},
     "output_type": "display_data"
    },
    {
     "name": "stdout",
     "output_type": "stream",
     "text": [
      "final kept columns:\n",
      "   fft_0_b  fft_1_b  fft_2_b  fft_3_b  fft_4_b  fft_5_b  fft_6_b  fft_7_b  \\\n",
      "0   -508.0   438.00  -222.00  -222.00   438.00    143.0    59.40     5.05   \n",
      "1    126.0    -4.00     7.42     7.42    -4.00     81.6   -22.30    35.30   \n",
      "2    -85.9   361.00   -62.20   -62.20   361.00   -558.0   684.00  -152.00   \n",
      "3     69.5     3.89    12.10    12.10     3.89   -188.0   274.00  -200.00   \n",
      "4    226.0   -27.40   147.00   147.00   -27.40    301.0    -8.48   138.00   \n",
      "\n",
      "   fft_8_b  fft_9_b  \n",
      "0     5.05    59.40  \n",
      "1    35.30   -22.30  \n",
      "2  -152.00   684.00  \n",
      "3  -200.00   274.00  \n",
      "4   138.00    -8.48  \n",
      "----------FINISHED FEATURE SELECTION----------\n"
     ]
    }
   ],
   "source": [
    "emotions_df_fft_b_preprocessed = perform_feature_selection(emotions_df_fft_b, 0.9)"
   ]
  },
  {
   "cell_type": "markdown",
   "metadata": {},
   "source": [
    "**Train the model for detecting emotion. We use a deep learning approach.**"
   ]
  },
  {
   "cell_type": "code",
   "execution_count": 141,
   "metadata": {},
   "outputs": [],
   "source": [
    "def train_emotion_classifier_tf(df: pd.DataFrame):\n",
    "    # Split the data into train and test sets\n",
    "    X_train, X_test, y_train, y_test = train_test_split(df, y_mapped, test_size = 0.2)\n",
    "    \n",
    "    # Reshape the input data to be compatible with the model we train\n",
    "    X_train = X_train.values.reshape((X_train.shape[0], 1, X_train.shape[1]))\n",
    "    X_test = X_test.values.reshape((X_test.shape[0], 1, X_test.shape[1]))\n",
    "    \n",
    "    # Create the model\n",
    "    model = Sequential()\n",
    "\n",
    "    # First LSTM layer\n",
    "    model.add(LSTM(units = 256, return_sequences=True, input_shape = (X_train.shape[1], X_train.shape[2])))\n",
    "    model.add(Dropout(0.3))  # Add dropout to prevent overfitting\n",
    "\n",
    "    # Second LSTM layer\n",
    "    model.add(LSTM(units = 128, return_sequences=False))\n",
    "    model.add(Dropout(0.3))\n",
    "\n",
    "    # Fully connected layer\n",
    "    model.add(Dense(units = 64, activation='relu'))\n",
    "    model.add(Dropout(0.3))\n",
    "\n",
    "    # Output layer\n",
    "    model.add(Dense(units = 3, activation='softmax'))\n",
    "    \n",
    "    # Compile the model\n",
    "    model.compile(optimizer='adam', loss='sparse_categorical_crossentropy', metrics=['accuracy'])\n",
    "    model.summary()\n",
    "    \n",
    "    # Train the model\n",
    "    model.fit(X_train, y_train, epochs = 50, batch_size = 32, validation_data=(X_test, y_test))\n",
    "    \n",
    "    # Evaluate the model on the test data\n",
    "    accuracy = model.evaluate(X_test, y_test, verbose=0)[1]\n",
    "    print(f'Test accuracy: {accuracy * 100:.2f}%')\n",
    "    "
   ]
  },
  {
   "cell_type": "code",
   "execution_count": 142,
   "metadata": {},
   "outputs": [
    {
     "data": {
      "text/html": [
       "<pre style=\"white-space:pre;overflow-x:auto;line-height:normal;font-family:Menlo,'DejaVu Sans Mono',consolas,'Courier New',monospace\"><span style=\"font-weight: bold\">Model: \"sequential_13\"</span>\n",
       "</pre>\n"
      ],
      "text/plain": [
       "\u001b[1mModel: \"sequential_13\"\u001b[0m\n"
      ]
     },
     "metadata": {},
     "output_type": "display_data"
    },
    {
     "data": {
      "text/html": [
       "<pre style=\"white-space:pre;overflow-x:auto;line-height:normal;font-family:Menlo,'DejaVu Sans Mono',consolas,'Courier New',monospace\">┏━━━━━━━━━━━━━━━━━━━━━━━━━━━━━━━━━┳━━━━━━━━━━━━━━━━━━━━━━━━┳━━━━━━━━━━━━━━━┓\n",
       "┃<span style=\"font-weight: bold\"> Layer (type)                    </span>┃<span style=\"font-weight: bold\"> Output Shape           </span>┃<span style=\"font-weight: bold\">       Param # </span>┃\n",
       "┡━━━━━━━━━━━━━━━━━━━━━━━━━━━━━━━━━╇━━━━━━━━━━━━━━━━━━━━━━━━╇━━━━━━━━━━━━━━━┩\n",
       "│ lstm_22 (<span style=\"color: #0087ff; text-decoration-color: #0087ff\">LSTM</span>)                  │ (<span style=\"color: #00d7ff; text-decoration-color: #00d7ff\">None</span>, <span style=\"color: #00af00; text-decoration-color: #00af00\">1</span>, <span style=\"color: #00af00; text-decoration-color: #00af00\">256</span>)         │       <span style=\"color: #00af00; text-decoration-color: #00af00\">273,408</span> │\n",
       "├─────────────────────────────────┼────────────────────────┼───────────────┤\n",
       "│ dropout_24 (<span style=\"color: #0087ff; text-decoration-color: #0087ff\">Dropout</span>)            │ (<span style=\"color: #00d7ff; text-decoration-color: #00d7ff\">None</span>, <span style=\"color: #00af00; text-decoration-color: #00af00\">1</span>, <span style=\"color: #00af00; text-decoration-color: #00af00\">256</span>)         │             <span style=\"color: #00af00; text-decoration-color: #00af00\">0</span> │\n",
       "├─────────────────────────────────┼────────────────────────┼───────────────┤\n",
       "│ lstm_23 (<span style=\"color: #0087ff; text-decoration-color: #0087ff\">LSTM</span>)                  │ (<span style=\"color: #00d7ff; text-decoration-color: #00d7ff\">None</span>, <span style=\"color: #00af00; text-decoration-color: #00af00\">128</span>)            │       <span style=\"color: #00af00; text-decoration-color: #00af00\">197,120</span> │\n",
       "├─────────────────────────────────┼────────────────────────┼───────────────┤\n",
       "│ dropout_25 (<span style=\"color: #0087ff; text-decoration-color: #0087ff\">Dropout</span>)            │ (<span style=\"color: #00d7ff; text-decoration-color: #00d7ff\">None</span>, <span style=\"color: #00af00; text-decoration-color: #00af00\">128</span>)            │             <span style=\"color: #00af00; text-decoration-color: #00af00\">0</span> │\n",
       "├─────────────────────────────────┼────────────────────────┼───────────────┤\n",
       "│ dense_21 (<span style=\"color: #0087ff; text-decoration-color: #0087ff\">Dense</span>)                │ (<span style=\"color: #00d7ff; text-decoration-color: #00d7ff\">None</span>, <span style=\"color: #00af00; text-decoration-color: #00af00\">64</span>)             │         <span style=\"color: #00af00; text-decoration-color: #00af00\">8,256</span> │\n",
       "├─────────────────────────────────┼────────────────────────┼───────────────┤\n",
       "│ dropout_26 (<span style=\"color: #0087ff; text-decoration-color: #0087ff\">Dropout</span>)            │ (<span style=\"color: #00d7ff; text-decoration-color: #00d7ff\">None</span>, <span style=\"color: #00af00; text-decoration-color: #00af00\">64</span>)             │             <span style=\"color: #00af00; text-decoration-color: #00af00\">0</span> │\n",
       "├─────────────────────────────────┼────────────────────────┼───────────────┤\n",
       "│ dense_22 (<span style=\"color: #0087ff; text-decoration-color: #0087ff\">Dense</span>)                │ (<span style=\"color: #00d7ff; text-decoration-color: #00d7ff\">None</span>, <span style=\"color: #00af00; text-decoration-color: #00af00\">3</span>)              │           <span style=\"color: #00af00; text-decoration-color: #00af00\">195</span> │\n",
       "└─────────────────────────────────┴────────────────────────┴───────────────┘\n",
       "</pre>\n"
      ],
      "text/plain": [
       "┏━━━━━━━━━━━━━━━━━━━━━━━━━━━━━━━━━┳━━━━━━━━━━━━━━━━━━━━━━━━┳━━━━━━━━━━━━━━━┓\n",
       "┃\u001b[1m \u001b[0m\u001b[1mLayer (type)                   \u001b[0m\u001b[1m \u001b[0m┃\u001b[1m \u001b[0m\u001b[1mOutput Shape          \u001b[0m\u001b[1m \u001b[0m┃\u001b[1m \u001b[0m\u001b[1m      Param #\u001b[0m\u001b[1m \u001b[0m┃\n",
       "┡━━━━━━━━━━━━━━━━━━━━━━━━━━━━━━━━━╇━━━━━━━━━━━━━━━━━━━━━━━━╇━━━━━━━━━━━━━━━┩\n",
       "│ lstm_22 (\u001b[38;5;33mLSTM\u001b[0m)                  │ (\u001b[38;5;45mNone\u001b[0m, \u001b[38;5;34m1\u001b[0m, \u001b[38;5;34m256\u001b[0m)         │       \u001b[38;5;34m273,408\u001b[0m │\n",
       "├─────────────────────────────────┼────────────────────────┼───────────────┤\n",
       "│ dropout_24 (\u001b[38;5;33mDropout\u001b[0m)            │ (\u001b[38;5;45mNone\u001b[0m, \u001b[38;5;34m1\u001b[0m, \u001b[38;5;34m256\u001b[0m)         │             \u001b[38;5;34m0\u001b[0m │\n",
       "├─────────────────────────────────┼────────────────────────┼───────────────┤\n",
       "│ lstm_23 (\u001b[38;5;33mLSTM\u001b[0m)                  │ (\u001b[38;5;45mNone\u001b[0m, \u001b[38;5;34m128\u001b[0m)            │       \u001b[38;5;34m197,120\u001b[0m │\n",
       "├─────────────────────────────────┼────────────────────────┼───────────────┤\n",
       "│ dropout_25 (\u001b[38;5;33mDropout\u001b[0m)            │ (\u001b[38;5;45mNone\u001b[0m, \u001b[38;5;34m128\u001b[0m)            │             \u001b[38;5;34m0\u001b[0m │\n",
       "├─────────────────────────────────┼────────────────────────┼───────────────┤\n",
       "│ dense_21 (\u001b[38;5;33mDense\u001b[0m)                │ (\u001b[38;5;45mNone\u001b[0m, \u001b[38;5;34m64\u001b[0m)             │         \u001b[38;5;34m8,256\u001b[0m │\n",
       "├─────────────────────────────────┼────────────────────────┼───────────────┤\n",
       "│ dropout_26 (\u001b[38;5;33mDropout\u001b[0m)            │ (\u001b[38;5;45mNone\u001b[0m, \u001b[38;5;34m64\u001b[0m)             │             \u001b[38;5;34m0\u001b[0m │\n",
       "├─────────────────────────────────┼────────────────────────┼───────────────┤\n",
       "│ dense_22 (\u001b[38;5;33mDense\u001b[0m)                │ (\u001b[38;5;45mNone\u001b[0m, \u001b[38;5;34m3\u001b[0m)              │           \u001b[38;5;34m195\u001b[0m │\n",
       "└─────────────────────────────────┴────────────────────────┴───────────────┘\n"
      ]
     },
     "metadata": {},
     "output_type": "display_data"
    },
    {
     "data": {
      "text/html": [
       "<pre style=\"white-space:pre;overflow-x:auto;line-height:normal;font-family:Menlo,'DejaVu Sans Mono',consolas,'Courier New',monospace\"><span style=\"font-weight: bold\"> Total params: </span><span style=\"color: #00af00; text-decoration-color: #00af00\">478,979</span> (1.83 MB)\n",
       "</pre>\n"
      ],
      "text/plain": [
       "\u001b[1m Total params: \u001b[0m\u001b[38;5;34m478,979\u001b[0m (1.83 MB)\n"
      ]
     },
     "metadata": {},
     "output_type": "display_data"
    },
    {
     "data": {
      "text/html": [
       "<pre style=\"white-space:pre;overflow-x:auto;line-height:normal;font-family:Menlo,'DejaVu Sans Mono',consolas,'Courier New',monospace\"><span style=\"font-weight: bold\"> Trainable params: </span><span style=\"color: #00af00; text-decoration-color: #00af00\">478,979</span> (1.83 MB)\n",
       "</pre>\n"
      ],
      "text/plain": [
       "\u001b[1m Trainable params: \u001b[0m\u001b[38;5;34m478,979\u001b[0m (1.83 MB)\n"
      ]
     },
     "metadata": {},
     "output_type": "display_data"
    },
    {
     "data": {
      "text/html": [
       "<pre style=\"white-space:pre;overflow-x:auto;line-height:normal;font-family:Menlo,'DejaVu Sans Mono',consolas,'Courier New',monospace\"><span style=\"font-weight: bold\"> Non-trainable params: </span><span style=\"color: #00af00; text-decoration-color: #00af00\">0</span> (0.00 B)\n",
       "</pre>\n"
      ],
      "text/plain": [
       "\u001b[1m Non-trainable params: \u001b[0m\u001b[38;5;34m0\u001b[0m (0.00 B)\n"
      ]
     },
     "metadata": {},
     "output_type": "display_data"
    },
    {
     "name": "stdout",
     "output_type": "stream",
     "text": [
      "Epoch 1/50\n",
      "\u001b[1m54/54\u001b[0m \u001b[32m━━━━━━━━━━━━━━━━━━━━\u001b[0m\u001b[37m\u001b[0m \u001b[1m6s\u001b[0m 19ms/step - accuracy: 0.7191 - loss: 0.8090 - val_accuracy: 0.8548 - val_loss: 0.3935\n",
      "Epoch 2/50\n",
      "\u001b[1m54/54\u001b[0m \u001b[32m━━━━━━━━━━━━━━━━━━━━\u001b[0m\u001b[37m\u001b[0m \u001b[1m1s\u001b[0m 9ms/step - accuracy: 0.8316 - loss: 0.4406 - val_accuracy: 0.8689 - val_loss: 0.3462\n",
      "Epoch 3/50\n",
      "\u001b[1m54/54\u001b[0m \u001b[32m━━━━━━━━━━━━━━━━━━━━\u001b[0m\u001b[37m\u001b[0m \u001b[1m0s\u001b[0m 8ms/step - accuracy: 0.8431 - loss: 0.3900 - val_accuracy: 0.8571 - val_loss: 0.3349\n",
      "Epoch 4/50\n",
      "\u001b[1m54/54\u001b[0m \u001b[32m━━━━━━━━━━━━━━━━━━━━\u001b[0m\u001b[37m\u001b[0m \u001b[1m0s\u001b[0m 8ms/step - accuracy: 0.8433 - loss: 0.3744 - val_accuracy: 0.8689 - val_loss: 0.3416\n",
      "Epoch 5/50\n",
      "\u001b[1m54/54\u001b[0m \u001b[32m━━━━━━━━━━━━━━━━━━━━\u001b[0m\u001b[37m\u001b[0m \u001b[1m1s\u001b[0m 10ms/step - accuracy: 0.8571 - loss: 0.3449 - val_accuracy: 0.8642 - val_loss: 0.3359\n",
      "Epoch 6/50\n",
      "\u001b[1m54/54\u001b[0m \u001b[32m━━━━━━━━━━━━━━━━━━━━\u001b[0m\u001b[37m\u001b[0m \u001b[1m1s\u001b[0m 12ms/step - accuracy: 0.8764 - loss: 0.3315 - val_accuracy: 0.8689 - val_loss: 0.3412\n",
      "Epoch 7/50\n",
      "\u001b[1m54/54\u001b[0m \u001b[32m━━━━━━━━━━━━━━━━━━━━\u001b[0m\u001b[37m\u001b[0m \u001b[1m1s\u001b[0m 12ms/step - accuracy: 0.8735 - loss: 0.3346 - val_accuracy: 0.8712 - val_loss: 0.3401\n",
      "Epoch 8/50\n",
      "\u001b[1m54/54\u001b[0m \u001b[32m━━━━━━━━━━━━━━━━━━━━\u001b[0m\u001b[37m\u001b[0m \u001b[1m1s\u001b[0m 12ms/step - accuracy: 0.8670 - loss: 0.3342 - val_accuracy: 0.8407 - val_loss: 0.3524\n",
      "Epoch 9/50\n",
      "\u001b[1m54/54\u001b[0m \u001b[32m━━━━━━━━━━━━━━━━━━━━\u001b[0m\u001b[37m\u001b[0m \u001b[1m1s\u001b[0m 10ms/step - accuracy: 0.8677 - loss: 0.3298 - val_accuracy: 0.8759 - val_loss: 0.3234\n",
      "Epoch 10/50\n",
      "\u001b[1m54/54\u001b[0m \u001b[32m━━━━━━━━━━━━━━━━━━━━\u001b[0m\u001b[37m\u001b[0m \u001b[1m0s\u001b[0m 8ms/step - accuracy: 0.8722 - loss: 0.3164 - val_accuracy: 0.8712 - val_loss: 0.3334\n",
      "Epoch 11/50\n",
      "\u001b[1m54/54\u001b[0m \u001b[32m━━━━━━━━━━━━━━━━━━━━\u001b[0m\u001b[37m\u001b[0m \u001b[1m0s\u001b[0m 8ms/step - accuracy: 0.8698 - loss: 0.2869 - val_accuracy: 0.8689 - val_loss: 0.3590\n",
      "Epoch 12/50\n",
      "\u001b[1m54/54\u001b[0m \u001b[32m━━━━━━━━━━━━━━━━━━━━\u001b[0m\u001b[37m\u001b[0m \u001b[1m1s\u001b[0m 9ms/step - accuracy: 0.8705 - loss: 0.3087 - val_accuracy: 0.8665 - val_loss: 0.3433\n",
      "Epoch 13/50\n",
      "\u001b[1m54/54\u001b[0m \u001b[32m━━━━━━━━━━━━━━━━━━━━\u001b[0m\u001b[37m\u001b[0m \u001b[1m0s\u001b[0m 8ms/step - accuracy: 0.8795 - loss: 0.2971 - val_accuracy: 0.8782 - val_loss: 0.3486\n",
      "Epoch 14/50\n",
      "\u001b[1m54/54\u001b[0m \u001b[32m━━━━━━━━━━━━━━━━━━━━\u001b[0m\u001b[37m\u001b[0m \u001b[1m1s\u001b[0m 9ms/step - accuracy: 0.8797 - loss: 0.2980 - val_accuracy: 0.8571 - val_loss: 0.3753\n",
      "Epoch 15/50\n",
      "\u001b[1m54/54\u001b[0m \u001b[32m━━━━━━━━━━━━━━━━━━━━\u001b[0m\u001b[37m\u001b[0m \u001b[1m0s\u001b[0m 8ms/step - accuracy: 0.8677 - loss: 0.3267 - val_accuracy: 0.8712 - val_loss: 0.3422\n",
      "Epoch 16/50\n",
      "\u001b[1m54/54\u001b[0m \u001b[32m━━━━━━━━━━━━━━━━━━━━\u001b[0m\u001b[37m\u001b[0m \u001b[1m1s\u001b[0m 15ms/step - accuracy: 0.8835 - loss: 0.2948 - val_accuracy: 0.8806 - val_loss: 0.3384\n",
      "Epoch 17/50\n",
      "\u001b[1m54/54\u001b[0m \u001b[32m━━━━━━━━━━━━━━━━━━━━\u001b[0m\u001b[37m\u001b[0m \u001b[1m2s\u001b[0m 20ms/step - accuracy: 0.8861 - loss: 0.3008 - val_accuracy: 0.8712 - val_loss: 0.3564\n",
      "Epoch 18/50\n",
      "\u001b[1m54/54\u001b[0m \u001b[32m━━━━━━━━━━━━━━━━━━━━\u001b[0m\u001b[37m\u001b[0m \u001b[1m1s\u001b[0m 19ms/step - accuracy: 0.8689 - loss: 0.3177 - val_accuracy: 0.8735 - val_loss: 0.3551\n",
      "Epoch 19/50\n",
      "\u001b[1m54/54\u001b[0m \u001b[32m━━━━━━━━━━━━━━━━━━━━\u001b[0m\u001b[37m\u001b[0m \u001b[1m1s\u001b[0m 15ms/step - accuracy: 0.8865 - loss: 0.2829 - val_accuracy: 0.8618 - val_loss: 0.3541\n",
      "Epoch 20/50\n",
      "\u001b[1m54/54\u001b[0m \u001b[32m━━━━━━━━━━━━━━━━━━━━\u001b[0m\u001b[37m\u001b[0m \u001b[1m1s\u001b[0m 17ms/step - accuracy: 0.8846 - loss: 0.2807 - val_accuracy: 0.8735 - val_loss: 0.3520\n",
      "Epoch 21/50\n",
      "\u001b[1m54/54\u001b[0m \u001b[32m━━━━━━━━━━━━━━━━━━━━\u001b[0m\u001b[37m\u001b[0m \u001b[1m1s\u001b[0m 10ms/step - accuracy: 0.8941 - loss: 0.2676 - val_accuracy: 0.8689 - val_loss: 0.3543\n",
      "Epoch 22/50\n",
      "\u001b[1m54/54\u001b[0m \u001b[32m━━━━━━━━━━━━━━━━━━━━\u001b[0m\u001b[37m\u001b[0m \u001b[1m1s\u001b[0m 11ms/step - accuracy: 0.8824 - loss: 0.2897 - val_accuracy: 0.8759 - val_loss: 0.3498\n",
      "Epoch 23/50\n",
      "\u001b[1m54/54\u001b[0m \u001b[32m━━━━━━━━━━━━━━━━━━━━\u001b[0m\u001b[37m\u001b[0m \u001b[1m1s\u001b[0m 9ms/step - accuracy: 0.8836 - loss: 0.2783 - val_accuracy: 0.8642 - val_loss: 0.3658\n",
      "Epoch 24/50\n",
      "\u001b[1m54/54\u001b[0m \u001b[32m━━━━━━━━━━━━━━━━━━━━\u001b[0m\u001b[37m\u001b[0m \u001b[1m1s\u001b[0m 9ms/step - accuracy: 0.8906 - loss: 0.2722 - val_accuracy: 0.8595 - val_loss: 0.3635\n",
      "Epoch 25/50\n",
      "\u001b[1m54/54\u001b[0m \u001b[32m━━━━━━━━━━━━━━━━━━━━\u001b[0m\u001b[37m\u001b[0m \u001b[1m1s\u001b[0m 15ms/step - accuracy: 0.8611 - loss: 0.3164 - val_accuracy: 0.8571 - val_loss: 0.3595\n",
      "Epoch 26/50\n",
      "\u001b[1m54/54\u001b[0m \u001b[32m━━━━━━━━━━━━━━━━━━━━\u001b[0m\u001b[37m\u001b[0m \u001b[1m0s\u001b[0m 9ms/step - accuracy: 0.8766 - loss: 0.2876 - val_accuracy: 0.8689 - val_loss: 0.3434\n",
      "Epoch 27/50\n",
      "\u001b[1m54/54\u001b[0m \u001b[32m━━━━━━━━━━━━━━━━━━━━\u001b[0m\u001b[37m\u001b[0m \u001b[1m0s\u001b[0m 8ms/step - accuracy: 0.8893 - loss: 0.2672 - val_accuracy: 0.8712 - val_loss: 0.3479\n",
      "Epoch 28/50\n",
      "\u001b[1m54/54\u001b[0m \u001b[32m━━━━━━━━━━━━━━━━━━━━\u001b[0m\u001b[37m\u001b[0m \u001b[1m1s\u001b[0m 9ms/step - accuracy: 0.8874 - loss: 0.2737 - val_accuracy: 0.8759 - val_loss: 0.3383\n",
      "Epoch 29/50\n",
      "\u001b[1m54/54\u001b[0m \u001b[32m━━━━━━━━━━━━━━━━━━━━\u001b[0m\u001b[37m\u001b[0m \u001b[1m1s\u001b[0m 9ms/step - accuracy: 0.8668 - loss: 0.3073 - val_accuracy: 0.8642 - val_loss: 0.3640\n",
      "Epoch 30/50\n",
      "\u001b[1m54/54\u001b[0m \u001b[32m━━━━━━━━━━━━━━━━━━━━\u001b[0m\u001b[37m\u001b[0m \u001b[1m0s\u001b[0m 8ms/step - accuracy: 0.8956 - loss: 0.2759 - val_accuracy: 0.8735 - val_loss: 0.3540\n",
      "Epoch 31/50\n",
      "\u001b[1m54/54\u001b[0m \u001b[32m━━━━━━━━━━━━━━━━━━━━\u001b[0m\u001b[37m\u001b[0m \u001b[1m0s\u001b[0m 8ms/step - accuracy: 0.8841 - loss: 0.2755 - val_accuracy: 0.8806 - val_loss: 0.3273\n",
      "Epoch 32/50\n",
      "\u001b[1m54/54\u001b[0m \u001b[32m━━━━━━━━━━━━━━━━━━━━\u001b[0m\u001b[37m\u001b[0m \u001b[1m0s\u001b[0m 8ms/step - accuracy: 0.8817 - loss: 0.2715 - val_accuracy: 0.8618 - val_loss: 0.3768\n",
      "Epoch 33/50\n",
      "\u001b[1m54/54\u001b[0m \u001b[32m━━━━━━━━━━━━━━━━━━━━\u001b[0m\u001b[37m\u001b[0m \u001b[1m1s\u001b[0m 9ms/step - accuracy: 0.8733 - loss: 0.2929 - val_accuracy: 0.8782 - val_loss: 0.3521\n",
      "Epoch 34/50\n",
      "\u001b[1m54/54\u001b[0m \u001b[32m━━━━━━━━━━━━━━━━━━━━\u001b[0m\u001b[37m\u001b[0m \u001b[1m0s\u001b[0m 8ms/step - accuracy: 0.8856 - loss: 0.2786 - val_accuracy: 0.8618 - val_loss: 0.3529\n",
      "Epoch 35/50\n",
      "\u001b[1m54/54\u001b[0m \u001b[32m━━━━━━━━━━━━━━━━━━━━\u001b[0m\u001b[37m\u001b[0m \u001b[1m1s\u001b[0m 9ms/step - accuracy: 0.8888 - loss: 0.2871 - val_accuracy: 0.8735 - val_loss: 0.3477\n",
      "Epoch 36/50\n",
      "\u001b[1m54/54\u001b[0m \u001b[32m━━━━━━━━━━━━━━━━━━━━\u001b[0m\u001b[37m\u001b[0m \u001b[1m0s\u001b[0m 8ms/step - accuracy: 0.8772 - loss: 0.2867 - val_accuracy: 0.8782 - val_loss: 0.3398\n",
      "Epoch 37/50\n",
      "\u001b[1m54/54\u001b[0m \u001b[32m━━━━━━━━━━━━━━━━━━━━\u001b[0m\u001b[37m\u001b[0m \u001b[1m0s\u001b[0m 8ms/step - accuracy: 0.8960 - loss: 0.2496 - val_accuracy: 0.8712 - val_loss: 0.3529\n",
      "Epoch 38/50\n",
      "\u001b[1m54/54\u001b[0m \u001b[32m━━━━━━━━━━━━━━━━━━━━\u001b[0m\u001b[37m\u001b[0m \u001b[1m1s\u001b[0m 16ms/step - accuracy: 0.8780 - loss: 0.2910 - val_accuracy: 0.8712 - val_loss: 0.3707\n",
      "Epoch 39/50\n",
      "\u001b[1m54/54\u001b[0m \u001b[32m━━━━━━━━━━━━━━━━━━━━\u001b[0m\u001b[37m\u001b[0m \u001b[1m1s\u001b[0m 9ms/step - accuracy: 0.8936 - loss: 0.2678 - val_accuracy: 0.8735 - val_loss: 0.3829\n",
      "Epoch 40/50\n",
      "\u001b[1m54/54\u001b[0m \u001b[32m━━━━━━━━━━━━━━━━━━━━\u001b[0m\u001b[37m\u001b[0m \u001b[1m0s\u001b[0m 8ms/step - accuracy: 0.8866 - loss: 0.2528 - val_accuracy: 0.8642 - val_loss: 0.3991\n",
      "Epoch 41/50\n",
      "\u001b[1m54/54\u001b[0m \u001b[32m━━━━━━━━━━━━━━━━━━━━\u001b[0m\u001b[37m\u001b[0m \u001b[1m1s\u001b[0m 11ms/step - accuracy: 0.8899 - loss: 0.2720 - val_accuracy: 0.8829 - val_loss: 0.3711\n",
      "Epoch 42/50\n",
      "\u001b[1m54/54\u001b[0m \u001b[32m━━━━━━━━━━━━━━━━━━━━\u001b[0m\u001b[37m\u001b[0m \u001b[1m1s\u001b[0m 11ms/step - accuracy: 0.8962 - loss: 0.2499 - val_accuracy: 0.8712 - val_loss: 0.3910\n",
      "Epoch 43/50\n",
      "\u001b[1m54/54\u001b[0m \u001b[32m━━━━━━━━━━━━━━━━━━━━\u001b[0m\u001b[37m\u001b[0m \u001b[1m1s\u001b[0m 9ms/step - accuracy: 0.8880 - loss: 0.2753 - val_accuracy: 0.8735 - val_loss: 0.3884\n",
      "Epoch 44/50\n",
      "\u001b[1m54/54\u001b[0m \u001b[32m━━━━━━━━━━━━━━━━━━━━\u001b[0m\u001b[37m\u001b[0m \u001b[1m1s\u001b[0m 10ms/step - accuracy: 0.8855 - loss: 0.2669 - val_accuracy: 0.8712 - val_loss: 0.4000\n",
      "Epoch 45/50\n",
      "\u001b[1m54/54\u001b[0m \u001b[32m━━━━━━━━━━━━━━━━━━━━\u001b[0m\u001b[37m\u001b[0m \u001b[1m0s\u001b[0m 8ms/step - accuracy: 0.8944 - loss: 0.2492 - val_accuracy: 0.8665 - val_loss: 0.4018\n",
      "Epoch 46/50\n",
      "\u001b[1m54/54\u001b[0m \u001b[32m━━━━━━━━━━━━━━━━━━━━\u001b[0m\u001b[37m\u001b[0m \u001b[1m0s\u001b[0m 8ms/step - accuracy: 0.9002 - loss: 0.2455 - val_accuracy: 0.8689 - val_loss: 0.3920\n",
      "Epoch 47/50\n",
      "\u001b[1m54/54\u001b[0m \u001b[32m━━━━━━━━━━━━━━━━━━━━\u001b[0m\u001b[37m\u001b[0m \u001b[1m1s\u001b[0m 9ms/step - accuracy: 0.8992 - loss: 0.2528 - val_accuracy: 0.8689 - val_loss: 0.4041\n",
      "Epoch 48/50\n",
      "\u001b[1m54/54\u001b[0m \u001b[32m━━━━━━━━━━━━━━━━━━━━\u001b[0m\u001b[37m\u001b[0m \u001b[1m1s\u001b[0m 8ms/step - accuracy: 0.8946 - loss: 0.2657 - val_accuracy: 0.8759 - val_loss: 0.3848\n",
      "Epoch 49/50\n",
      "\u001b[1m54/54\u001b[0m \u001b[32m━━━━━━━━━━━━━━━━━━━━\u001b[0m\u001b[37m\u001b[0m \u001b[1m1s\u001b[0m 9ms/step - accuracy: 0.8942 - loss: 0.2489 - val_accuracy: 0.8618 - val_loss: 0.4126\n",
      "Epoch 50/50\n",
      "\u001b[1m54/54\u001b[0m \u001b[32m━━━━━━━━━━━━━━━━━━━━\u001b[0m\u001b[37m\u001b[0m \u001b[1m0s\u001b[0m 8ms/step - accuracy: 0.8736 - loss: 0.2789 - val_accuracy: 0.8665 - val_loss: 0.3943\n",
      "Test accuracy: 86.65%\n"
     ]
    }
   ],
   "source": [
    "train_emotion_classifier_tf(emotions_df_fft_a_preprocessed)"
   ]
  },
  {
   "cell_type": "code",
   "execution_count": 143,
   "metadata": {},
   "outputs": [
    {
     "data": {
      "text/html": [
       "<pre style=\"white-space:pre;overflow-x:auto;line-height:normal;font-family:Menlo,'DejaVu Sans Mono',consolas,'Courier New',monospace\"><span style=\"font-weight: bold\">Model: \"sequential_14\"</span>\n",
       "</pre>\n"
      ],
      "text/plain": [
       "\u001b[1mModel: \"sequential_14\"\u001b[0m\n"
      ]
     },
     "metadata": {},
     "output_type": "display_data"
    },
    {
     "data": {
      "text/html": [
       "<pre style=\"white-space:pre;overflow-x:auto;line-height:normal;font-family:Menlo,'DejaVu Sans Mono',consolas,'Courier New',monospace\">┏━━━━━━━━━━━━━━━━━━━━━━━━━━━━━━━━━┳━━━━━━━━━━━━━━━━━━━━━━━━┳━━━━━━━━━━━━━━━┓\n",
       "┃<span style=\"font-weight: bold\"> Layer (type)                    </span>┃<span style=\"font-weight: bold\"> Output Shape           </span>┃<span style=\"font-weight: bold\">       Param # </span>┃\n",
       "┡━━━━━━━━━━━━━━━━━━━━━━━━━━━━━━━━━╇━━━━━━━━━━━━━━━━━━━━━━━━╇━━━━━━━━━━━━━━━┩\n",
       "│ lstm_24 (<span style=\"color: #0087ff; text-decoration-color: #0087ff\">LSTM</span>)                  │ (<span style=\"color: #00d7ff; text-decoration-color: #00d7ff\">None</span>, <span style=\"color: #00af00; text-decoration-color: #00af00\">1</span>, <span style=\"color: #00af00; text-decoration-color: #00af00\">256</span>)         │       <span style=\"color: #00af00; text-decoration-color: #00af00\">273,408</span> │\n",
       "├─────────────────────────────────┼────────────────────────┼───────────────┤\n",
       "│ dropout_27 (<span style=\"color: #0087ff; text-decoration-color: #0087ff\">Dropout</span>)            │ (<span style=\"color: #00d7ff; text-decoration-color: #00d7ff\">None</span>, <span style=\"color: #00af00; text-decoration-color: #00af00\">1</span>, <span style=\"color: #00af00; text-decoration-color: #00af00\">256</span>)         │             <span style=\"color: #00af00; text-decoration-color: #00af00\">0</span> │\n",
       "├─────────────────────────────────┼────────────────────────┼───────────────┤\n",
       "│ lstm_25 (<span style=\"color: #0087ff; text-decoration-color: #0087ff\">LSTM</span>)                  │ (<span style=\"color: #00d7ff; text-decoration-color: #00d7ff\">None</span>, <span style=\"color: #00af00; text-decoration-color: #00af00\">128</span>)            │       <span style=\"color: #00af00; text-decoration-color: #00af00\">197,120</span> │\n",
       "├─────────────────────────────────┼────────────────────────┼───────────────┤\n",
       "│ dropout_28 (<span style=\"color: #0087ff; text-decoration-color: #0087ff\">Dropout</span>)            │ (<span style=\"color: #00d7ff; text-decoration-color: #00d7ff\">None</span>, <span style=\"color: #00af00; text-decoration-color: #00af00\">128</span>)            │             <span style=\"color: #00af00; text-decoration-color: #00af00\">0</span> │\n",
       "├─────────────────────────────────┼────────────────────────┼───────────────┤\n",
       "│ dense_23 (<span style=\"color: #0087ff; text-decoration-color: #0087ff\">Dense</span>)                │ (<span style=\"color: #00d7ff; text-decoration-color: #00d7ff\">None</span>, <span style=\"color: #00af00; text-decoration-color: #00af00\">64</span>)             │         <span style=\"color: #00af00; text-decoration-color: #00af00\">8,256</span> │\n",
       "├─────────────────────────────────┼────────────────────────┼───────────────┤\n",
       "│ dropout_29 (<span style=\"color: #0087ff; text-decoration-color: #0087ff\">Dropout</span>)            │ (<span style=\"color: #00d7ff; text-decoration-color: #00d7ff\">None</span>, <span style=\"color: #00af00; text-decoration-color: #00af00\">64</span>)             │             <span style=\"color: #00af00; text-decoration-color: #00af00\">0</span> │\n",
       "├─────────────────────────────────┼────────────────────────┼───────────────┤\n",
       "│ dense_24 (<span style=\"color: #0087ff; text-decoration-color: #0087ff\">Dense</span>)                │ (<span style=\"color: #00d7ff; text-decoration-color: #00d7ff\">None</span>, <span style=\"color: #00af00; text-decoration-color: #00af00\">3</span>)              │           <span style=\"color: #00af00; text-decoration-color: #00af00\">195</span> │\n",
       "└─────────────────────────────────┴────────────────────────┴───────────────┘\n",
       "</pre>\n"
      ],
      "text/plain": [
       "┏━━━━━━━━━━━━━━━━━━━━━━━━━━━━━━━━━┳━━━━━━━━━━━━━━━━━━━━━━━━┳━━━━━━━━━━━━━━━┓\n",
       "┃\u001b[1m \u001b[0m\u001b[1mLayer (type)                   \u001b[0m\u001b[1m \u001b[0m┃\u001b[1m \u001b[0m\u001b[1mOutput Shape          \u001b[0m\u001b[1m \u001b[0m┃\u001b[1m \u001b[0m\u001b[1m      Param #\u001b[0m\u001b[1m \u001b[0m┃\n",
       "┡━━━━━━━━━━━━━━━━━━━━━━━━━━━━━━━━━╇━━━━━━━━━━━━━━━━━━━━━━━━╇━━━━━━━━━━━━━━━┩\n",
       "│ lstm_24 (\u001b[38;5;33mLSTM\u001b[0m)                  │ (\u001b[38;5;45mNone\u001b[0m, \u001b[38;5;34m1\u001b[0m, \u001b[38;5;34m256\u001b[0m)         │       \u001b[38;5;34m273,408\u001b[0m │\n",
       "├─────────────────────────────────┼────────────────────────┼───────────────┤\n",
       "│ dropout_27 (\u001b[38;5;33mDropout\u001b[0m)            │ (\u001b[38;5;45mNone\u001b[0m, \u001b[38;5;34m1\u001b[0m, \u001b[38;5;34m256\u001b[0m)         │             \u001b[38;5;34m0\u001b[0m │\n",
       "├─────────────────────────────────┼────────────────────────┼───────────────┤\n",
       "│ lstm_25 (\u001b[38;5;33mLSTM\u001b[0m)                  │ (\u001b[38;5;45mNone\u001b[0m, \u001b[38;5;34m128\u001b[0m)            │       \u001b[38;5;34m197,120\u001b[0m │\n",
       "├─────────────────────────────────┼────────────────────────┼───────────────┤\n",
       "│ dropout_28 (\u001b[38;5;33mDropout\u001b[0m)            │ (\u001b[38;5;45mNone\u001b[0m, \u001b[38;5;34m128\u001b[0m)            │             \u001b[38;5;34m0\u001b[0m │\n",
       "├─────────────────────────────────┼────────────────────────┼───────────────┤\n",
       "│ dense_23 (\u001b[38;5;33mDense\u001b[0m)                │ (\u001b[38;5;45mNone\u001b[0m, \u001b[38;5;34m64\u001b[0m)             │         \u001b[38;5;34m8,256\u001b[0m │\n",
       "├─────────────────────────────────┼────────────────────────┼───────────────┤\n",
       "│ dropout_29 (\u001b[38;5;33mDropout\u001b[0m)            │ (\u001b[38;5;45mNone\u001b[0m, \u001b[38;5;34m64\u001b[0m)             │             \u001b[38;5;34m0\u001b[0m │\n",
       "├─────────────────────────────────┼────────────────────────┼───────────────┤\n",
       "│ dense_24 (\u001b[38;5;33mDense\u001b[0m)                │ (\u001b[38;5;45mNone\u001b[0m, \u001b[38;5;34m3\u001b[0m)              │           \u001b[38;5;34m195\u001b[0m │\n",
       "└─────────────────────────────────┴────────────────────────┴───────────────┘\n"
      ]
     },
     "metadata": {},
     "output_type": "display_data"
    },
    {
     "data": {
      "text/html": [
       "<pre style=\"white-space:pre;overflow-x:auto;line-height:normal;font-family:Menlo,'DejaVu Sans Mono',consolas,'Courier New',monospace\"><span style=\"font-weight: bold\"> Total params: </span><span style=\"color: #00af00; text-decoration-color: #00af00\">478,979</span> (1.83 MB)\n",
       "</pre>\n"
      ],
      "text/plain": [
       "\u001b[1m Total params: \u001b[0m\u001b[38;5;34m478,979\u001b[0m (1.83 MB)\n"
      ]
     },
     "metadata": {},
     "output_type": "display_data"
    },
    {
     "data": {
      "text/html": [
       "<pre style=\"white-space:pre;overflow-x:auto;line-height:normal;font-family:Menlo,'DejaVu Sans Mono',consolas,'Courier New',monospace\"><span style=\"font-weight: bold\"> Trainable params: </span><span style=\"color: #00af00; text-decoration-color: #00af00\">478,979</span> (1.83 MB)\n",
       "</pre>\n"
      ],
      "text/plain": [
       "\u001b[1m Trainable params: \u001b[0m\u001b[38;5;34m478,979\u001b[0m (1.83 MB)\n"
      ]
     },
     "metadata": {},
     "output_type": "display_data"
    },
    {
     "data": {
      "text/html": [
       "<pre style=\"white-space:pre;overflow-x:auto;line-height:normal;font-family:Menlo,'DejaVu Sans Mono',consolas,'Courier New',monospace\"><span style=\"font-weight: bold\"> Non-trainable params: </span><span style=\"color: #00af00; text-decoration-color: #00af00\">0</span> (0.00 B)\n",
       "</pre>\n"
      ],
      "text/plain": [
       "\u001b[1m Non-trainable params: \u001b[0m\u001b[38;5;34m0\u001b[0m (0.00 B)\n"
      ]
     },
     "metadata": {},
     "output_type": "display_data"
    },
    {
     "name": "stdout",
     "output_type": "stream",
     "text": [
      "Epoch 1/50\n",
      "\u001b[1m54/54\u001b[0m \u001b[32m━━━━━━━━━━━━━━━━━━━━\u001b[0m\u001b[37m\u001b[0m \u001b[1m6s\u001b[0m 36ms/step - accuracy: 0.6724 - loss: 0.8084 - val_accuracy: 0.8220 - val_loss: 0.4273\n",
      "Epoch 2/50\n",
      "\u001b[1m54/54\u001b[0m \u001b[32m━━━━━━━━━━━━━━━━━━━━\u001b[0m\u001b[37m\u001b[0m \u001b[1m2s\u001b[0m 12ms/step - accuracy: 0.8365 - loss: 0.4024 - val_accuracy: 0.8501 - val_loss: 0.3791\n",
      "Epoch 3/50\n",
      "\u001b[1m54/54\u001b[0m \u001b[32m━━━━━━━━━━━━━━━━━━━━\u001b[0m\u001b[37m\u001b[0m \u001b[1m1s\u001b[0m 12ms/step - accuracy: 0.8571 - loss: 0.3653 - val_accuracy: 0.8478 - val_loss: 0.3717\n",
      "Epoch 4/50\n",
      "\u001b[1m54/54\u001b[0m \u001b[32m━━━━━━━━━━━━━━━━━━━━\u001b[0m\u001b[37m\u001b[0m \u001b[1m1s\u001b[0m 8ms/step - accuracy: 0.8675 - loss: 0.3380 - val_accuracy: 0.8501 - val_loss: 0.3875\n",
      "Epoch 5/50\n",
      "\u001b[1m54/54\u001b[0m \u001b[32m━━━━━━━━━━━━━━━━━━━━\u001b[0m\u001b[37m\u001b[0m \u001b[1m1s\u001b[0m 14ms/step - accuracy: 0.8578 - loss: 0.3615 - val_accuracy: 0.8384 - val_loss: 0.3885\n",
      "Epoch 6/50\n",
      "\u001b[1m54/54\u001b[0m \u001b[32m━━━━━━━━━━━━━━━━━━━━\u001b[0m\u001b[37m\u001b[0m \u001b[1m1s\u001b[0m 10ms/step - accuracy: 0.8760 - loss: 0.3097 - val_accuracy: 0.8501 - val_loss: 0.3864\n",
      "Epoch 7/50\n",
      "\u001b[1m54/54\u001b[0m \u001b[32m━━━━━━━━━━━━━━━━━━━━\u001b[0m\u001b[37m\u001b[0m \u001b[1m1s\u001b[0m 12ms/step - accuracy: 0.8677 - loss: 0.3261 - val_accuracy: 0.8501 - val_loss: 0.3881\n",
      "Epoch 8/50\n",
      "\u001b[1m54/54\u001b[0m \u001b[32m━━━━━━━━━━━━━━━━━━━━\u001b[0m\u001b[37m\u001b[0m \u001b[1m1s\u001b[0m 9ms/step - accuracy: 0.8841 - loss: 0.3134 - val_accuracy: 0.8361 - val_loss: 0.4231\n",
      "Epoch 9/50\n",
      "\u001b[1m54/54\u001b[0m \u001b[32m━━━━━━━━━━━━━━━━━━━━\u001b[0m\u001b[37m\u001b[0m \u001b[1m1s\u001b[0m 14ms/step - accuracy: 0.8661 - loss: 0.3242 - val_accuracy: 0.8454 - val_loss: 0.3899\n",
      "Epoch 10/50\n",
      "\u001b[1m54/54\u001b[0m \u001b[32m━━━━━━━━━━━━━━━━━━━━\u001b[0m\u001b[37m\u001b[0m \u001b[1m1s\u001b[0m 9ms/step - accuracy: 0.8663 - loss: 0.3052 - val_accuracy: 0.8407 - val_loss: 0.4171\n",
      "Epoch 11/50\n",
      "\u001b[1m54/54\u001b[0m \u001b[32m━━━━━━━━━━━━━━━━━━━━\u001b[0m\u001b[37m\u001b[0m \u001b[1m1s\u001b[0m 10ms/step - accuracy: 0.8713 - loss: 0.2955 - val_accuracy: 0.8501 - val_loss: 0.3812\n",
      "Epoch 12/50\n",
      "\u001b[1m54/54\u001b[0m \u001b[32m━━━━━━━━━━━━━━━━━━━━\u001b[0m\u001b[37m\u001b[0m \u001b[1m1s\u001b[0m 10ms/step - accuracy: 0.8764 - loss: 0.2991 - val_accuracy: 0.8525 - val_loss: 0.4058\n",
      "Epoch 13/50\n",
      "\u001b[1m54/54\u001b[0m \u001b[32m━━━━━━━━━━━━━━━━━━━━\u001b[0m\u001b[37m\u001b[0m \u001b[1m0s\u001b[0m 9ms/step - accuracy: 0.8836 - loss: 0.3072 - val_accuracy: 0.8454 - val_loss: 0.3853\n",
      "Epoch 14/50\n",
      "\u001b[1m54/54\u001b[0m \u001b[32m━━━━━━━━━━━━━━━━━━━━\u001b[0m\u001b[37m\u001b[0m \u001b[1m0s\u001b[0m 9ms/step - accuracy: 0.8784 - loss: 0.2846 - val_accuracy: 0.8431 - val_loss: 0.4168\n",
      "Epoch 15/50\n",
      "\u001b[1m54/54\u001b[0m \u001b[32m━━━━━━━━━━━━━━━━━━━━\u001b[0m\u001b[37m\u001b[0m \u001b[1m0s\u001b[0m 8ms/step - accuracy: 0.8892 - loss: 0.2805 - val_accuracy: 0.8431 - val_loss: 0.3949\n",
      "Epoch 16/50\n",
      "\u001b[1m54/54\u001b[0m \u001b[32m━━━━━━━━━━━━━━━━━━━━\u001b[0m\u001b[37m\u001b[0m \u001b[1m0s\u001b[0m 8ms/step - accuracy: 0.8790 - loss: 0.2889 - val_accuracy: 0.8571 - val_loss: 0.3913\n",
      "Epoch 17/50\n",
      "\u001b[1m54/54\u001b[0m \u001b[32m━━━━━━━━━━━━━━━━━━━━\u001b[0m\u001b[37m\u001b[0m \u001b[1m0s\u001b[0m 8ms/step - accuracy: 0.8737 - loss: 0.3367 - val_accuracy: 0.8454 - val_loss: 0.4047\n",
      "Epoch 18/50\n",
      "\u001b[1m54/54\u001b[0m \u001b[32m━━━━━━━━━━━━━━━━━━━━\u001b[0m\u001b[37m\u001b[0m \u001b[1m1s\u001b[0m 14ms/step - accuracy: 0.8690 - loss: 0.3102 - val_accuracy: 0.8361 - val_loss: 0.4138\n",
      "Epoch 19/50\n",
      "\u001b[1m54/54\u001b[0m \u001b[32m━━━━━━━━━━━━━━━━━━━━\u001b[0m\u001b[37m\u001b[0m \u001b[1m1s\u001b[0m 8ms/step - accuracy: 0.8860 - loss: 0.2767 - val_accuracy: 0.8290 - val_loss: 0.4389\n",
      "Epoch 20/50\n",
      "\u001b[1m54/54\u001b[0m \u001b[32m━━━━━━━━━━━━━━━━━━━━\u001b[0m\u001b[37m\u001b[0m \u001b[1m0s\u001b[0m 7ms/step - accuracy: 0.8757 - loss: 0.2853 - val_accuracy: 0.8454 - val_loss: 0.4149\n",
      "Epoch 21/50\n",
      "\u001b[1m54/54\u001b[0m \u001b[32m━━━━━━━━━━━━━━━━━━━━\u001b[0m\u001b[37m\u001b[0m \u001b[1m0s\u001b[0m 9ms/step - accuracy: 0.8847 - loss: 0.2554 - val_accuracy: 0.8384 - val_loss: 0.4320\n",
      "Epoch 22/50\n",
      "\u001b[1m54/54\u001b[0m \u001b[32m━━━━━━━━━━━━━━━━━━━━\u001b[0m\u001b[37m\u001b[0m \u001b[1m0s\u001b[0m 8ms/step - accuracy: 0.8800 - loss: 0.2652 - val_accuracy: 0.8454 - val_loss: 0.4176\n",
      "Epoch 23/50\n",
      "\u001b[1m54/54\u001b[0m \u001b[32m━━━━━━━━━━━━━━━━━━━━\u001b[0m\u001b[37m\u001b[0m \u001b[1m0s\u001b[0m 8ms/step - accuracy: 0.8861 - loss: 0.2572 - val_accuracy: 0.8454 - val_loss: 0.4337\n",
      "Epoch 24/50\n",
      "\u001b[1m54/54\u001b[0m \u001b[32m━━━━━━━━━━━━━━━━━━━━\u001b[0m\u001b[37m\u001b[0m \u001b[1m0s\u001b[0m 7ms/step - accuracy: 0.8845 - loss: 0.2830 - val_accuracy: 0.8361 - val_loss: 0.4329\n",
      "Epoch 25/50\n",
      "\u001b[1m54/54\u001b[0m \u001b[32m━━━━━━━━━━━━━━━━━━━━\u001b[0m\u001b[37m\u001b[0m \u001b[1m0s\u001b[0m 7ms/step - accuracy: 0.8819 - loss: 0.2919 - val_accuracy: 0.8407 - val_loss: 0.4267\n",
      "Epoch 26/50\n",
      "\u001b[1m54/54\u001b[0m \u001b[32m━━━━━━━━━━━━━━━━━━━━\u001b[0m\u001b[37m\u001b[0m \u001b[1m0s\u001b[0m 7ms/step - accuracy: 0.8886 - loss: 0.2626 - val_accuracy: 0.8407 - val_loss: 0.4439\n",
      "Epoch 27/50\n",
      "\u001b[1m54/54\u001b[0m \u001b[32m━━━━━━━━━━━━━━━━━━━━\u001b[0m\u001b[37m\u001b[0m \u001b[1m0s\u001b[0m 7ms/step - accuracy: 0.8928 - loss: 0.2587 - val_accuracy: 0.8384 - val_loss: 0.4570\n",
      "Epoch 28/50\n",
      "\u001b[1m54/54\u001b[0m \u001b[32m━━━━━━━━━━━━━━━━━━━━\u001b[0m\u001b[37m\u001b[0m \u001b[1m0s\u001b[0m 7ms/step - accuracy: 0.8799 - loss: 0.2655 - val_accuracy: 0.8384 - val_loss: 0.4552\n",
      "Epoch 29/50\n",
      "\u001b[1m54/54\u001b[0m \u001b[32m━━━━━━━━━━━━━━━━━━━━\u001b[0m\u001b[37m\u001b[0m \u001b[1m0s\u001b[0m 8ms/step - accuracy: 0.8913 - loss: 0.2526 - val_accuracy: 0.8361 - val_loss: 0.4161\n",
      "Epoch 30/50\n",
      "\u001b[1m54/54\u001b[0m \u001b[32m━━━━━━━━━━━━━━━━━━━━\u001b[0m\u001b[37m\u001b[0m \u001b[1m0s\u001b[0m 7ms/step - accuracy: 0.8749 - loss: 0.2731 - val_accuracy: 0.8454 - val_loss: 0.4513\n",
      "Epoch 31/50\n",
      "\u001b[1m54/54\u001b[0m \u001b[32m━━━━━━━━━━━━━━━━━━━━\u001b[0m\u001b[37m\u001b[0m \u001b[1m0s\u001b[0m 7ms/step - accuracy: 0.8901 - loss: 0.2741 - val_accuracy: 0.8361 - val_loss: 0.4425\n",
      "Epoch 32/50\n",
      "\u001b[1m54/54\u001b[0m \u001b[32m━━━━━━━━━━━━━━━━━━━━\u001b[0m\u001b[37m\u001b[0m \u001b[1m0s\u001b[0m 7ms/step - accuracy: 0.8879 - loss: 0.2621 - val_accuracy: 0.8407 - val_loss: 0.4397\n",
      "Epoch 33/50\n",
      "\u001b[1m54/54\u001b[0m \u001b[32m━━━━━━━━━━━━━━━━━━━━\u001b[0m\u001b[37m\u001b[0m \u001b[1m0s\u001b[0m 8ms/step - accuracy: 0.8810 - loss: 0.2602 - val_accuracy: 0.8431 - val_loss: 0.4247\n",
      "Epoch 34/50\n",
      "\u001b[1m54/54\u001b[0m \u001b[32m━━━━━━━━━━━━━━━━━━━━\u001b[0m\u001b[37m\u001b[0m \u001b[1m0s\u001b[0m 8ms/step - accuracy: 0.8801 - loss: 0.2754 - val_accuracy: 0.8478 - val_loss: 0.4301\n",
      "Epoch 35/50\n",
      "\u001b[1m54/54\u001b[0m \u001b[32m━━━━━━━━━━━━━━━━━━━━\u001b[0m\u001b[37m\u001b[0m \u001b[1m1s\u001b[0m 9ms/step - accuracy: 0.8952 - loss: 0.2550 - val_accuracy: 0.8454 - val_loss: 0.4381\n",
      "Epoch 36/50\n",
      "\u001b[1m54/54\u001b[0m \u001b[32m━━━━━━━━━━━━━━━━━━━━\u001b[0m\u001b[37m\u001b[0m \u001b[1m1s\u001b[0m 8ms/step - accuracy: 0.8901 - loss: 0.2604 - val_accuracy: 0.8337 - val_loss: 0.4812\n",
      "Epoch 37/50\n",
      "\u001b[1m54/54\u001b[0m \u001b[32m━━━━━━━━━━━━━━━━━━━━\u001b[0m\u001b[37m\u001b[0m \u001b[1m1s\u001b[0m 9ms/step - accuracy: 0.8905 - loss: 0.2432 - val_accuracy: 0.8454 - val_loss: 0.4524\n",
      "Epoch 38/50\n",
      "\u001b[1m54/54\u001b[0m \u001b[32m━━━━━━━━━━━━━━━━━━━━\u001b[0m\u001b[37m\u001b[0m \u001b[1m0s\u001b[0m 8ms/step - accuracy: 0.8930 - loss: 0.2536 - val_accuracy: 0.8431 - val_loss: 0.4405\n",
      "Epoch 39/50\n",
      "\u001b[1m54/54\u001b[0m \u001b[32m━━━━━━━━━━━━━━━━━━━━\u001b[0m\u001b[37m\u001b[0m \u001b[1m1s\u001b[0m 10ms/step - accuracy: 0.8935 - loss: 0.2459 - val_accuracy: 0.8244 - val_loss: 0.4639\n",
      "Epoch 40/50\n",
      "\u001b[1m54/54\u001b[0m \u001b[32m━━━━━━━━━━━━━━━━━━━━\u001b[0m\u001b[37m\u001b[0m \u001b[1m1s\u001b[0m 10ms/step - accuracy: 0.8904 - loss: 0.2673 - val_accuracy: 0.8407 - val_loss: 0.4445\n",
      "Epoch 41/50\n",
      "\u001b[1m54/54\u001b[0m \u001b[32m━━━━━━━━━━━━━━━━━━━━\u001b[0m\u001b[37m\u001b[0m \u001b[1m0s\u001b[0m 8ms/step - accuracy: 0.8946 - loss: 0.2523 - val_accuracy: 0.8314 - val_loss: 0.4607\n",
      "Epoch 42/50\n",
      "\u001b[1m54/54\u001b[0m \u001b[32m━━━━━━━━━━━━━━━━━━━━\u001b[0m\u001b[37m\u001b[0m \u001b[1m0s\u001b[0m 8ms/step - accuracy: 0.8932 - loss: 0.2570 - val_accuracy: 0.8384 - val_loss: 0.4518\n",
      "Epoch 43/50\n",
      "\u001b[1m54/54\u001b[0m \u001b[32m━━━━━━━━━━━━━━━━━━━━\u001b[0m\u001b[37m\u001b[0m \u001b[1m0s\u001b[0m 8ms/step - accuracy: 0.8960 - loss: 0.2508 - val_accuracy: 0.8384 - val_loss: 0.4492\n",
      "Epoch 44/50\n",
      "\u001b[1m54/54\u001b[0m \u001b[32m━━━━━━━━━━━━━━━━━━━━\u001b[0m\u001b[37m\u001b[0m \u001b[1m1s\u001b[0m 9ms/step - accuracy: 0.8951 - loss: 0.2416 - val_accuracy: 0.8314 - val_loss: 0.4575\n",
      "Epoch 45/50\n",
      "\u001b[1m54/54\u001b[0m \u001b[32m━━━━━━━━━━━━━━━━━━━━\u001b[0m\u001b[37m\u001b[0m \u001b[1m1s\u001b[0m 9ms/step - accuracy: 0.8987 - loss: 0.2389 - val_accuracy: 0.8290 - val_loss: 0.4681\n",
      "Epoch 46/50\n",
      "\u001b[1m54/54\u001b[0m \u001b[32m━━━━━━━━━━━━━━━━━━━━\u001b[0m\u001b[37m\u001b[0m \u001b[1m0s\u001b[0m 8ms/step - accuracy: 0.8871 - loss: 0.2633 - val_accuracy: 0.8290 - val_loss: 0.4485\n",
      "Epoch 47/50\n",
      "\u001b[1m54/54\u001b[0m \u001b[32m━━━━━━━━━━━━━━━━━━━━\u001b[0m\u001b[37m\u001b[0m \u001b[1m0s\u001b[0m 7ms/step - accuracy: 0.9049 - loss: 0.2363 - val_accuracy: 0.8337 - val_loss: 0.4369\n",
      "Epoch 48/50\n",
      "\u001b[1m54/54\u001b[0m \u001b[32m━━━━━━━━━━━━━━━━━━━━\u001b[0m\u001b[37m\u001b[0m \u001b[1m0s\u001b[0m 7ms/step - accuracy: 0.8908 - loss: 0.2550 - val_accuracy: 0.8314 - val_loss: 0.4732\n",
      "Epoch 49/50\n",
      "\u001b[1m54/54\u001b[0m \u001b[32m━━━━━━━━━━━━━━━━━━━━\u001b[0m\u001b[37m\u001b[0m \u001b[1m0s\u001b[0m 8ms/step - accuracy: 0.8935 - loss: 0.2519 - val_accuracy: 0.8290 - val_loss: 0.4877\n",
      "Epoch 50/50\n",
      "\u001b[1m54/54\u001b[0m \u001b[32m━━━━━━━━━━━━━━━━━━━━\u001b[0m\u001b[37m\u001b[0m \u001b[1m1s\u001b[0m 9ms/step - accuracy: 0.8908 - loss: 0.2401 - val_accuracy: 0.8337 - val_loss: 0.4714\n",
      "Test accuracy: 83.37%\n"
     ]
    }
   ],
   "source": [
    "train_emotion_classifier_tf(emotions_df_fft_b_preprocessed)"
   ]
  },
  {
   "cell_type": "code",
   "execution_count": 131,
   "metadata": {},
   "outputs": [],
   "source": [
    "class EmotionClassifier(nn.Module):\n",
    "    def __init__(self):\n",
    "        super(EmotionClassifier, self).__init__()\n",
    "        self.lstm1 = nn.LSTM(input_size=32, hidden_size=256, batch_first=True, dropout=0.3, num_layers=1)\n",
    "        self.lstm2 = nn.LSTM(input_size=256, hidden_size=128, batch_first=True, dropout=0.3, num_layers=1)\n",
    "        self.fc1 = nn.Linear(128, 64)\n",
    "        self.fc2 = nn.Linear(64, 3)\n",
    "        self.dropout = nn.Dropout(0.3)\n",
    "        self.relu = nn.ReLU()\n",
    "        self.softmax = nn.Softmax(dim=1)\n",
    "\n",
    "    def forward(self, x):\n",
    "        x, _ = self.lstm1(x)\n",
    "        x, _ = self.lstm2(x)\n",
    "        x = self.dropout(self.relu(self.fc1(x[:, -1, :])))  \n",
    "        x = self.dropout(self.fc2(x))\n",
    "        return self.softmax(x)"
   ]
  },
  {
   "cell_type": "code",
   "execution_count": 156,
   "metadata": {},
   "outputs": [],
   "source": [
    "def plot_confusion_matrix(y_true, y_pred, class_names):\n",
    "    cm = confusion_matrix(y_true, y_pred)\n",
    "    plt.figure(figsize=(8, 6))\n",
    "    sns.heatmap(cm, annot=True, fmt=\"d\", cmap=\"Blues\", xticklabels=class_names, yticklabels=class_names)\n",
    "    plt.ylabel('Actual')\n",
    "    plt.xlabel('Predicted')\n",
    "    plt.title('Confusion Matrix')\n",
    "    plt.show()"
   ]
  },
  {
   "cell_type": "code",
   "execution_count": 157,
   "metadata": {},
   "outputs": [],
   "source": [
    "def train_emotion_classifier_torch(df: pd.DataFrame, y) -> EmotionClassifier:\n",
    "    # Split the data into train and test sets\n",
    "    y_arr = y.to_numpy()\n",
    "    X_train, X_test, y_train, y_test = train_test_split(df, y_arr, test_size=0.2)\n",
    "\n",
    "    # Convert data to PyTorch tensors and reshape\n",
    "    X_train = torch.tensor(X_train.values, dtype=torch.float32).unsqueeze(1)  \n",
    "    X_test = torch.tensor(X_test.values, dtype=torch.float32).unsqueeze(1)\n",
    "    y_train = torch.tensor(y_train, dtype=torch.long)\n",
    "    y_test = torch.tensor(y_test, dtype=torch.long)\n",
    "\n",
    "    # Create data loaders\n",
    "    train_data = TensorDataset(X_train, y_train)\n",
    "    test_data = TensorDataset(X_test, y_test)\n",
    "    train_loader = DataLoader(train_data, batch_size=32, shuffle=True)\n",
    "    test_loader = DataLoader(test_data, batch_size=32, shuffle=False)\n",
    "\n",
    "    # Create the model, loss function, and optimizer\n",
    "    model = EmotionClassifier()\n",
    "    criterion = nn.CrossEntropyLoss() # loss function\n",
    "    optimizer = optim.Adam(model.parameters(), lr=0.001)\n",
    "\n",
    "    # Train the model\n",
    "    epochs = 50\n",
    "    for epoch in range(epochs):\n",
    "        model.train()\n",
    "        running_loss = 0.0\n",
    "        correct = 0\n",
    "        total = 0\n",
    "\n",
    "        for inputs, labels in train_loader:\n",
    "            optimizer.zero_grad()\n",
    "            outputs = model(inputs)\n",
    "            loss = criterion(outputs, labels)\n",
    "            loss.backward()\n",
    "            optimizer.step()\n",
    "\n",
    "            running_loss += loss.item()\n",
    "            predicted = torch.max(outputs, 1)[1]\n",
    "            total += labels.size(0)\n",
    "            correct += (predicted == labels).sum().item()\n",
    "\n",
    "        train_accuracy = 100 * (correct / total)\n",
    "        print(f'Epoch {epoch + 1}/{epochs}, Loss: {running_loss:.4f}, Train Accuracy: {train_accuracy:.2f}%')\n",
    "\n",
    "    # Validate the model\n",
    "    model.eval()\n",
    "    correct = 0\n",
    "    total = 0\n",
    "    with torch.no_grad():\n",
    "        for inputs, labels in test_loader:\n",
    "            outputs = model(inputs)\n",
    "            predicted = torch.max(outputs, 1)[1]\n",
    "            total += labels.size(0)\n",
    "            correct += (predicted == labels).sum().item()\n",
    "\n",
    "    test_accuracy = 100 * (correct / total)\n",
    "    print(f'Test Accuracy: {test_accuracy:.2f}%')\n",
    "    \n",
    "    # Visualize results\n",
    "    \n",
    "    y_pred = model.predict(X_test)\n",
    "    y_pred_classes = y_pred.argmax(axis=1)\n",
    "    plot_confusion_matrix(y_test, y_pred, y_pred_classes)\n",
    "    \n",
    "    return model"
   ]
  },
  {
   "cell_type": "code",
   "execution_count": 158,
   "metadata": {},
   "outputs": [
    {
     "name": "stderr",
     "output_type": "stream",
     "text": [
      "c:\\Users\\sean\\miniconda3\\Lib\\site-packages\\torch\\nn\\modules\\rnn.py:83: UserWarning: dropout option adds dropout after all but last recurrent layer, so non-zero dropout expects num_layers greater than 1, but got dropout=0.3 and num_layers=1\n",
      "  warnings.warn(\"dropout option adds dropout after all but last \"\n"
     ]
    },
    {
     "name": "stdout",
     "output_type": "stream",
     "text": [
      "Epoch 1/50, Loss: 49.5744, Train Accuracy: 66.92%\n",
      "Epoch 2/50, Loss: 40.9203, Train Accuracy: 79.41%\n",
      "Epoch 3/50, Loss: 40.5277, Train Accuracy: 78.94%\n",
      "Epoch 4/50, Loss: 39.7778, Train Accuracy: 80.70%\n",
      "Epoch 5/50, Loss: 39.9012, Train Accuracy: 80.82%\n",
      "Epoch 6/50, Loss: 40.2381, Train Accuracy: 80.41%\n",
      "Epoch 7/50, Loss: 40.2401, Train Accuracy: 79.71%\n",
      "Epoch 8/50, Loss: 39.9301, Train Accuracy: 79.53%\n",
      "Epoch 9/50, Loss: 39.5499, Train Accuracy: 81.52%\n",
      "Epoch 10/50, Loss: 40.1023, Train Accuracy: 80.35%\n",
      "Epoch 11/50, Loss: 39.5246, Train Accuracy: 80.53%\n",
      "Epoch 12/50, Loss: 39.4935, Train Accuracy: 81.47%\n",
      "Epoch 13/50, Loss: 39.3889, Train Accuracy: 81.35%\n",
      "Epoch 14/50, Loss: 39.2607, Train Accuracy: 80.59%\n",
      "Epoch 15/50, Loss: 39.5322, Train Accuracy: 80.94%\n",
      "Epoch 16/50, Loss: 39.7108, Train Accuracy: 79.59%\n",
      "Epoch 17/50, Loss: 39.2462, Train Accuracy: 80.23%\n",
      "Epoch 18/50, Loss: 39.7619, Train Accuracy: 80.00%\n",
      "Epoch 19/50, Loss: 39.1831, Train Accuracy: 81.11%\n",
      "Epoch 20/50, Loss: 39.4841, Train Accuracy: 80.59%\n",
      "Epoch 21/50, Loss: 39.3718, Train Accuracy: 80.82%\n",
      "Epoch 22/50, Loss: 39.5708, Train Accuracy: 80.70%\n",
      "Epoch 23/50, Loss: 39.3465, Train Accuracy: 81.00%\n",
      "Epoch 24/50, Loss: 39.3361, Train Accuracy: 81.52%\n",
      "Epoch 25/50, Loss: 38.7260, Train Accuracy: 82.46%\n",
      "Epoch 26/50, Loss: 38.8202, Train Accuracy: 82.64%\n",
      "Epoch 27/50, Loss: 39.2853, Train Accuracy: 80.88%\n",
      "Epoch 28/50, Loss: 39.1768, Train Accuracy: 81.94%\n",
      "Epoch 29/50, Loss: 39.1175, Train Accuracy: 81.82%\n",
      "Epoch 30/50, Loss: 39.2238, Train Accuracy: 80.88%\n",
      "Epoch 31/50, Loss: 38.9083, Train Accuracy: 82.23%\n",
      "Epoch 32/50, Loss: 39.2782, Train Accuracy: 82.35%\n",
      "Epoch 33/50, Loss: 39.0904, Train Accuracy: 81.35%\n",
      "Epoch 34/50, Loss: 38.9079, Train Accuracy: 81.82%\n",
      "Epoch 35/50, Loss: 39.2586, Train Accuracy: 81.35%\n",
      "Epoch 36/50, Loss: 39.8264, Train Accuracy: 80.23%\n",
      "Epoch 37/50, Loss: 38.8881, Train Accuracy: 82.40%\n",
      "Epoch 38/50, Loss: 39.1744, Train Accuracy: 81.64%\n",
      "Epoch 39/50, Loss: 39.1148, Train Accuracy: 81.23%\n",
      "Epoch 40/50, Loss: 39.0233, Train Accuracy: 81.52%\n",
      "Epoch 41/50, Loss: 39.7001, Train Accuracy: 80.18%\n",
      "Epoch 42/50, Loss: 39.1500, Train Accuracy: 82.46%\n",
      "Epoch 43/50, Loss: 39.2046, Train Accuracy: 82.70%\n",
      "Epoch 44/50, Loss: 39.3684, Train Accuracy: 81.88%\n",
      "Epoch 45/50, Loss: 39.2169, Train Accuracy: 81.52%\n",
      "Epoch 46/50, Loss: 39.2142, Train Accuracy: 81.64%\n",
      "Epoch 47/50, Loss: 39.0100, Train Accuracy: 81.88%\n",
      "Epoch 48/50, Loss: 38.7305, Train Accuracy: 82.82%\n",
      "Epoch 49/50, Loss: 39.3458, Train Accuracy: 81.58%\n",
      "Epoch 50/50, Loss: 38.9873, Train Accuracy: 81.11%\n",
      "Test Accuracy: 82.44%\n"
     ]
    },
    {
     "ename": "AttributeError",
     "evalue": "'EmotionClassifier' object has no attribute 'predict'",
     "output_type": "error",
     "traceback": [
      "\u001b[1;31m---------------------------------------------------------------------------\u001b[0m",
      "\u001b[1;31mAttributeError\u001b[0m                            Traceback (most recent call last)",
      "Cell \u001b[1;32mIn[158], line 1\u001b[0m\n\u001b[1;32m----> 1\u001b[0m emotion_classifier_torch \u001b[38;5;241m=\u001b[39m \u001b[43mtrain_emotion_classifier_torch\u001b[49m\u001b[43m(\u001b[49m\u001b[43memotions_df_fft_a_preprocessed\u001b[49m\u001b[43m,\u001b[49m\u001b[43m \u001b[49m\u001b[43my_mapped\u001b[49m\u001b[43m)\u001b[49m\n",
      "Cell \u001b[1;32mIn[157], line 62\u001b[0m, in \u001b[0;36mtrain_emotion_classifier_torch\u001b[1;34m(df, y)\u001b[0m\n\u001b[0;32m     58\u001b[0m \u001b[38;5;28mprint\u001b[39m(\u001b[38;5;124mf\u001b[39m\u001b[38;5;124m'\u001b[39m\u001b[38;5;124mTest Accuracy: \u001b[39m\u001b[38;5;132;01m{\u001b[39;00mtest_accuracy\u001b[38;5;132;01m:\u001b[39;00m\u001b[38;5;124m.2f\u001b[39m\u001b[38;5;132;01m}\u001b[39;00m\u001b[38;5;124m%\u001b[39m\u001b[38;5;124m'\u001b[39m)\n\u001b[0;32m     60\u001b[0m \u001b[38;5;66;03m# Visualize results\u001b[39;00m\n\u001b[1;32m---> 62\u001b[0m y_pred \u001b[38;5;241m=\u001b[39m \u001b[43mmodel\u001b[49m\u001b[38;5;241;43m.\u001b[39;49m\u001b[43mpredict\u001b[49m(X_test)\n\u001b[0;32m     63\u001b[0m y_pred_classes \u001b[38;5;241m=\u001b[39m y_pred\u001b[38;5;241m.\u001b[39margmax(axis\u001b[38;5;241m=\u001b[39m\u001b[38;5;241m1\u001b[39m)\n\u001b[0;32m     64\u001b[0m plot_confusion_matrix(y_test, y_pred, y_pred_classes)\n",
      "File \u001b[1;32mc:\\Users\\sean\\miniconda3\\Lib\\site-packages\\torch\\nn\\modules\\module.py:1688\u001b[0m, in \u001b[0;36mModule.__getattr__\u001b[1;34m(self, name)\u001b[0m\n\u001b[0;32m   1686\u001b[0m     \u001b[38;5;28;01mif\u001b[39;00m name \u001b[38;5;129;01min\u001b[39;00m modules:\n\u001b[0;32m   1687\u001b[0m         \u001b[38;5;28;01mreturn\u001b[39;00m modules[name]\n\u001b[1;32m-> 1688\u001b[0m \u001b[38;5;28;01mraise\u001b[39;00m \u001b[38;5;167;01mAttributeError\u001b[39;00m(\u001b[38;5;124mf\u001b[39m\u001b[38;5;124m\"\u001b[39m\u001b[38;5;124m'\u001b[39m\u001b[38;5;132;01m{\u001b[39;00m\u001b[38;5;28mtype\u001b[39m(\u001b[38;5;28mself\u001b[39m)\u001b[38;5;241m.\u001b[39m\u001b[38;5;18m__name__\u001b[39m\u001b[38;5;132;01m}\u001b[39;00m\u001b[38;5;124m'\u001b[39m\u001b[38;5;124m object has no attribute \u001b[39m\u001b[38;5;124m'\u001b[39m\u001b[38;5;132;01m{\u001b[39;00mname\u001b[38;5;132;01m}\u001b[39;00m\u001b[38;5;124m'\u001b[39m\u001b[38;5;124m\"\u001b[39m)\n",
      "\u001b[1;31mAttributeError\u001b[0m: 'EmotionClassifier' object has no attribute 'predict'"
     ]
    }
   ],
   "source": [
    "emotion_classifier_torch = train_emotion_classifier_torch(emotions_df_fft_a_preprocessed, y_mapped)"
   ]
  },
  {
   "cell_type": "code",
   "execution_count": null,
   "metadata": {},
   "outputs": [],
   "source": []
  },
  {
   "cell_type": "code",
   "execution_count": 146,
   "metadata": {},
   "outputs": [
    {
     "name": "stdout",
     "output_type": "stream",
     "text": [
      "Epoch 1/50, Loss: 50.6191, Train Accuracy: 64.57%\n",
      "Epoch 2/50, Loss: 41.2898, Train Accuracy: 78.12%\n",
      "Epoch 3/50, Loss: 40.7652, Train Accuracy: 78.65%\n",
      "Epoch 4/50, Loss: 39.8069, Train Accuracy: 80.29%\n",
      "Epoch 5/50, Loss: 39.8066, Train Accuracy: 81.29%\n",
      "Epoch 6/50, Loss: 39.9653, Train Accuracy: 79.82%\n",
      "Epoch 7/50, Loss: 39.4436, Train Accuracy: 81.00%\n",
      "Epoch 8/50, Loss: 39.6827, Train Accuracy: 80.00%\n",
      "Epoch 9/50, Loss: 40.5373, Train Accuracy: 78.77%\n",
      "Epoch 10/50, Loss: 39.8608, Train Accuracy: 80.29%\n",
      "Epoch 11/50, Loss: 40.1597, Train Accuracy: 80.41%\n",
      "Epoch 12/50, Loss: 39.7127, Train Accuracy: 80.12%\n",
      "Epoch 13/50, Loss: 40.0040, Train Accuracy: 80.29%\n",
      "Epoch 14/50, Loss: 39.1427, Train Accuracy: 81.82%\n",
      "Epoch 15/50, Loss: 39.8736, Train Accuracy: 80.18%\n",
      "Epoch 16/50, Loss: 39.3082, Train Accuracy: 80.94%\n",
      "Epoch 17/50, Loss: 40.2912, Train Accuracy: 79.59%\n",
      "Epoch 18/50, Loss: 39.8204, Train Accuracy: 80.06%\n",
      "Epoch 19/50, Loss: 39.6249, Train Accuracy: 80.23%\n",
      "Epoch 20/50, Loss: 39.5991, Train Accuracy: 80.35%\n",
      "Epoch 21/50, Loss: 39.8143, Train Accuracy: 80.23%\n",
      "Epoch 22/50, Loss: 39.1117, Train Accuracy: 81.41%\n",
      "Epoch 23/50, Loss: 39.4835, Train Accuracy: 81.06%\n",
      "Epoch 24/50, Loss: 39.3875, Train Accuracy: 81.41%\n",
      "Epoch 25/50, Loss: 39.8110, Train Accuracy: 80.59%\n",
      "Epoch 26/50, Loss: 40.0924, Train Accuracy: 78.83%\n",
      "Epoch 27/50, Loss: 39.2679, Train Accuracy: 81.06%\n",
      "Epoch 28/50, Loss: 39.3579, Train Accuracy: 80.29%\n",
      "Epoch 29/50, Loss: 39.5027, Train Accuracy: 80.47%\n",
      "Epoch 30/50, Loss: 39.6711, Train Accuracy: 81.11%\n",
      "Epoch 31/50, Loss: 39.9805, Train Accuracy: 80.35%\n",
      "Epoch 32/50, Loss: 39.5088, Train Accuracy: 81.00%\n",
      "Epoch 33/50, Loss: 39.6253, Train Accuracy: 80.18%\n",
      "Epoch 34/50, Loss: 39.2794, Train Accuracy: 81.58%\n",
      "Epoch 35/50, Loss: 39.2341, Train Accuracy: 81.35%\n",
      "Epoch 36/50, Loss: 39.8128, Train Accuracy: 81.00%\n",
      "Epoch 37/50, Loss: 39.4654, Train Accuracy: 80.59%\n",
      "Epoch 38/50, Loss: 39.5620, Train Accuracy: 80.94%\n",
      "Epoch 39/50, Loss: 39.0388, Train Accuracy: 81.94%\n",
      "Epoch 40/50, Loss: 39.0800, Train Accuracy: 81.35%\n",
      "Epoch 41/50, Loss: 39.4794, Train Accuracy: 80.70%\n",
      "Epoch 42/50, Loss: 39.8183, Train Accuracy: 80.06%\n",
      "Epoch 43/50, Loss: 39.6670, Train Accuracy: 79.77%\n",
      "Epoch 44/50, Loss: 39.9915, Train Accuracy: 80.35%\n",
      "Epoch 45/50, Loss: 39.5512, Train Accuracy: 80.18%\n",
      "Epoch 46/50, Loss: 39.0927, Train Accuracy: 82.35%\n",
      "Epoch 47/50, Loss: 39.3295, Train Accuracy: 82.05%\n",
      "Epoch 48/50, Loss: 39.6650, Train Accuracy: 81.11%\n",
      "Epoch 49/50, Loss: 38.4767, Train Accuracy: 82.23%\n",
      "Epoch 50/50, Loss: 39.5164, Train Accuracy: 80.94%\n",
      "Test Accuracy: 83.37%\n"
     ]
    }
   ],
   "source": [
    "train_emotion_classifier_torch(emotions_df_fft_b_preprocessed, y_mapped)"
   ]
  }
 ],
 "metadata": {
  "kernelspec": {
   "display_name": "base",
   "language": "python",
   "name": "python3"
  },
  "language_info": {
   "codemirror_mode": {
    "name": "ipython",
    "version": 3
   },
   "file_extension": ".py",
   "mimetype": "text/x-python",
   "name": "python",
   "nbconvert_exporter": "python",
   "pygments_lexer": "ipython3",
   "version": "3.12.2"
  }
 },
 "nbformat": 4,
 "nbformat_minor": 2
}
