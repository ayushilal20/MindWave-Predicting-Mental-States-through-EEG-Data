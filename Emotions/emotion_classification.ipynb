{
 "cells": [
  {
   "cell_type": "code",
   "execution_count": 1,
   "metadata": {},
   "outputs": [],
   "source": [
    "import numpy as np \n",
    "import pandas as pd "
   ]
  },
  {
   "cell_type": "code",
   "execution_count": 2,
   "metadata": {},
   "outputs": [],
   "source": [
    "from sklearn import tree\n",
    "from sklearn.decomposition import PCA\n",
    "from sklearn.preprocessing import StandardScaler\n",
    "from sklearn.feature_selection import RFECV\n",
    "from sklearn.tree import DecisionTreeClassifier\n",
    "from sklearn.model_selection import StratifiedKFold, train_test_split, GridSearchCV\n",
    "from sklearn.metrics import accuracy_score, confusion_matrix\n",
    "from sklearn.ensemble import RandomForestClassifier"
   ]
  },
  {
   "cell_type": "code",
   "execution_count": 3,
   "metadata": {},
   "outputs": [],
   "source": [
    "import matplotlib.pyplot as plt\n",
    "import seaborn as sns"
   ]
  },
  {
   "cell_type": "code",
   "execution_count": 4,
   "metadata": {},
   "outputs": [],
   "source": [
    "import tensorflow as tf\n",
    "from tensorflow.keras.models import Sequential\n",
    "from tensorflow.keras.layers import LSTM, Dense, Dropout\n",
    "from tensorflow.keras.utils import to_categorical"
   ]
  },
  {
   "cell_type": "code",
   "execution_count": 5,
   "metadata": {},
   "outputs": [],
   "source": [
    "import torch\n",
    "import torch.nn as nn\n",
    "import torch.optim as optim\n",
    "from torch.utils.data import DataLoader, TensorDataset"
   ]
  },
  {
   "cell_type": "markdown",
   "metadata": {},
   "source": [
    "**Load data from csv files.**"
   ]
  },
  {
   "cell_type": "code",
   "execution_count": 7,
   "metadata": {},
   "outputs": [],
   "source": [
    "emotions_df = pd.read_csv(\"C:/SEAN/GA Tech Academics/Grad/Fall 2024/ML CSE 8803/ML-CSE-8803-Team-2/Emotions/Datasets/emotions.csv\", header = 0)"
   ]
  },
  {
   "cell_type": "code",
   "execution_count": 8,
   "metadata": {},
   "outputs": [
    {
     "name": "stdout",
     "output_type": "stream",
     "text": [
      "(2132, 2549)\n"
     ]
    }
   ],
   "source": [
    "print(emotions_df.shape)"
   ]
  },
  {
   "cell_type": "markdown",
   "metadata": {},
   "source": [
    "Extract the FFT columns from the dataset. The original dataset is over 2500 columns, so we absolutely need to reduce the dimensionality. Some of the columns are the result of Fast Fourier Transform (FFT). EEG signals are inherently time series data, but much of the brain’s cognitive and emotional information is encoded in specific frequency waves (e.g. alpha, beta, gamma). Thus FFT transforms raw EEG data into these frequency components, which are more interpretable and better suited for detecting emotional states."
   ]
  },
  {
   "cell_type": "code",
   "execution_count": 9,
   "metadata": {},
   "outputs": [],
   "source": [
    "emotions_df_fft_a = emotions_df.loc[:, 'fft_0_a':'fft_749_a']"
   ]
  },
  {
   "cell_type": "code",
   "execution_count": 10,
   "metadata": {},
   "outputs": [],
   "source": [
    "emotions_df_fft_b = emotions_df.loc[:, 'fft_0_b':'fft_749_b']"
   ]
  },
  {
   "cell_type": "code",
   "execution_count": 11,
   "metadata": {},
   "outputs": [
    {
     "data": {
      "text/html": [
       "<div>\n",
       "<style scoped>\n",
       "    .dataframe tbody tr th:only-of-type {\n",
       "        vertical-align: middle;\n",
       "    }\n",
       "\n",
       "    .dataframe tbody tr th {\n",
       "        vertical-align: top;\n",
       "    }\n",
       "\n",
       "    .dataframe thead th {\n",
       "        text-align: right;\n",
       "    }\n",
       "</style>\n",
       "<table border=\"1\" class=\"dataframe\">\n",
       "  <thead>\n",
       "    <tr style=\"text-align: right;\">\n",
       "      <th></th>\n",
       "      <th>fft_0_a</th>\n",
       "      <th>fft_1_a</th>\n",
       "      <th>fft_2_a</th>\n",
       "      <th>fft_3_a</th>\n",
       "      <th>fft_4_a</th>\n",
       "      <th>fft_5_a</th>\n",
       "      <th>fft_6_a</th>\n",
       "      <th>fft_7_a</th>\n",
       "      <th>fft_8_a</th>\n",
       "      <th>fft_9_a</th>\n",
       "      <th>...</th>\n",
       "      <th>fft_740_a</th>\n",
       "      <th>fft_741_a</th>\n",
       "      <th>fft_742_a</th>\n",
       "      <th>fft_743_a</th>\n",
       "      <th>fft_744_a</th>\n",
       "      <th>fft_745_a</th>\n",
       "      <th>fft_746_a</th>\n",
       "      <th>fft_747_a</th>\n",
       "      <th>fft_748_a</th>\n",
       "      <th>fft_749_a</th>\n",
       "    </tr>\n",
       "  </thead>\n",
       "  <tbody>\n",
       "    <tr>\n",
       "      <th>0</th>\n",
       "      <td>-520.0</td>\n",
       "      <td>398.00</td>\n",
       "      <td>-201.0</td>\n",
       "      <td>-201.0</td>\n",
       "      <td>398.00</td>\n",
       "      <td>-52.2</td>\n",
       "      <td>121.00</td>\n",
       "      <td>-64.0</td>\n",
       "      <td>-64.0</td>\n",
       "      <td>121.00</td>\n",
       "      <td>...</td>\n",
       "      <td>179.0</td>\n",
       "      <td>26.4</td>\n",
       "      <td>-12.9</td>\n",
       "      <td>-12.9</td>\n",
       "      <td>26.4</td>\n",
       "      <td>-474.00</td>\n",
       "      <td>442.0</td>\n",
       "      <td>-222.00</td>\n",
       "      <td>-222.00</td>\n",
       "      <td>442.0</td>\n",
       "    </tr>\n",
       "    <tr>\n",
       "      <th>1</th>\n",
       "      <td>66.2</td>\n",
       "      <td>-4.30</td>\n",
       "      <td>43.6</td>\n",
       "      <td>43.6</td>\n",
       "      <td>-4.30</td>\n",
       "      <td>66.0</td>\n",
       "      <td>-29.00</td>\n",
       "      <td>73.3</td>\n",
       "      <td>73.3</td>\n",
       "      <td>-29.00</td>\n",
       "      <td>...</td>\n",
       "      <td>184.0</td>\n",
       "      <td>17.0</td>\n",
       "      <td>-18.9</td>\n",
       "      <td>-18.9</td>\n",
       "      <td>17.0</td>\n",
       "      <td>189.00</td>\n",
       "      <td>-19.6</td>\n",
       "      <td>-8.37</td>\n",
       "      <td>-8.37</td>\n",
       "      <td>-19.6</td>\n",
       "    </tr>\n",
       "    <tr>\n",
       "      <th>2</th>\n",
       "      <td>-90.8</td>\n",
       "      <td>204.00</td>\n",
       "      <td>-77.1</td>\n",
       "      <td>-77.1</td>\n",
       "      <td>204.00</td>\n",
       "      <td>-488.0</td>\n",
       "      <td>415.00</td>\n",
       "      <td>-187.0</td>\n",
       "      <td>-187.0</td>\n",
       "      <td>415.00</td>\n",
       "      <td>...</td>\n",
       "      <td>-796.0</td>\n",
       "      <td>631.0</td>\n",
       "      <td>-261.0</td>\n",
       "      <td>-261.0</td>\n",
       "      <td>631.0</td>\n",
       "      <td>-86.40</td>\n",
       "      <td>176.0</td>\n",
       "      <td>-100.00</td>\n",
       "      <td>-100.00</td>\n",
       "      <td>176.0</td>\n",
       "    </tr>\n",
       "    <tr>\n",
       "      <th>3</th>\n",
       "      <td>119.0</td>\n",
       "      <td>6.25</td>\n",
       "      <td>10.9</td>\n",
       "      <td>10.9</td>\n",
       "      <td>6.25</td>\n",
       "      <td>-333.0</td>\n",
       "      <td>283.00</td>\n",
       "      <td>-144.0</td>\n",
       "      <td>-144.0</td>\n",
       "      <td>283.00</td>\n",
       "      <td>...</td>\n",
       "      <td>-474.0</td>\n",
       "      <td>439.0</td>\n",
       "      <td>-221.0</td>\n",
       "      <td>-221.0</td>\n",
       "      <td>439.0</td>\n",
       "      <td>272.00</td>\n",
       "      <td>-87.7</td>\n",
       "      <td>32.40</td>\n",
       "      <td>32.40</td>\n",
       "      <td>-87.7</td>\n",
       "    </tr>\n",
       "    <tr>\n",
       "      <th>4</th>\n",
       "      <td>59.0</td>\n",
       "      <td>-2.37</td>\n",
       "      <td>10.8</td>\n",
       "      <td>10.8</td>\n",
       "      <td>-2.37</td>\n",
       "      <td>118.0</td>\n",
       "      <td>-1.81</td>\n",
       "      <td>26.7</td>\n",
       "      <td>26.7</td>\n",
       "      <td>-1.81</td>\n",
       "      <td>...</td>\n",
       "      <td>30.7</td>\n",
       "      <td>50.3</td>\n",
       "      <td>-111.0</td>\n",
       "      <td>-111.0</td>\n",
       "      <td>50.3</td>\n",
       "      <td>-2.43</td>\n",
       "      <td>30.5</td>\n",
       "      <td>-152.00</td>\n",
       "      <td>-152.00</td>\n",
       "      <td>30.5</td>\n",
       "    </tr>\n",
       "  </tbody>\n",
       "</table>\n",
       "<p>5 rows × 750 columns</p>\n",
       "</div>"
      ],
      "text/plain": [
       "   fft_0_a  fft_1_a  fft_2_a  fft_3_a  fft_4_a  fft_5_a  fft_6_a  fft_7_a  \\\n",
       "0   -520.0   398.00   -201.0   -201.0   398.00    -52.2   121.00    -64.0   \n",
       "1     66.2    -4.30     43.6     43.6    -4.30     66.0   -29.00     73.3   \n",
       "2    -90.8   204.00    -77.1    -77.1   204.00   -488.0   415.00   -187.0   \n",
       "3    119.0     6.25     10.9     10.9     6.25   -333.0   283.00   -144.0   \n",
       "4     59.0    -2.37     10.8     10.8    -2.37    118.0    -1.81     26.7   \n",
       "\n",
       "   fft_8_a  fft_9_a  ...  fft_740_a  fft_741_a  fft_742_a  fft_743_a  \\\n",
       "0    -64.0   121.00  ...      179.0       26.4      -12.9      -12.9   \n",
       "1     73.3   -29.00  ...      184.0       17.0      -18.9      -18.9   \n",
       "2   -187.0   415.00  ...     -796.0      631.0     -261.0     -261.0   \n",
       "3   -144.0   283.00  ...     -474.0      439.0     -221.0     -221.0   \n",
       "4     26.7    -1.81  ...       30.7       50.3     -111.0     -111.0   \n",
       "\n",
       "   fft_744_a  fft_745_a  fft_746_a  fft_747_a  fft_748_a  fft_749_a  \n",
       "0       26.4    -474.00      442.0    -222.00    -222.00      442.0  \n",
       "1       17.0     189.00      -19.6      -8.37      -8.37      -19.6  \n",
       "2      631.0     -86.40      176.0    -100.00    -100.00      176.0  \n",
       "3      439.0     272.00      -87.7      32.40      32.40      -87.7  \n",
       "4       50.3      -2.43       30.5    -152.00    -152.00       30.5  \n",
       "\n",
       "[5 rows x 750 columns]"
      ]
     },
     "execution_count": 11,
     "metadata": {},
     "output_type": "execute_result"
    }
   ],
   "source": [
    "emotions_df_fft_a.head()"
   ]
  },
  {
   "cell_type": "code",
   "execution_count": 12,
   "metadata": {},
   "outputs": [
    {
     "data": {
      "text/html": [
       "<div>\n",
       "<style scoped>\n",
       "    .dataframe tbody tr th:only-of-type {\n",
       "        vertical-align: middle;\n",
       "    }\n",
       "\n",
       "    .dataframe tbody tr th {\n",
       "        vertical-align: top;\n",
       "    }\n",
       "\n",
       "    .dataframe thead th {\n",
       "        text-align: right;\n",
       "    }\n",
       "</style>\n",
       "<table border=\"1\" class=\"dataframe\">\n",
       "  <thead>\n",
       "    <tr style=\"text-align: right;\">\n",
       "      <th></th>\n",
       "      <th>fft_0_b</th>\n",
       "      <th>fft_1_b</th>\n",
       "      <th>fft_2_b</th>\n",
       "      <th>fft_3_b</th>\n",
       "      <th>fft_4_b</th>\n",
       "      <th>fft_5_b</th>\n",
       "      <th>fft_6_b</th>\n",
       "      <th>fft_7_b</th>\n",
       "      <th>fft_8_b</th>\n",
       "      <th>fft_9_b</th>\n",
       "      <th>...</th>\n",
       "      <th>fft_740_b</th>\n",
       "      <th>fft_741_b</th>\n",
       "      <th>fft_742_b</th>\n",
       "      <th>fft_743_b</th>\n",
       "      <th>fft_744_b</th>\n",
       "      <th>fft_745_b</th>\n",
       "      <th>fft_746_b</th>\n",
       "      <th>fft_747_b</th>\n",
       "      <th>fft_748_b</th>\n",
       "      <th>fft_749_b</th>\n",
       "    </tr>\n",
       "  </thead>\n",
       "  <tbody>\n",
       "    <tr>\n",
       "      <th>0</th>\n",
       "      <td>-508.0</td>\n",
       "      <td>438.00</td>\n",
       "      <td>-222.00</td>\n",
       "      <td>-222.00</td>\n",
       "      <td>438.00</td>\n",
       "      <td>143.0</td>\n",
       "      <td>59.40</td>\n",
       "      <td>5.05</td>\n",
       "      <td>5.05</td>\n",
       "      <td>59.40</td>\n",
       "      <td>...</td>\n",
       "      <td>74.3</td>\n",
       "      <td>23.5</td>\n",
       "      <td>20.3</td>\n",
       "      <td>20.3</td>\n",
       "      <td>23.5</td>\n",
       "      <td>-215.0</td>\n",
       "      <td>280.00</td>\n",
       "      <td>-162.00</td>\n",
       "      <td>-162.00</td>\n",
       "      <td>280.00</td>\n",
       "    </tr>\n",
       "    <tr>\n",
       "      <th>1</th>\n",
       "      <td>126.0</td>\n",
       "      <td>-4.00</td>\n",
       "      <td>7.42</td>\n",
       "      <td>7.42</td>\n",
       "      <td>-4.00</td>\n",
       "      <td>81.6</td>\n",
       "      <td>-22.30</td>\n",
       "      <td>35.30</td>\n",
       "      <td>35.30</td>\n",
       "      <td>-22.30</td>\n",
       "      <td>...</td>\n",
       "      <td>130.0</td>\n",
       "      <td>-23.3</td>\n",
       "      <td>-21.8</td>\n",
       "      <td>-21.8</td>\n",
       "      <td>-23.3</td>\n",
       "      <td>182.0</td>\n",
       "      <td>2.57</td>\n",
       "      <td>-31.60</td>\n",
       "      <td>-31.60</td>\n",
       "      <td>2.57</td>\n",
       "    </tr>\n",
       "    <tr>\n",
       "      <th>2</th>\n",
       "      <td>-85.9</td>\n",
       "      <td>361.00</td>\n",
       "      <td>-62.20</td>\n",
       "      <td>-62.20</td>\n",
       "      <td>361.00</td>\n",
       "      <td>-558.0</td>\n",
       "      <td>684.00</td>\n",
       "      <td>-152.00</td>\n",
       "      <td>-152.00</td>\n",
       "      <td>684.00</td>\n",
       "      <td>...</td>\n",
       "      <td>-534.0</td>\n",
       "      <td>462.0</td>\n",
       "      <td>-233.0</td>\n",
       "      <td>-233.0</td>\n",
       "      <td>462.0</td>\n",
       "      <td>-267.0</td>\n",
       "      <td>281.00</td>\n",
       "      <td>-148.00</td>\n",
       "      <td>-148.00</td>\n",
       "      <td>281.00</td>\n",
       "    </tr>\n",
       "    <tr>\n",
       "      <th>3</th>\n",
       "      <td>69.5</td>\n",
       "      <td>3.89</td>\n",
       "      <td>12.10</td>\n",
       "      <td>12.10</td>\n",
       "      <td>3.89</td>\n",
       "      <td>-188.0</td>\n",
       "      <td>274.00</td>\n",
       "      <td>-200.00</td>\n",
       "      <td>-200.00</td>\n",
       "      <td>274.00</td>\n",
       "      <td>...</td>\n",
       "      <td>-183.0</td>\n",
       "      <td>299.0</td>\n",
       "      <td>-243.0</td>\n",
       "      <td>-243.0</td>\n",
       "      <td>299.0</td>\n",
       "      <td>132.0</td>\n",
       "      <td>-12.40</td>\n",
       "      <td>9.53</td>\n",
       "      <td>9.53</td>\n",
       "      <td>-12.40</td>\n",
       "    </tr>\n",
       "    <tr>\n",
       "      <th>4</th>\n",
       "      <td>226.0</td>\n",
       "      <td>-27.40</td>\n",
       "      <td>147.00</td>\n",
       "      <td>147.00</td>\n",
       "      <td>-27.40</td>\n",
       "      <td>301.0</td>\n",
       "      <td>-8.48</td>\n",
       "      <td>138.00</td>\n",
       "      <td>138.00</td>\n",
       "      <td>-8.48</td>\n",
       "      <td>...</td>\n",
       "      <td>114.0</td>\n",
       "      <td>12.0</td>\n",
       "      <td>38.1</td>\n",
       "      <td>38.1</td>\n",
       "      <td>12.0</td>\n",
       "      <td>119.0</td>\n",
       "      <td>-17.60</td>\n",
       "      <td>23.90</td>\n",
       "      <td>23.90</td>\n",
       "      <td>-17.60</td>\n",
       "    </tr>\n",
       "  </tbody>\n",
       "</table>\n",
       "<p>5 rows × 750 columns</p>\n",
       "</div>"
      ],
      "text/plain": [
       "   fft_0_b  fft_1_b  fft_2_b  fft_3_b  fft_4_b  fft_5_b  fft_6_b  fft_7_b  \\\n",
       "0   -508.0   438.00  -222.00  -222.00   438.00    143.0    59.40     5.05   \n",
       "1    126.0    -4.00     7.42     7.42    -4.00     81.6   -22.30    35.30   \n",
       "2    -85.9   361.00   -62.20   -62.20   361.00   -558.0   684.00  -152.00   \n",
       "3     69.5     3.89    12.10    12.10     3.89   -188.0   274.00  -200.00   \n",
       "4    226.0   -27.40   147.00   147.00   -27.40    301.0    -8.48   138.00   \n",
       "\n",
       "   fft_8_b  fft_9_b  ...  fft_740_b  fft_741_b  fft_742_b  fft_743_b  \\\n",
       "0     5.05    59.40  ...       74.3       23.5       20.3       20.3   \n",
       "1    35.30   -22.30  ...      130.0      -23.3      -21.8      -21.8   \n",
       "2  -152.00   684.00  ...     -534.0      462.0     -233.0     -233.0   \n",
       "3  -200.00   274.00  ...     -183.0      299.0     -243.0     -243.0   \n",
       "4   138.00    -8.48  ...      114.0       12.0       38.1       38.1   \n",
       "\n",
       "   fft_744_b  fft_745_b  fft_746_b  fft_747_b  fft_748_b  fft_749_b  \n",
       "0       23.5     -215.0     280.00    -162.00    -162.00     280.00  \n",
       "1      -23.3      182.0       2.57     -31.60     -31.60       2.57  \n",
       "2      462.0     -267.0     281.00    -148.00    -148.00     281.00  \n",
       "3      299.0      132.0     -12.40       9.53       9.53     -12.40  \n",
       "4       12.0      119.0     -17.60      23.90      23.90     -17.60  \n",
       "\n",
       "[5 rows x 750 columns]"
      ]
     },
     "execution_count": 12,
     "metadata": {},
     "output_type": "execute_result"
    }
   ],
   "source": [
    "emotions_df_fft_b.head()"
   ]
  },
  {
   "cell_type": "code",
   "execution_count": 14,
   "metadata": {},
   "outputs": [],
   "source": [
    "def perform_feature_selection(df: pd.DataFrame, variance_threshold: float) -> pd.DataFrame:\n",
    "    print(\"----------STARTING FEATURE SELECTION----------\")\n",
    "    X = df\n",
    "    \n",
    "    print(\"----------STARTING PCA----------\")\n",
    "    \n",
    "    scaler = StandardScaler()\n",
    "    scaled_X = scaler.fit_transform(X)\n",
    "\n",
    "    # Perform PCA\n",
    "    pca = PCA(n_components = 50)\n",
    "    pca.fit_transform(scaled_X)\n",
    "    \n",
    "    print(\"----------FINISHED PCA----------\")\n",
    "    \n",
    "    # Determine number of components needed to keep a certain threshold percentage of variance\n",
    "\n",
    "    explained_variance_ratio = pca.explained_variance_ratio_\n",
    "    cumulative_variance_ratio = np.cumsum(explained_variance_ratio)\n",
    "    num_pc = np.argmax(cumulative_variance_ratio >= variance_threshold) + 1\n",
    "    print(\"Number of principal components to keep\", variance_threshold * 100, \"% of variance:\", num_pc)\n",
    "\n",
    "    # Visualization\n",
    "    plt.figure(figsize=(8, 6))\n",
    "\n",
    "    # Line plot for cumulative explained variance (all points are initially red)\n",
    "    plt.plot(range(1, len(cumulative_variance_ratio) + 1), cumulative_variance_ratio, marker='o', color='red', label='Cumulative explained variance', linestyle='-')\n",
    "\n",
    "    # Use blue dots to denote every n-th point where n is divisible by 5\n",
    "    for i in range(5, len(cumulative_variance_ratio) + 1, 5):\n",
    "        plt.scatter(i, cumulative_variance_ratio[i - 1], color='blue', zorder=5) \n",
    "        \n",
    "    plt.grid(True, which='both', linestyle='--', linewidth=0.7, alpha=0.7)\n",
    "\n",
    "    plt.xlabel('# of Principal Components')\n",
    "    plt.ylabel('Explained Variance Ratio')\n",
    "    plt.title('Explained Variance by Principal Components')\n",
    "    plt.legend(loc='best')\n",
    "    plt.show()\n",
    "    \n",
    "    # Find components that give the variance threshold.\n",
    "    \n",
    "    components_for_threshold = np.where(cumulative_variance_ratio >= variance_threshold)[0][0] + 1\n",
    "\n",
    "    # Get the list of column names needed to reach the variance threshold.\n",
    "    needed_columns = X.columns[:components_for_threshold]\n",
    "    print(\"final kept columns:\")\n",
    "    print(df[needed_columns].head())\n",
    "    print(\"----------FINISHED FEATURE SELECTION----------\")\n",
    "    return df[needed_columns]"
   ]
  },
  {
   "cell_type": "markdown",
   "metadata": {},
   "source": [
    "Extract the output column (i.e. emotional state), and map the string labels to integers."
   ]
  },
  {
   "cell_type": "code",
   "execution_count": 15,
   "metadata": {},
   "outputs": [
    {
     "name": "stdout",
     "output_type": "stream",
     "text": [
      "['NEGATIVE' 'NEUTRAL' 'POSITIVE']\n"
     ]
    }
   ],
   "source": [
    "y = emotions_df.iloc[:, -1] # The last column contains the outputs\n",
    "unique_y = y.unique()\n",
    "print(unique_y)"
   ]
  },
  {
   "cell_type": "code",
   "execution_count": 16,
   "metadata": {},
   "outputs": [
    {
     "name": "stdout",
     "output_type": "stream",
     "text": [
      "0    0\n",
      "1    1\n",
      "2    2\n",
      "3    2\n",
      "4    1\n",
      "5    1\n",
      "6    2\n",
      "7    0\n",
      "8    1\n",
      "9    0\n",
      "Name: label, dtype: int64\n"
     ]
    }
   ],
   "source": [
    "mapping = {\n",
    "    'NEGATIVE': 0,\n",
    "    'NEUTRAL': 1,\n",
    "    'POSITIVE': 2\n",
    "}\n",
    "\n",
    "# Apply the mapping to y\n",
    "y_mapped = y.map(mapping)\n",
    "\n",
    "print(y_mapped.head(10))"
   ]
  },
  {
   "cell_type": "code",
   "execution_count": 23,
   "metadata": {},
   "outputs": [
    {
     "name": "stdout",
     "output_type": "stream",
     "text": [
      "----------STARTING FEATURE SELECTION----------\n",
      "----------STARTING PCA----------\n",
      "----------FINISHED PCA----------\n",
      "Number of principal components to keep 90.0 % of variance: 10\n"
     ]
    },
    {
     "data": {
      "image/png": "[encoded data removed]",
      "text/plain": [
       "<Figure size 800x600 with 1 Axes>"
      ]
     },
     "metadata": {},
     "output_type": "display_data"
    },
    {
     "name": "stdout",
     "output_type": "stream",
     "text": [
      "final kept columns:\n",
      "   fft_0_a  fft_1_a  fft_2_a  fft_3_a  fft_4_a  fft_5_a  fft_6_a  fft_7_a  \\\n",
      "0   -520.0   398.00   -201.0   -201.0   398.00    -52.2   121.00    -64.0   \n",
      "1     66.2    -4.30     43.6     43.6    -4.30     66.0   -29.00     73.3   \n",
      "2    -90.8   204.00    -77.1    -77.1   204.00   -488.0   415.00   -187.0   \n",
      "3    119.0     6.25     10.9     10.9     6.25   -333.0   283.00   -144.0   \n",
      "4     59.0    -2.37     10.8     10.8    -2.37    118.0    -1.81     26.7   \n",
      "\n",
      "   fft_8_a  fft_9_a  \n",
      "0    -64.0   121.00  \n",
      "1     73.3   -29.00  \n",
      "2   -187.0   415.00  \n",
      "3   -144.0   283.00  \n",
      "4     26.7    -1.81  \n",
      "----------FINISHED FEATURE SELECTION----------\n"
     ]
    }
   ],
   "source": [
    "emotions_df_fft_a_preprocessed = perform_feature_selection(emotions_df_fft_a, 0.9)"
   ]
  },
  {
   "cell_type": "code",
   "execution_count": 24,
   "metadata": {},
   "outputs": [
    {
     "name": "stdout",
     "output_type": "stream",
     "text": [
      "----------STARTING FEATURE SELECTION----------\n",
      "----------STARTING PCA----------\n",
      "----------FINISHED PCA----------\n",
      "Number of principal components to keep 90.0 % of variance: 10\n"
     ]
    },
    {
     "data": {
      "image/png": "[encoded data removed]",
      "text/plain": [
       "<Figure size 800x600 with 1 Axes>"
      ]
     },
     "metadata": {},
     "output_type": "display_data"
    },
    {
     "name": "stdout",
     "output_type": "stream",
     "text": [
      "final kept columns:\n",
      "   fft_0_b  fft_1_b  fft_2_b  fft_3_b  fft_4_b  fft_5_b  fft_6_b  fft_7_b  \\\n",
      "0   -508.0   438.00  -222.00  -222.00   438.00    143.0    59.40     5.05   \n",
      "1    126.0    -4.00     7.42     7.42    -4.00     81.6   -22.30    35.30   \n",
      "2    -85.9   361.00   -62.20   -62.20   361.00   -558.0   684.00  -152.00   \n",
      "3     69.5     3.89    12.10    12.10     3.89   -188.0   274.00  -200.00   \n",
      "4    226.0   -27.40   147.00   147.00   -27.40    301.0    -8.48   138.00   \n",
      "\n",
      "   fft_8_b  fft_9_b  \n",
      "0     5.05    59.40  \n",
      "1    35.30   -22.30  \n",
      "2  -152.00   684.00  \n",
      "3  -200.00   274.00  \n",
      "4   138.00    -8.48  \n",
      "----------FINISHED FEATURE SELECTION----------\n"
     ]
    }
   ],
   "source": [
    "emotions_df_fft_b_preprocessed = perform_feature_selection(emotions_df_fft_b, 0.9)"
   ]
  },
  {
   "cell_type": "markdown",
   "metadata": {},
   "source": [
    "**Train the model for detecting emotion. We use a deep learning approach.**"
   ]
  },
  {
   "cell_type": "code",
   "execution_count": 25,
   "metadata": {},
   "outputs": [],
   "source": [
    "def train_emotion_classifier_tf(df: pd.DataFrame):\n",
    "    # Split the data into train and test sets\n",
    "    X_train, X_test, y_train, y_test = train_test_split(df, y_mapped, test_size = 0.2)\n",
    "    \n",
    "    # Reshape the input data to be compatible with the model we train\n",
    "    X_train = X_train.values.reshape((X_train.shape[0], 1, X_train.shape[1]))\n",
    "    X_test = X_test.values.reshape((X_test.shape[0], 1, X_test.shape[1]))\n",
    "    \n",
    "    # Create the model\n",
    "    model = Sequential()\n",
    "\n",
    "    # First LSTM layer\n",
    "    model.add(LSTM(units = 256, return_sequences=True, input_shape = (X_train.shape[1], X_train.shape[2])))\n",
    "    model.add(Dropout(0.3))  # Add dropout to prevent overfitting\n",
    "\n",
    "    # Second LSTM layer\n",
    "    model.add(LSTM(units = 128, return_sequences=False))\n",
    "    model.add(Dropout(0.3))\n",
    "\n",
    "    # Fully connected layer\n",
    "    model.add(Dense(units = 64, activation='relu'))\n",
    "    model.add(Dropout(0.3))\n",
    "\n",
    "    # Output layer\n",
    "    model.add(Dense(units = 3, activation='softmax'))\n",
    "    \n",
    "    # Compile the model\n",
    "    model.compile(optimizer='adam', loss='sparse_categorical_crossentropy', metrics=['accuracy'])\n",
    "    model.summary()\n",
    "    \n",
    "    # Train the model\n",
    "    model.fit(X_train, y_train, epochs = 50, batch_size = 32, validation_data=(X_test, y_test))\n",
    "    \n",
    "    # Evaluate the model on the test data\n",
    "    accuracy = model.evaluate(X_test, y_test, verbose=0)[1]\n",
    "    print(f'Test accuracy: {accuracy * 100:.2f}%')\n",
    "    "
   ]
  },
  {
   "cell_type": "code",
   "execution_count": 26,
   "metadata": {},
   "outputs": [
    {
     "name": "stderr",
     "output_type": "stream",
     "text": [
      "c:\\Users\\sean\\miniconda3\\Lib\\site-packages\\keras\\src\\layers\\rnn\\rnn.py:204: UserWarning: Do not pass an `input_shape`/`input_dim` argument to a layer. When using Sequential models, prefer using an `Input(shape)` object as the first layer in the model instead.\n",
      "  super().__init__(**kwargs)\n"
     ]
    },
    {
     "data": {
      "text/html": [
       "<pre style=\"white-space:pre;overflow-x:auto;line-height:normal;font-family:Menlo,'DejaVu Sans Mono',consolas,'Courier New',monospace\"><span style=\"font-weight: bold\">Model: \"sequential_1\"</span>\n",
       "</pre>\n"
      ],
      "text/plain": [
       "\u001b[1mModel: \"sequential_1\"\u001b[0m\n"
      ]
     },
     "metadata": {},
     "output_type": "display_data"
    },
    {
     "data": {
      "text/html": [
       "<pre style=\"white-space:pre;overflow-x:auto;line-height:normal;font-family:Menlo,'DejaVu Sans Mono',consolas,'Courier New',monospace\">┏━━━━━━━━━━━━━━━━━━━━━━━━━━━━━━━━━┳━━━━━━━━━━━━━━━━━━━━━━━━┳━━━━━━━━━━━━━━━┓\n",
       "┃<span style=\"font-weight: bold\"> Layer (type)                    </span>┃<span style=\"font-weight: bold\"> Output Shape           </span>┃<span style=\"font-weight: bold\">       Param # </span>┃\n",
       "┡━━━━━━━━━━━━━━━━━━━━━━━━━━━━━━━━━╇━━━━━━━━━━━━━━━━━━━━━━━━╇━━━━━━━━━━━━━━━┩\n",
       "│ lstm_2 (<span style=\"color: #0087ff; text-decoration-color: #0087ff\">LSTM</span>)                   │ (<span style=\"color: #00d7ff; text-decoration-color: #00d7ff\">None</span>, <span style=\"color: #00af00; text-decoration-color: #00af00\">1</span>, <span style=\"color: #00af00; text-decoration-color: #00af00\">256</span>)         │       <span style=\"color: #00af00; text-decoration-color: #00af00\">273,408</span> │\n",
       "├─────────────────────────────────┼────────────────────────┼───────────────┤\n",
       "│ dropout_3 (<span style=\"color: #0087ff; text-decoration-color: #0087ff\">Dropout</span>)             │ (<span style=\"color: #00d7ff; text-decoration-color: #00d7ff\">None</span>, <span style=\"color: #00af00; text-decoration-color: #00af00\">1</span>, <span style=\"color: #00af00; text-decoration-color: #00af00\">256</span>)         │             <span style=\"color: #00af00; text-decoration-color: #00af00\">0</span> │\n",
       "├─────────────────────────────────┼────────────────────────┼───────────────┤\n",
       "│ lstm_3 (<span style=\"color: #0087ff; text-decoration-color: #0087ff\">LSTM</span>)                   │ (<span style=\"color: #00d7ff; text-decoration-color: #00d7ff\">None</span>, <span style=\"color: #00af00; text-decoration-color: #00af00\">128</span>)            │       <span style=\"color: #00af00; text-decoration-color: #00af00\">197,120</span> │\n",
       "├─────────────────────────────────┼────────────────────────┼───────────────┤\n",
       "│ dropout_4 (<span style=\"color: #0087ff; text-decoration-color: #0087ff\">Dropout</span>)             │ (<span style=\"color: #00d7ff; text-decoration-color: #00d7ff\">None</span>, <span style=\"color: #00af00; text-decoration-color: #00af00\">128</span>)            │             <span style=\"color: #00af00; text-decoration-color: #00af00\">0</span> │\n",
       "├─────────────────────────────────┼────────────────────────┼───────────────┤\n",
       "│ dense_2 (<span style=\"color: #0087ff; text-decoration-color: #0087ff\">Dense</span>)                 │ (<span style=\"color: #00d7ff; text-decoration-color: #00d7ff\">None</span>, <span style=\"color: #00af00; text-decoration-color: #00af00\">64</span>)             │         <span style=\"color: #00af00; text-decoration-color: #00af00\">8,256</span> │\n",
       "├─────────────────────────────────┼────────────────────────┼───────────────┤\n",
       "│ dropout_5 (<span style=\"color: #0087ff; text-decoration-color: #0087ff\">Dropout</span>)             │ (<span style=\"color: #00d7ff; text-decoration-color: #00d7ff\">None</span>, <span style=\"color: #00af00; text-decoration-color: #00af00\">64</span>)             │             <span style=\"color: #00af00; text-decoration-color: #00af00\">0</span> │\n",
       "├─────────────────────────────────┼────────────────────────┼───────────────┤\n",
       "│ dense_3 (<span style=\"color: #0087ff; text-decoration-color: #0087ff\">Dense</span>)                 │ (<span style=\"color: #00d7ff; text-decoration-color: #00d7ff\">None</span>, <span style=\"color: #00af00; text-decoration-color: #00af00\">3</span>)              │           <span style=\"color: #00af00; text-decoration-color: #00af00\">195</span> │\n",
       "└─────────────────────────────────┴────────────────────────┴───────────────┘\n",
       "</pre>\n"
      ],
      "text/plain": [
       "┏━━━━━━━━━━━━━━━━━━━━━━━━━━━━━━━━━┳━━━━━━━━━━━━━━━━━━━━━━━━┳━━━━━━━━━━━━━━━┓\n",
       "┃\u001b[1m \u001b[0m\u001b[1mLayer (type)                   \u001b[0m\u001b[1m \u001b[0m┃\u001b[1m \u001b[0m\u001b[1mOutput Shape          \u001b[0m\u001b[1m \u001b[0m┃\u001b[1m \u001b[0m\u001b[1m      Param #\u001b[0m\u001b[1m \u001b[0m┃\n",
       "┡━━━━━━━━━━━━━━━━━━━━━━━━━━━━━━━━━╇━━━━━━━━━━━━━━━━━━━━━━━━╇━━━━━━━━━━━━━━━┩\n",
       "│ lstm_2 (\u001b[38;5;33mLSTM\u001b[0m)                   │ (\u001b[38;5;45mNone\u001b[0m, \u001b[38;5;34m1\u001b[0m, \u001b[38;5;34m256\u001b[0m)         │       \u001b[38;5;34m273,408\u001b[0m │\n",
       "├─────────────────────────────────┼────────────────────────┼───────────────┤\n",
       "│ dropout_3 (\u001b[38;5;33mDropout\u001b[0m)             │ (\u001b[38;5;45mNone\u001b[0m, \u001b[38;5;34m1\u001b[0m, \u001b[38;5;34m256\u001b[0m)         │             \u001b[38;5;34m0\u001b[0m │\n",
       "├─────────────────────────────────┼────────────────────────┼───────────────┤\n",
       "│ lstm_3 (\u001b[38;5;33mLSTM\u001b[0m)                   │ (\u001b[38;5;45mNone\u001b[0m, \u001b[38;5;34m128\u001b[0m)            │       \u001b[38;5;34m197,120\u001b[0m │\n",
       "├─────────────────────────────────┼────────────────────────┼───────────────┤\n",
       "│ dropout_4 (\u001b[38;5;33mDropout\u001b[0m)             │ (\u001b[38;5;45mNone\u001b[0m, \u001b[38;5;34m128\u001b[0m)            │             \u001b[38;5;34m0\u001b[0m │\n",
       "├─────────────────────────────────┼────────────────────────┼───────────────┤\n",
       "│ dense_2 (\u001b[38;5;33mDense\u001b[0m)                 │ (\u001b[38;5;45mNone\u001b[0m, \u001b[38;5;34m64\u001b[0m)             │         \u001b[38;5;34m8,256\u001b[0m │\n",
       "├─────────────────────────────────┼────────────────────────┼───────────────┤\n",
       "│ dropout_5 (\u001b[38;5;33mDropout\u001b[0m)             │ (\u001b[38;5;45mNone\u001b[0m, \u001b[38;5;34m64\u001b[0m)             │             \u001b[38;5;34m0\u001b[0m │\n",
       "├─────────────────────────────────┼────────────────────────┼───────────────┤\n",
       "│ dense_3 (\u001b[38;5;33mDense\u001b[0m)                 │ (\u001b[38;5;45mNone\u001b[0m, \u001b[38;5;34m3\u001b[0m)              │           \u001b[38;5;34m195\u001b[0m │\n",
       "└─────────────────────────────────┴────────────────────────┴───────────────┘\n"
      ]
     },
     "metadata": {},
     "output_type": "display_data"
    },
    {
     "data": {
      "text/html": [
       "<pre style=\"white-space:pre;overflow-x:auto;line-height:normal;font-family:Menlo,'DejaVu Sans Mono',consolas,'Courier New',monospace\"><span style=\"font-weight: bold\"> Total params: </span><span style=\"color: #00af00; text-decoration-color: #00af00\">478,979</span> (1.83 MB)\n",
       "</pre>\n"
      ],
      "text/plain": [
       "\u001b[1m Total params: \u001b[0m\u001b[38;5;34m478,979\u001b[0m (1.83 MB)\n"
      ]
     },
     "metadata": {},
     "output_type": "display_data"
    },
    {
     "data": {
      "text/html": [
       "<pre style=\"white-space:pre;overflow-x:auto;line-height:normal;font-family:Menlo,'DejaVu Sans Mono',consolas,'Courier New',monospace\"><span style=\"font-weight: bold\"> Trainable params: </span><span style=\"color: #00af00; text-decoration-color: #00af00\">478,979</span> (1.83 MB)\n",
       "</pre>\n"
      ],
      "text/plain": [
       "\u001b[1m Trainable params: \u001b[0m\u001b[38;5;34m478,979\u001b[0m (1.83 MB)\n"
      ]
     },
     "metadata": {},
     "output_type": "display_data"
    },
    {
     "data": {
      "text/html": [
       "<pre style=\"white-space:pre;overflow-x:auto;line-height:normal;font-family:Menlo,'DejaVu Sans Mono',consolas,'Courier New',monospace\"><span style=\"font-weight: bold\"> Non-trainable params: </span><span style=\"color: #00af00; text-decoration-color: #00af00\">0</span> (0.00 B)\n",
       "</pre>\n"
      ],
      "text/plain": [
       "\u001b[1m Non-trainable params: \u001b[0m\u001b[38;5;34m0\u001b[0m (0.00 B)\n"
      ]
     },
     "metadata": {},
     "output_type": "display_data"
    },
    {
     "name": "stdout",
     "output_type": "stream",
     "text": [
      "Epoch 1/50\n",
      "\u001b[1m54/54\u001b[0m \u001b[32m━━━━━━━━━━━━━━━━━━━━\u001b[0m\u001b[37m\u001b[0m \u001b[1m5s\u001b[0m 19ms/step - accuracy: 0.6222 - loss: 0.8283 - val_accuracy: 0.8454 - val_loss: 0.4275\n",
      "Epoch 2/50\n",
      "\u001b[1m54/54\u001b[0m \u001b[32m━━━━━━━━━━━━━━━━━━━━\u001b[0m\u001b[37m\u001b[0m \u001b[1m0s\u001b[0m 8ms/step - accuracy: 0.8434 - loss: 0.4120 - val_accuracy: 0.8806 - val_loss: 0.3388\n",
      "Epoch 3/50\n",
      "\u001b[1m54/54\u001b[0m \u001b[32m━━━━━━━━━━━━━━━━━━━━\u001b[0m\u001b[37m\u001b[0m \u001b[1m0s\u001b[0m 8ms/step - accuracy: 0.8370 - loss: 0.3836 - val_accuracy: 0.8735 - val_loss: 0.3132\n",
      "Epoch 4/50\n",
      "\u001b[1m54/54\u001b[0m \u001b[32m━━━━━━━━━━━━━━━━━━━━\u001b[0m\u001b[37m\u001b[0m \u001b[1m0s\u001b[0m 8ms/step - accuracy: 0.8704 - loss: 0.3312 - val_accuracy: 0.8806 - val_loss: 0.3316\n",
      "Epoch 5/50\n",
      "\u001b[1m54/54\u001b[0m \u001b[32m━━━━━━━━━━━━━━━━━━━━\u001b[0m\u001b[37m\u001b[0m \u001b[1m1s\u001b[0m 12ms/step - accuracy: 0.8441 - loss: 0.3770 - val_accuracy: 0.8759 - val_loss: 0.3489\n",
      "Epoch 6/50\n",
      "\u001b[1m54/54\u001b[0m \u001b[32m━━━━━━━━━━━━━━━━━━━━\u001b[0m\u001b[37m\u001b[0m \u001b[1m0s\u001b[0m 8ms/step - accuracy: 0.8511 - loss: 0.3541 - val_accuracy: 0.8876 - val_loss: 0.3161\n",
      "Epoch 7/50\n",
      "\u001b[1m54/54\u001b[0m \u001b[32m━━━━━━━━━━━━━━━━━━━━\u001b[0m\u001b[37m\u001b[0m \u001b[1m0s\u001b[0m 8ms/step - accuracy: 0.8668 - loss: 0.3287 - val_accuracy: 0.8829 - val_loss: 0.3019\n",
      "Epoch 8/50\n",
      "\u001b[1m54/54\u001b[0m \u001b[32m━━━━━━━━━━━━━━━━━━━━\u001b[0m\u001b[37m\u001b[0m \u001b[1m0s\u001b[0m 8ms/step - accuracy: 0.8648 - loss: 0.3150 - val_accuracy: 0.8782 - val_loss: 0.3115\n",
      "Epoch 9/50\n",
      "\u001b[1m54/54\u001b[0m \u001b[32m━━━━━━━━━━━━━━━━━━━━\u001b[0m\u001b[37m\u001b[0m \u001b[1m1s\u001b[0m 9ms/step - accuracy: 0.8644 - loss: 0.3329 - val_accuracy: 0.8899 - val_loss: 0.3091\n",
      "Epoch 10/50\n",
      "\u001b[1m54/54\u001b[0m \u001b[32m━━━━━━━━━━━━━━━━━━━━\u001b[0m\u001b[37m\u001b[0m \u001b[1m0s\u001b[0m 7ms/step - accuracy: 0.8759 - loss: 0.3122 - val_accuracy: 0.8759 - val_loss: 0.3252\n",
      "Epoch 11/50\n",
      "\u001b[1m54/54\u001b[0m \u001b[32m━━━━━━━━━━━━━━━━━━━━\u001b[0m\u001b[37m\u001b[0m \u001b[1m1s\u001b[0m 9ms/step - accuracy: 0.8547 - loss: 0.3447 - val_accuracy: 0.8712 - val_loss: 0.3306\n",
      "Epoch 12/50\n",
      "\u001b[1m54/54\u001b[0m \u001b[32m━━━━━━━━━━━━━━━━━━━━\u001b[0m\u001b[37m\u001b[0m \u001b[1m1s\u001b[0m 8ms/step - accuracy: 0.8867 - loss: 0.2995 - val_accuracy: 0.8735 - val_loss: 0.3194\n",
      "Epoch 13/50\n",
      "\u001b[1m54/54\u001b[0m \u001b[32m━━━━━━━━━━━━━━━━━━━━\u001b[0m\u001b[37m\u001b[0m \u001b[1m1s\u001b[0m 10ms/step - accuracy: 0.8789 - loss: 0.3108 - val_accuracy: 0.8806 - val_loss: 0.3092\n",
      "Epoch 14/50\n",
      "\u001b[1m54/54\u001b[0m \u001b[32m━━━━━━━━━━━━━━━━━━━━\u001b[0m\u001b[37m\u001b[0m \u001b[1m0s\u001b[0m 7ms/step - accuracy: 0.8862 - loss: 0.3009 - val_accuracy: 0.8735 - val_loss: 0.3347\n",
      "Epoch 15/50\n",
      "\u001b[1m54/54\u001b[0m \u001b[32m━━━━━━━━━━━━━━━━━━━━\u001b[0m\u001b[37m\u001b[0m \u001b[1m0s\u001b[0m 7ms/step - accuracy: 0.8848 - loss: 0.3064 - val_accuracy: 0.8782 - val_loss: 0.3349\n",
      "Epoch 16/50\n",
      "\u001b[1m54/54\u001b[0m \u001b[32m━━━━━━━━━━━━━━━━━━━━\u001b[0m\u001b[37m\u001b[0m \u001b[1m0s\u001b[0m 8ms/step - accuracy: 0.8745 - loss: 0.3103 - val_accuracy: 0.8782 - val_loss: 0.3427\n",
      "Epoch 17/50\n",
      "\u001b[1m54/54\u001b[0m \u001b[32m━━━━━━━━━━━━━━━━━━━━\u001b[0m\u001b[37m\u001b[0m \u001b[1m0s\u001b[0m 7ms/step - accuracy: 0.8733 - loss: 0.2988 - val_accuracy: 0.8689 - val_loss: 0.3257\n",
      "Epoch 18/50\n",
      "\u001b[1m54/54\u001b[0m \u001b[32m━━━━━━━━━━━━━━━━━━━━\u001b[0m\u001b[37m\u001b[0m \u001b[1m0s\u001b[0m 7ms/step - accuracy: 0.8629 - loss: 0.3129 - val_accuracy: 0.8759 - val_loss: 0.3195\n",
      "Epoch 19/50\n",
      "\u001b[1m54/54\u001b[0m \u001b[32m━━━━━━━━━━━━━━━━━━━━\u001b[0m\u001b[37m\u001b[0m \u001b[1m0s\u001b[0m 7ms/step - accuracy: 0.8611 - loss: 0.3273 - val_accuracy: 0.8735 - val_loss: 0.3257\n",
      "Epoch 20/50\n",
      "\u001b[1m54/54\u001b[0m \u001b[32m━━━━━━━━━━━━━━━━━━━━\u001b[0m\u001b[37m\u001b[0m \u001b[1m0s\u001b[0m 8ms/step - accuracy: 0.8564 - loss: 0.3592 - val_accuracy: 0.8735 - val_loss: 0.3334\n",
      "Epoch 21/50\n",
      "\u001b[1m54/54\u001b[0m \u001b[32m━━━━━━━━━━━━━━━━━━━━\u001b[0m\u001b[37m\u001b[0m \u001b[1m0s\u001b[0m 7ms/step - accuracy: 0.8710 - loss: 0.3071 - val_accuracy: 0.8806 - val_loss: 0.3281\n",
      "Epoch 22/50\n",
      "\u001b[1m54/54\u001b[0m \u001b[32m━━━━━━━━━━━━━━━━━━━━\u001b[0m\u001b[37m\u001b[0m \u001b[1m1s\u001b[0m 10ms/step - accuracy: 0.8754 - loss: 0.3184 - val_accuracy: 0.8735 - val_loss: 0.3221\n",
      "Epoch 23/50\n",
      "\u001b[1m54/54\u001b[0m \u001b[32m━━━━━━━━━━━━━━━━━━━━\u001b[0m\u001b[37m\u001b[0m \u001b[1m1s\u001b[0m 10ms/step - accuracy: 0.8779 - loss: 0.3168 - val_accuracy: 0.8852 - val_loss: 0.3048\n",
      "Epoch 24/50\n",
      "\u001b[1m54/54\u001b[0m \u001b[32m━━━━━━━━━━━━━━━━━━━━\u001b[0m\u001b[37m\u001b[0m \u001b[1m1s\u001b[0m 12ms/step - accuracy: 0.8893 - loss: 0.2908 - val_accuracy: 0.8595 - val_loss: 0.3048\n",
      "Epoch 25/50\n",
      "\u001b[1m54/54\u001b[0m \u001b[32m━━━━━━━━━━━━━━━━━━━━\u001b[0m\u001b[37m\u001b[0m \u001b[1m0s\u001b[0m 9ms/step - accuracy: 0.8822 - loss: 0.2916 - val_accuracy: 0.8689 - val_loss: 0.3224\n",
      "Epoch 26/50\n",
      "\u001b[1m54/54\u001b[0m \u001b[32m━━━━━━━━━━━━━━━━━━━━\u001b[0m\u001b[37m\u001b[0m \u001b[1m0s\u001b[0m 8ms/step - accuracy: 0.8684 - loss: 0.3033 - val_accuracy: 0.8735 - val_loss: 0.3130\n",
      "Epoch 27/50\n",
      "\u001b[1m54/54\u001b[0m \u001b[32m━━━━━━━━━━━━━━━━━━━━\u001b[0m\u001b[37m\u001b[0m \u001b[1m0s\u001b[0m 9ms/step - accuracy: 0.8812 - loss: 0.2801 - val_accuracy: 0.8782 - val_loss: 0.3203\n",
      "Epoch 28/50\n",
      "\u001b[1m54/54\u001b[0m \u001b[32m━━━━━━━━━━━━━━━━━━━━\u001b[0m\u001b[37m\u001b[0m \u001b[1m1s\u001b[0m 9ms/step - accuracy: 0.8773 - loss: 0.2896 - val_accuracy: 0.8689 - val_loss: 0.3330\n",
      "Epoch 29/50\n",
      "\u001b[1m54/54\u001b[0m \u001b[32m━━━━━━━━━━━━━━━━━━━━\u001b[0m\u001b[37m\u001b[0m \u001b[1m1s\u001b[0m 8ms/step - accuracy: 0.8819 - loss: 0.2875 - val_accuracy: 0.8689 - val_loss: 0.3427\n",
      "Epoch 30/50\n",
      "\u001b[1m54/54\u001b[0m \u001b[32m━━━━━━━━━━━━━━━━━━━━\u001b[0m\u001b[37m\u001b[0m \u001b[1m0s\u001b[0m 8ms/step - accuracy: 0.8853 - loss: 0.2850 - val_accuracy: 0.8712 - val_loss: 0.3295\n",
      "Epoch 31/50\n",
      "\u001b[1m54/54\u001b[0m \u001b[32m━━━━━━━━━━━━━━━━━━━━\u001b[0m\u001b[37m\u001b[0m \u001b[1m0s\u001b[0m 8ms/step - accuracy: 0.8898 - loss: 0.2734 - val_accuracy: 0.8665 - val_loss: 0.3655\n",
      "Epoch 32/50\n",
      "\u001b[1m54/54\u001b[0m \u001b[32m━━━━━━━━━━━━━━━━━━━━\u001b[0m\u001b[37m\u001b[0m \u001b[1m0s\u001b[0m 8ms/step - accuracy: 0.8718 - loss: 0.3017 - val_accuracy: 0.8595 - val_loss: 0.3851\n",
      "Epoch 33/50\n",
      "\u001b[1m54/54\u001b[0m \u001b[32m━━━━━━━━━━━━━━━━━━━━\u001b[0m\u001b[37m\u001b[0m \u001b[1m1s\u001b[0m 11ms/step - accuracy: 0.8831 - loss: 0.2783 - val_accuracy: 0.8735 - val_loss: 0.3488\n",
      "Epoch 34/50\n",
      "\u001b[1m54/54\u001b[0m \u001b[32m━━━━━━━━━━━━━━━━━━━━\u001b[0m\u001b[37m\u001b[0m \u001b[1m1s\u001b[0m 9ms/step - accuracy: 0.8882 - loss: 0.2870 - val_accuracy: 0.8665 - val_loss: 0.3479\n",
      "Epoch 35/50\n",
      "\u001b[1m54/54\u001b[0m \u001b[32m━━━━━━━━━━━━━━━━━━━━\u001b[0m\u001b[37m\u001b[0m \u001b[1m1s\u001b[0m 12ms/step - accuracy: 0.8866 - loss: 0.2792 - val_accuracy: 0.8759 - val_loss: 0.3513\n",
      "Epoch 36/50\n",
      "\u001b[1m54/54\u001b[0m \u001b[32m━━━━━━━━━━━━━━━━━━━━\u001b[0m\u001b[37m\u001b[0m \u001b[1m2s\u001b[0m 17ms/step - accuracy: 0.8810 - loss: 0.2877 - val_accuracy: 0.8759 - val_loss: 0.3478\n",
      "Epoch 37/50\n",
      "\u001b[1m54/54\u001b[0m \u001b[32m━━━━━━━━━━━━━━━━━━━━\u001b[0m\u001b[37m\u001b[0m \u001b[1m1s\u001b[0m 19ms/step - accuracy: 0.8740 - loss: 0.3014 - val_accuracy: 0.8689 - val_loss: 0.3363\n",
      "Epoch 38/50\n",
      "\u001b[1m54/54\u001b[0m \u001b[32m━━━━━━━━━━━━━━━━━━━━\u001b[0m\u001b[37m\u001b[0m \u001b[1m1s\u001b[0m 13ms/step - accuracy: 0.8883 - loss: 0.2675 - val_accuracy: 0.8735 - val_loss: 0.3487\n",
      "Epoch 39/50\n",
      "\u001b[1m54/54\u001b[0m \u001b[32m━━━━━━━━━━━━━━━━━━━━\u001b[0m\u001b[37m\u001b[0m \u001b[1m2s\u001b[0m 18ms/step - accuracy: 0.8775 - loss: 0.2775 - val_accuracy: 0.8735 - val_loss: 0.3407\n",
      "Epoch 40/50\n",
      "\u001b[1m54/54\u001b[0m \u001b[32m━━━━━━━━━━━━━━━━━━━━\u001b[0m\u001b[37m\u001b[0m \u001b[1m1s\u001b[0m 21ms/step - accuracy: 0.8930 - loss: 0.2650 - val_accuracy: 0.8595 - val_loss: 0.3488\n",
      "Epoch 41/50\n",
      "\u001b[1m54/54\u001b[0m \u001b[32m━━━━━━━━━━━━━━━━━━━━\u001b[0m\u001b[37m\u001b[0m \u001b[1m1s\u001b[0m 13ms/step - accuracy: 0.8918 - loss: 0.2721 - val_accuracy: 0.8618 - val_loss: 0.3504\n",
      "Epoch 42/50\n",
      "\u001b[1m54/54\u001b[0m \u001b[32m━━━━━━━━━━━━━━━━━━━━\u001b[0m\u001b[37m\u001b[0m \u001b[1m1s\u001b[0m 12ms/step - accuracy: 0.8766 - loss: 0.2860 - val_accuracy: 0.8689 - val_loss: 0.3609\n",
      "Epoch 43/50\n",
      "\u001b[1m54/54\u001b[0m \u001b[32m━━━━━━━━━━━━━━━━━━━━\u001b[0m\u001b[37m\u001b[0m \u001b[1m1s\u001b[0m 9ms/step - accuracy: 0.8839 - loss: 0.2701 - val_accuracy: 0.8712 - val_loss: 0.3350\n",
      "Epoch 44/50\n",
      "\u001b[1m54/54\u001b[0m \u001b[32m━━━━━━━━━━━━━━━━━━━━\u001b[0m\u001b[37m\u001b[0m \u001b[1m1s\u001b[0m 16ms/step - accuracy: 0.8948 - loss: 0.2580 - val_accuracy: 0.8665 - val_loss: 0.3626\n",
      "Epoch 45/50\n",
      "\u001b[1m54/54\u001b[0m \u001b[32m━━━━━━━━━━━━━━━━━━━━\u001b[0m\u001b[37m\u001b[0m \u001b[1m1s\u001b[0m 11ms/step - accuracy: 0.8918 - loss: 0.2654 - val_accuracy: 0.8712 - val_loss: 0.3261\n",
      "Epoch 46/50\n",
      "\u001b[1m54/54\u001b[0m \u001b[32m━━━━━━━━━━━━━━━━━━━━\u001b[0m\u001b[37m\u001b[0m \u001b[1m1s\u001b[0m 10ms/step - accuracy: 0.8917 - loss: 0.2504 - val_accuracy: 0.8642 - val_loss: 0.3607\n",
      "Epoch 47/50\n",
      "\u001b[1m54/54\u001b[0m \u001b[32m━━━━━━━━━━━━━━━━━━━━\u001b[0m\u001b[37m\u001b[0m \u001b[1m1s\u001b[0m 10ms/step - accuracy: 0.9021 - loss: 0.2419 - val_accuracy: 0.8735 - val_loss: 0.3532\n",
      "Epoch 48/50\n",
      "\u001b[1m54/54\u001b[0m \u001b[32m━━━━━━━━━━━━━━━━━━━━\u001b[0m\u001b[37m\u001b[0m \u001b[1m1s\u001b[0m 9ms/step - accuracy: 0.8761 - loss: 0.2803 - val_accuracy: 0.8759 - val_loss: 0.3555\n",
      "Epoch 49/50\n",
      "\u001b[1m54/54\u001b[0m \u001b[32m━━━━━━━━━━━━━━━━━━━━\u001b[0m\u001b[37m\u001b[0m \u001b[1m1s\u001b[0m 10ms/step - accuracy: 0.8823 - loss: 0.2868 - val_accuracy: 0.8642 - val_loss: 0.3521\n",
      "Epoch 50/50\n",
      "\u001b[1m54/54\u001b[0m \u001b[32m━━━━━━━━━━━━━━━━━━━━\u001b[0m\u001b[37m\u001b[0m \u001b[1m1s\u001b[0m 9ms/step - accuracy: 0.8897 - loss: 0.2513 - val_accuracy: 0.8735 - val_loss: 0.3581\n",
      "Test accuracy: 87.35%\n"
     ]
    }
   ],
   "source": [
    "train_emotion_classifier_tf(emotions_df_fft_a_preprocessed)"
   ]
  },
  {
   "cell_type": "code",
   "execution_count": 27,
   "metadata": {},
   "outputs": [
    {
     "data": {
      "text/html": [
       "<pre style=\"white-space:pre;overflow-x:auto;line-height:normal;font-family:Menlo,'DejaVu Sans Mono',consolas,'Courier New',monospace\"><span style=\"font-weight: bold\">Model: \"sequential_2\"</span>\n",
       "</pre>\n"
      ],
      "text/plain": [
       "\u001b[1mModel: \"sequential_2\"\u001b[0m\n"
      ]
     },
     "metadata": {},
     "output_type": "display_data"
    },
    {
     "data": {
      "text/html": [
       "<pre style=\"white-space:pre;overflow-x:auto;line-height:normal;font-family:Menlo,'DejaVu Sans Mono',consolas,'Courier New',monospace\">┏━━━━━━━━━━━━━━━━━━━━━━━━━━━━━━━━━┳━━━━━━━━━━━━━━━━━━━━━━━━┳━━━━━━━━━━━━━━━┓\n",
       "┃<span style=\"font-weight: bold\"> Layer (type)                    </span>┃<span style=\"font-weight: bold\"> Output Shape           </span>┃<span style=\"font-weight: bold\">       Param # </span>┃\n",
       "┡━━━━━━━━━━━━━━━━━━━━━━━━━━━━━━━━━╇━━━━━━━━━━━━━━━━━━━━━━━━╇━━━━━━━━━━━━━━━┩\n",
       "│ lstm_4 (<span style=\"color: #0087ff; text-decoration-color: #0087ff\">LSTM</span>)                   │ (<span style=\"color: #00d7ff; text-decoration-color: #00d7ff\">None</span>, <span style=\"color: #00af00; text-decoration-color: #00af00\">1</span>, <span style=\"color: #00af00; text-decoration-color: #00af00\">256</span>)         │       <span style=\"color: #00af00; text-decoration-color: #00af00\">273,408</span> │\n",
       "├─────────────────────────────────┼────────────────────────┼───────────────┤\n",
       "│ dropout_6 (<span style=\"color: #0087ff; text-decoration-color: #0087ff\">Dropout</span>)             │ (<span style=\"color: #00d7ff; text-decoration-color: #00d7ff\">None</span>, <span style=\"color: #00af00; text-decoration-color: #00af00\">1</span>, <span style=\"color: #00af00; text-decoration-color: #00af00\">256</span>)         │             <span style=\"color: #00af00; text-decoration-color: #00af00\">0</span> │\n",
       "├─────────────────────────────────┼────────────────────────┼───────────────┤\n",
       "│ lstm_5 (<span style=\"color: #0087ff; text-decoration-color: #0087ff\">LSTM</span>)                   │ (<span style=\"color: #00d7ff; text-decoration-color: #00d7ff\">None</span>, <span style=\"color: #00af00; text-decoration-color: #00af00\">128</span>)            │       <span style=\"color: #00af00; text-decoration-color: #00af00\">197,120</span> │\n",
       "├─────────────────────────────────┼────────────────────────┼───────────────┤\n",
       "│ dropout_7 (<span style=\"color: #0087ff; text-decoration-color: #0087ff\">Dropout</span>)             │ (<span style=\"color: #00d7ff; text-decoration-color: #00d7ff\">None</span>, <span style=\"color: #00af00; text-decoration-color: #00af00\">128</span>)            │             <span style=\"color: #00af00; text-decoration-color: #00af00\">0</span> │\n",
       "├─────────────────────────────────┼────────────────────────┼───────────────┤\n",
       "│ dense_4 (<span style=\"color: #0087ff; text-decoration-color: #0087ff\">Dense</span>)                 │ (<span style=\"color: #00d7ff; text-decoration-color: #00d7ff\">None</span>, <span style=\"color: #00af00; text-decoration-color: #00af00\">64</span>)             │         <span style=\"color: #00af00; text-decoration-color: #00af00\">8,256</span> │\n",
       "├─────────────────────────────────┼────────────────────────┼───────────────┤\n",
       "│ dropout_8 (<span style=\"color: #0087ff; text-decoration-color: #0087ff\">Dropout</span>)             │ (<span style=\"color: #00d7ff; text-decoration-color: #00d7ff\">None</span>, <span style=\"color: #00af00; text-decoration-color: #00af00\">64</span>)             │             <span style=\"color: #00af00; text-decoration-color: #00af00\">0</span> │\n",
       "├─────────────────────────────────┼────────────────────────┼───────────────┤\n",
       "│ dense_5 (<span style=\"color: #0087ff; text-decoration-color: #0087ff\">Dense</span>)                 │ (<span style=\"color: #00d7ff; text-decoration-color: #00d7ff\">None</span>, <span style=\"color: #00af00; text-decoration-color: #00af00\">3</span>)              │           <span style=\"color: #00af00; text-decoration-color: #00af00\">195</span> │\n",
       "└─────────────────────────────────┴────────────────────────┴───────────────┘\n",
       "</pre>\n"
      ],
      "text/plain": [
       "┏━━━━━━━━━━━━━━━━━━━━━━━━━━━━━━━━━┳━━━━━━━━━━━━━━━━━━━━━━━━┳━━━━━━━━━━━━━━━┓\n",
       "┃\u001b[1m \u001b[0m\u001b[1mLayer (type)                   \u001b[0m\u001b[1m \u001b[0m┃\u001b[1m \u001b[0m\u001b[1mOutput Shape          \u001b[0m\u001b[1m \u001b[0m┃\u001b[1m \u001b[0m\u001b[1m      Param #\u001b[0m\u001b[1m \u001b[0m┃\n",
       "┡━━━━━━━━━━━━━━━━━━━━━━━━━━━━━━━━━╇━━━━━━━━━━━━━━━━━━━━━━━━╇━━━━━━━━━━━━━━━┩\n",
       "│ lstm_4 (\u001b[38;5;33mLSTM\u001b[0m)                   │ (\u001b[38;5;45mNone\u001b[0m, \u001b[38;5;34m1\u001b[0m, \u001b[38;5;34m256\u001b[0m)         │       \u001b[38;5;34m273,408\u001b[0m │\n",
       "├─────────────────────────────────┼────────────────────────┼───────────────┤\n",
       "│ dropout_6 (\u001b[38;5;33mDropout\u001b[0m)             │ (\u001b[38;5;45mNone\u001b[0m, \u001b[38;5;34m1\u001b[0m, \u001b[38;5;34m256\u001b[0m)         │             \u001b[38;5;34m0\u001b[0m │\n",
       "├─────────────────────────────────┼────────────────────────┼───────────────┤\n",
       "│ lstm_5 (\u001b[38;5;33mLSTM\u001b[0m)                   │ (\u001b[38;5;45mNone\u001b[0m, \u001b[38;5;34m128\u001b[0m)            │       \u001b[38;5;34m197,120\u001b[0m │\n",
       "├─────────────────────────────────┼────────────────────────┼───────────────┤\n",
       "│ dropout_7 (\u001b[38;5;33mDropout\u001b[0m)             │ (\u001b[38;5;45mNone\u001b[0m, \u001b[38;5;34m128\u001b[0m)            │             \u001b[38;5;34m0\u001b[0m │\n",
       "├─────────────────────────────────┼────────────────────────┼───────────────┤\n",
       "│ dense_4 (\u001b[38;5;33mDense\u001b[0m)                 │ (\u001b[38;5;45mNone\u001b[0m, \u001b[38;5;34m64\u001b[0m)             │         \u001b[38;5;34m8,256\u001b[0m │\n",
       "├─────────────────────────────────┼────────────────────────┼───────────────┤\n",
       "│ dropout_8 (\u001b[38;5;33mDropout\u001b[0m)             │ (\u001b[38;5;45mNone\u001b[0m, \u001b[38;5;34m64\u001b[0m)             │             \u001b[38;5;34m0\u001b[0m │\n",
       "├─────────────────────────────────┼────────────────────────┼───────────────┤\n",
       "│ dense_5 (\u001b[38;5;33mDense\u001b[0m)                 │ (\u001b[38;5;45mNone\u001b[0m, \u001b[38;5;34m3\u001b[0m)              │           \u001b[38;5;34m195\u001b[0m │\n",
       "└─────────────────────────────────┴────────────────────────┴───────────────┘\n"
      ]
     },
     "metadata": {},
     "output_type": "display_data"
    },
    {
     "data": {
      "text/html": [
       "<pre style=\"white-space:pre;overflow-x:auto;line-height:normal;font-family:Menlo,'DejaVu Sans Mono',consolas,'Courier New',monospace\"><span style=\"font-weight: bold\"> Total params: </span><span style=\"color: #00af00; text-decoration-color: #00af00\">478,979</span> (1.83 MB)\n",
       "</pre>\n"
      ],
      "text/plain": [
       "\u001b[1m Total params: \u001b[0m\u001b[38;5;34m478,979\u001b[0m (1.83 MB)\n"
      ]
     },
     "metadata": {},
     "output_type": "display_data"
    },
    {
     "data": {
      "text/html": [
       "<pre style=\"white-space:pre;overflow-x:auto;line-height:normal;font-family:Menlo,'DejaVu Sans Mono',consolas,'Courier New',monospace\"><span style=\"font-weight: bold\"> Trainable params: </span><span style=\"color: #00af00; text-decoration-color: #00af00\">478,979</span> (1.83 MB)\n",
       "</pre>\n"
      ],
      "text/plain": [
       "\u001b[1m Trainable params: \u001b[0m\u001b[38;5;34m478,979\u001b[0m (1.83 MB)\n"
      ]
     },
     "metadata": {},
     "output_type": "display_data"
    },
    {
     "data": {
      "text/html": [
       "<pre style=\"white-space:pre;overflow-x:auto;line-height:normal;font-family:Menlo,'DejaVu Sans Mono',consolas,'Courier New',monospace\"><span style=\"font-weight: bold\"> Non-trainable params: </span><span style=\"color: #00af00; text-decoration-color: #00af00\">0</span> (0.00 B)\n",
       "</pre>\n"
      ],
      "text/plain": [
       "\u001b[1m Non-trainable params: \u001b[0m\u001b[38;5;34m0\u001b[0m (0.00 B)\n"
      ]
     },
     "metadata": {},
     "output_type": "display_data"
    },
    {
     "name": "stdout",
     "output_type": "stream",
     "text": [
      "Epoch 1/50\n",
      "\u001b[1m54/54\u001b[0m \u001b[32m━━━━━━━━━━━━━━━━━━━━\u001b[0m\u001b[37m\u001b[0m \u001b[1m5s\u001b[0m 19ms/step - accuracy: 0.6678 - loss: 0.8215 - val_accuracy: 0.8080 - val_loss: 0.4422\n",
      "Epoch 2/50\n",
      "\u001b[1m54/54\u001b[0m \u001b[32m━━━━━━━━━━━━━━━━━━━━\u001b[0m\u001b[37m\u001b[0m \u001b[1m1s\u001b[0m 9ms/step - accuracy: 0.8476 - loss: 0.4285 - val_accuracy: 0.8337 - val_loss: 0.4065\n",
      "Epoch 3/50\n",
      "\u001b[1m54/54\u001b[0m \u001b[32m━━━━━━━━━━━━━━━━━━━━\u001b[0m\u001b[37m\u001b[0m \u001b[1m1s\u001b[0m 11ms/step - accuracy: 0.8470 - loss: 0.3764 - val_accuracy: 0.8337 - val_loss: 0.4405\n",
      "Epoch 4/50\n",
      "\u001b[1m54/54\u001b[0m \u001b[32m━━━━━━━━━━━━━━━━━━━━\u001b[0m\u001b[37m\u001b[0m \u001b[1m1s\u001b[0m 10ms/step - accuracy: 0.8612 - loss: 0.3633 - val_accuracy: 0.8361 - val_loss: 0.4036\n",
      "Epoch 5/50\n",
      "\u001b[1m54/54\u001b[0m \u001b[32m━━━━━━━━━━━━━━━━━━━━\u001b[0m\u001b[37m\u001b[0m \u001b[1m0s\u001b[0m 8ms/step - accuracy: 0.8668 - loss: 0.3381 - val_accuracy: 0.8431 - val_loss: 0.4053\n",
      "Epoch 6/50\n",
      "\u001b[1m54/54\u001b[0m \u001b[32m━━━━━━━━━━━━━━━━━━━━\u001b[0m\u001b[37m\u001b[0m \u001b[1m0s\u001b[0m 8ms/step - accuracy: 0.8684 - loss: 0.3517 - val_accuracy: 0.8454 - val_loss: 0.3888\n",
      "Epoch 7/50\n",
      "\u001b[1m54/54\u001b[0m \u001b[32m━━━━━━━━━━━━━━━━━━━━\u001b[0m\u001b[37m\u001b[0m \u001b[1m1s\u001b[0m 8ms/step - accuracy: 0.8842 - loss: 0.3057 - val_accuracy: 0.8454 - val_loss: 0.3906\n",
      "Epoch 8/50\n",
      "\u001b[1m54/54\u001b[0m \u001b[32m━━━━━━━━━━━━━━━━━━━━\u001b[0m\u001b[37m\u001b[0m \u001b[1m1s\u001b[0m 8ms/step - accuracy: 0.8823 - loss: 0.3082 - val_accuracy: 0.8478 - val_loss: 0.4020\n",
      "Epoch 9/50\n",
      "\u001b[1m54/54\u001b[0m \u001b[32m━━━━━━━━━━━━━━━━━━━━\u001b[0m\u001b[37m\u001b[0m \u001b[1m1s\u001b[0m 9ms/step - accuracy: 0.8743 - loss: 0.3082 - val_accuracy: 0.8454 - val_loss: 0.4032\n",
      "Epoch 10/50\n",
      "\u001b[1m54/54\u001b[0m \u001b[32m━━━━━━━━━━━━━━━━━━━━\u001b[0m\u001b[37m\u001b[0m \u001b[1m1s\u001b[0m 15ms/step - accuracy: 0.8764 - loss: 0.3274 - val_accuracy: 0.8337 - val_loss: 0.3952\n",
      "Epoch 11/50\n",
      "\u001b[1m54/54\u001b[0m \u001b[32m━━━━━━━━━━━━━━━━━━━━\u001b[0m\u001b[37m\u001b[0m \u001b[1m1s\u001b[0m 17ms/step - accuracy: 0.8853 - loss: 0.2723 - val_accuracy: 0.8407 - val_loss: 0.3949\n",
      "Epoch 12/50\n",
      "\u001b[1m54/54\u001b[0m \u001b[32m━━━━━━━━━━━━━━━━━━━━\u001b[0m\u001b[37m\u001b[0m \u001b[1m0s\u001b[0m 8ms/step - accuracy: 0.8850 - loss: 0.2885 - val_accuracy: 0.8384 - val_loss: 0.4228\n",
      "Epoch 13/50\n",
      "\u001b[1m54/54\u001b[0m \u001b[32m━━━━━━━━━━━━━━━━━━━━\u001b[0m\u001b[37m\u001b[0m \u001b[1m0s\u001b[0m 8ms/step - accuracy: 0.8802 - loss: 0.3157 - val_accuracy: 0.8454 - val_loss: 0.3936\n",
      "Epoch 14/50\n",
      "\u001b[1m54/54\u001b[0m \u001b[32m━━━━━━━━━━━━━━━━━━━━\u001b[0m\u001b[37m\u001b[0m \u001b[1m0s\u001b[0m 8ms/step - accuracy: 0.8948 - loss: 0.2629 - val_accuracy: 0.8431 - val_loss: 0.3998\n",
      "Epoch 15/50\n",
      "\u001b[1m54/54\u001b[0m \u001b[32m━━━━━━━━━━━━━━━━━━━━\u001b[0m\u001b[37m\u001b[0m \u001b[1m0s\u001b[0m 9ms/step - accuracy: 0.8613 - loss: 0.3288 - val_accuracy: 0.8361 - val_loss: 0.4088\n",
      "Epoch 16/50\n",
      "\u001b[1m54/54\u001b[0m \u001b[32m━━━━━━━━━━━━━━━━━━━━\u001b[0m\u001b[37m\u001b[0m \u001b[1m1s\u001b[0m 10ms/step - accuracy: 0.8859 - loss: 0.2832 - val_accuracy: 0.8361 - val_loss: 0.3988\n",
      "Epoch 17/50\n",
      "\u001b[1m54/54\u001b[0m \u001b[32m━━━━━━━━━━━━━━━━━━━━\u001b[0m\u001b[37m\u001b[0m \u001b[1m1s\u001b[0m 11ms/step - accuracy: 0.8830 - loss: 0.2854 - val_accuracy: 0.8407 - val_loss: 0.4113\n",
      "Epoch 18/50\n",
      "\u001b[1m54/54\u001b[0m \u001b[32m━━━━━━━━━━━━━━━━━━━━\u001b[0m\u001b[37m\u001b[0m \u001b[1m1s\u001b[0m 9ms/step - accuracy: 0.8823 - loss: 0.2796 - val_accuracy: 0.8407 - val_loss: 0.4098\n",
      "Epoch 19/50\n",
      "\u001b[1m54/54\u001b[0m \u001b[32m━━━━━━━━━━━━━━━━━━━━\u001b[0m\u001b[37m\u001b[0m \u001b[1m1s\u001b[0m 10ms/step - accuracy: 0.8744 - loss: 0.2947 - val_accuracy: 0.8431 - val_loss: 0.4171\n",
      "Epoch 20/50\n",
      "\u001b[1m54/54\u001b[0m \u001b[32m━━━━━━━━━━━━━━━━━━━━\u001b[0m\u001b[37m\u001b[0m \u001b[1m1s\u001b[0m 11ms/step - accuracy: 0.8953 - loss: 0.2574 - val_accuracy: 0.8384 - val_loss: 0.4381\n",
      "Epoch 21/50\n",
      "\u001b[1m54/54\u001b[0m \u001b[32m━━━━━━━━━━━━━━━━━━━━\u001b[0m\u001b[37m\u001b[0m \u001b[1m1s\u001b[0m 9ms/step - accuracy: 0.8913 - loss: 0.2836 - val_accuracy: 0.8431 - val_loss: 0.4148\n",
      "Epoch 22/50\n",
      "\u001b[1m54/54\u001b[0m \u001b[32m━━━━━━━━━━━━━━━━━━━━\u001b[0m\u001b[37m\u001b[0m \u001b[1m1s\u001b[0m 11ms/step - accuracy: 0.8942 - loss: 0.2832 - val_accuracy: 0.8384 - val_loss: 0.4049\n",
      "Epoch 23/50\n",
      "\u001b[1m54/54\u001b[0m \u001b[32m━━━━━━━━━━━━━━━━━━━━\u001b[0m\u001b[37m\u001b[0m \u001b[1m1s\u001b[0m 20ms/step - accuracy: 0.8659 - loss: 0.3050 - val_accuracy: 0.8478 - val_loss: 0.4149\n",
      "Epoch 24/50\n",
      "\u001b[1m54/54\u001b[0m \u001b[32m━━━━━━━━━━━━━━━━━━━━\u001b[0m\u001b[37m\u001b[0m \u001b[1m1s\u001b[0m 16ms/step - accuracy: 0.8829 - loss: 0.3109 - val_accuracy: 0.8361 - val_loss: 0.4069\n",
      "Epoch 25/50\n",
      "\u001b[1m54/54\u001b[0m \u001b[32m━━━━━━━━━━━━━━━━━━━━\u001b[0m\u001b[37m\u001b[0m \u001b[1m1s\u001b[0m 10ms/step - accuracy: 0.8846 - loss: 0.2816 - val_accuracy: 0.8384 - val_loss: 0.4114\n",
      "Epoch 26/50\n",
      "\u001b[1m54/54\u001b[0m \u001b[32m━━━━━━━━━━━━━━━━━━━━\u001b[0m\u001b[37m\u001b[0m \u001b[1m1s\u001b[0m 13ms/step - accuracy: 0.8764 - loss: 0.2967 - val_accuracy: 0.8314 - val_loss: 0.4197\n",
      "Epoch 27/50\n",
      "\u001b[1m54/54\u001b[0m \u001b[32m━━━━━━━━━━━━━━━━━━━━\u001b[0m\u001b[37m\u001b[0m \u001b[1m2s\u001b[0m 31ms/step - accuracy: 0.8846 - loss: 0.2870 - val_accuracy: 0.8407 - val_loss: 0.4064\n",
      "Epoch 28/50\n",
      "\u001b[1m54/54\u001b[0m \u001b[32m━━━━━━━━━━━━━━━━━━━━\u001b[0m\u001b[37m\u001b[0m \u001b[1m2s\u001b[0m 19ms/step - accuracy: 0.8967 - loss: 0.2706 - val_accuracy: 0.8407 - val_loss: 0.4126\n",
      "Epoch 29/50\n",
      "\u001b[1m54/54\u001b[0m \u001b[32m━━━━━━━━━━━━━━━━━━━━\u001b[0m\u001b[37m\u001b[0m \u001b[1m1s\u001b[0m 12ms/step - accuracy: 0.8871 - loss: 0.2779 - val_accuracy: 0.8407 - val_loss: 0.4000\n",
      "Epoch 30/50\n",
      "\u001b[1m54/54\u001b[0m \u001b[32m━━━━━━━━━━━━━━━━━━━━\u001b[0m\u001b[37m\u001b[0m \u001b[1m1s\u001b[0m 10ms/step - accuracy: 0.8993 - loss: 0.2510 - val_accuracy: 0.8431 - val_loss: 0.4108\n",
      "Epoch 31/50\n",
      "\u001b[1m54/54\u001b[0m \u001b[32m━━━━━━━━━━━━━━━━━━━━\u001b[0m\u001b[37m\u001b[0m \u001b[1m1s\u001b[0m 11ms/step - accuracy: 0.9128 - loss: 0.2273 - val_accuracy: 0.8384 - val_loss: 0.4171\n",
      "Epoch 32/50\n",
      "\u001b[1m54/54\u001b[0m \u001b[32m━━━━━━━━━━━━━━━━━━━━\u001b[0m\u001b[37m\u001b[0m \u001b[1m1s\u001b[0m 13ms/step - accuracy: 0.8874 - loss: 0.2718 - val_accuracy: 0.8361 - val_loss: 0.4361\n",
      "Epoch 33/50\n",
      "\u001b[1m54/54\u001b[0m \u001b[32m━━━━━━━━━━━━━━━━━━━━\u001b[0m\u001b[37m\u001b[0m \u001b[1m1s\u001b[0m 10ms/step - accuracy: 0.8982 - loss: 0.2557 - val_accuracy: 0.8384 - val_loss: 0.4077\n",
      "Epoch 34/50\n",
      "\u001b[1m54/54\u001b[0m \u001b[32m━━━━━━━━━━━━━━━━━━━━\u001b[0m\u001b[37m\u001b[0m \u001b[1m1s\u001b[0m 12ms/step - accuracy: 0.8887 - loss: 0.2687 - val_accuracy: 0.8431 - val_loss: 0.4126\n",
      "Epoch 35/50\n",
      "\u001b[1m54/54\u001b[0m \u001b[32m━━━━━━━━━━━━━━━━━━━━\u001b[0m\u001b[37m\u001b[0m \u001b[1m1s\u001b[0m 10ms/step - accuracy: 0.9055 - loss: 0.2442 - val_accuracy: 0.8501 - val_loss: 0.4121\n",
      "Epoch 36/50\n",
      "\u001b[1m54/54\u001b[0m \u001b[32m━━━━━━━━━━━━━━━━━━━━\u001b[0m\u001b[37m\u001b[0m \u001b[1m1s\u001b[0m 12ms/step - accuracy: 0.8910 - loss: 0.2773 - val_accuracy: 0.8384 - val_loss: 0.4070\n",
      "Epoch 37/50\n",
      "\u001b[1m54/54\u001b[0m \u001b[32m━━━━━━━━━━━━━━━━━━━━\u001b[0m\u001b[37m\u001b[0m \u001b[1m1s\u001b[0m 8ms/step - accuracy: 0.8811 - loss: 0.2768 - val_accuracy: 0.8384 - val_loss: 0.4126\n",
      "Epoch 38/50\n",
      "\u001b[1m54/54\u001b[0m \u001b[32m━━━━━━━━━━━━━━━━━━━━\u001b[0m\u001b[37m\u001b[0m \u001b[1m1s\u001b[0m 9ms/step - accuracy: 0.8990 - loss: 0.2648 - val_accuracy: 0.8407 - val_loss: 0.3953\n",
      "Epoch 39/50\n",
      "\u001b[1m54/54\u001b[0m \u001b[32m━━━━━━━━━━━━━━━━━━━━\u001b[0m\u001b[37m\u001b[0m \u001b[1m1s\u001b[0m 11ms/step - accuracy: 0.9028 - loss: 0.2435 - val_accuracy: 0.8407 - val_loss: 0.4240\n",
      "Epoch 40/50\n",
      "\u001b[1m54/54\u001b[0m \u001b[32m━━━━━━━━━━━━━━━━━━━━\u001b[0m\u001b[37m\u001b[0m \u001b[1m1s\u001b[0m 8ms/step - accuracy: 0.8841 - loss: 0.2613 - val_accuracy: 0.8314 - val_loss: 0.4319\n",
      "Epoch 41/50\n",
      "\u001b[1m54/54\u001b[0m \u001b[32m━━━━━━━━━━━━━━━━━━━━\u001b[0m\u001b[37m\u001b[0m \u001b[1m1s\u001b[0m 9ms/step - accuracy: 0.9116 - loss: 0.2331 - val_accuracy: 0.8407 - val_loss: 0.4124\n",
      "Epoch 42/50\n",
      "\u001b[1m54/54\u001b[0m \u001b[32m━━━━━━━━━━━━━━━━━━━━\u001b[0m\u001b[37m\u001b[0m \u001b[1m1s\u001b[0m 16ms/step - accuracy: 0.8938 - loss: 0.2524 - val_accuracy: 0.8361 - val_loss: 0.4326\n",
      "Epoch 43/50\n",
      "\u001b[1m54/54\u001b[0m \u001b[32m━━━━━━━━━━━━━━━━━━━━\u001b[0m\u001b[37m\u001b[0m \u001b[1m1s\u001b[0m 9ms/step - accuracy: 0.8876 - loss: 0.2686 - val_accuracy: 0.8337 - val_loss: 0.4562\n",
      "Epoch 44/50\n",
      "\u001b[1m54/54\u001b[0m \u001b[32m━━━━━━━━━━━━━━━━━━━━\u001b[0m\u001b[37m\u001b[0m \u001b[1m1s\u001b[0m 9ms/step - accuracy: 0.8879 - loss: 0.2704 - val_accuracy: 0.8337 - val_loss: 0.4179\n",
      "Epoch 45/50\n",
      "\u001b[1m54/54\u001b[0m \u001b[32m━━━━━━━━━━━━━━━━━━━━\u001b[0m\u001b[37m\u001b[0m \u001b[1m1s\u001b[0m 11ms/step - accuracy: 0.8918 - loss: 0.2735 - val_accuracy: 0.8314 - val_loss: 0.4316\n",
      "Epoch 46/50\n",
      "\u001b[1m54/54\u001b[0m \u001b[32m━━━━━━━━━━━━━━━━━━━━\u001b[0m\u001b[37m\u001b[0m \u001b[1m1s\u001b[0m 25ms/step - accuracy: 0.8996 - loss: 0.2551 - val_accuracy: 0.8407 - val_loss: 0.4194\n",
      "Epoch 47/50\n",
      "\u001b[1m54/54\u001b[0m \u001b[32m━━━━━━━━━━━━━━━━━━━━\u001b[0m\u001b[37m\u001b[0m \u001b[1m1s\u001b[0m 16ms/step - accuracy: 0.8979 - loss: 0.2531 - val_accuracy: 0.8290 - val_loss: 0.4363\n",
      "Epoch 48/50\n",
      "\u001b[1m54/54\u001b[0m \u001b[32m━━━━━━━━━━━━━━━━━━━━\u001b[0m\u001b[37m\u001b[0m \u001b[1m1s\u001b[0m 11ms/step - accuracy: 0.8961 - loss: 0.2530 - val_accuracy: 0.8361 - val_loss: 0.4553\n",
      "Epoch 49/50\n",
      "\u001b[1m54/54\u001b[0m \u001b[32m━━━━━━━━━━━━━━━━━━━━\u001b[0m\u001b[37m\u001b[0m \u001b[1m1s\u001b[0m 10ms/step - accuracy: 0.9048 - loss: 0.2383 - val_accuracy: 0.8384 - val_loss: 0.4761\n",
      "Epoch 50/50\n",
      "\u001b[1m54/54\u001b[0m \u001b[32m━━━━━━━━━━━━━━━━━━━━\u001b[0m\u001b[37m\u001b[0m \u001b[1m1s\u001b[0m 10ms/step - accuracy: 0.8889 - loss: 0.2715 - val_accuracy: 0.8361 - val_loss: 0.4915\n",
      "Test accuracy: 83.61%\n"
     ]
    }
   ],
   "source": [
    "train_emotion_classifier_tf(emotions_df_fft_b_preprocessed)"
   ]
  },
  {
   "cell_type": "code",
   "execution_count": 29,
   "metadata": {},
   "outputs": [],
   "source": [
    "class EmotionClassifier(nn.Module):\n",
    "    def __init__(self):\n",
    "        super(EmotionClassifier, self).__init__()\n",
    "        self.lstm1 = nn.LSTM(input_size=32, hidden_size=256, batch_first=True, dropout=0.3, num_layers=1)\n",
    "        self.lstm2 = nn.LSTM(input_size=256, hidden_size=128, batch_first=True, dropout=0.3, num_layers=1)\n",
    "        self.fc1 = nn.Linear(128, 64)\n",
    "        self.fc2 = nn.Linear(64, 3)\n",
    "        self.dropout = nn.Dropout(0.3)\n",
    "        self.relu = nn.ReLU()\n",
    "        self.softmax = nn.Softmax(dim=1)\n",
    "\n",
    "    def forward(self, x):\n",
    "        x, _ = self.lstm1(x)\n",
    "        x, _ = self.lstm2(x)\n",
    "        x = self.dropout(self.relu(self.fc1(x[:, -1, :])))  \n",
    "        x = self.dropout(self.fc2(x))\n",
    "        return self.softmax(x)"
   ]
  },
  {
   "cell_type": "code",
   "execution_count": 156,
   "metadata": {},
   "outputs": [],
   "source": [
    "def plot_confusion_matrix(y_true, y_pred, class_names):\n",
    "    cm = confusion_matrix(y_true, y_pred)\n",
    "    plt.figure(figsize=(8, 6))\n",
    "    sns.heatmap(cm, annot=True, fmt=\"d\", cmap=\"Blues\", xticklabels=class_names, yticklabels=class_names)\n",
    "    plt.ylabel('Actual')\n",
    "    plt.xlabel('Predicted')\n",
    "    plt.title('Confusion Matrix')\n",
    "    plt.show()"
   ]
  },
  {
   "cell_type": "code",
   "execution_count": 30,
   "metadata": {},
   "outputs": [],
   "source": [
    "def train_emotion_classifier_torch(df: pd.DataFrame, y) -> EmotionClassifier:\n",
    "    # Split the data into train and test sets\n",
    "    y_arr = y.to_numpy()\n",
    "    X_train, X_test, y_train, y_test = train_test_split(df, y_arr, test_size=0.2)\n",
    "\n",
    "    # Convert data to PyTorch tensors and reshape\n",
    "    X_train = torch.tensor(X_train.values, dtype=torch.float32).unsqueeze(1)  \n",
    "    X_test = torch.tensor(X_test.values, dtype=torch.float32).unsqueeze(1)\n",
    "    y_train = torch.tensor(y_train, dtype=torch.long)\n",
    "    y_test = torch.tensor(y_test, dtype=torch.long)\n",
    "\n",
    "    # Create data loaders\n",
    "    train_data = TensorDataset(X_train, y_train)\n",
    "    test_data = TensorDataset(X_test, y_test)\n",
    "    train_loader = DataLoader(train_data, batch_size=32, shuffle=True)\n",
    "    test_loader = DataLoader(test_data, batch_size=32, shuffle=False)\n",
    "\n",
    "    # Create the model, loss function, and optimizer\n",
    "    model = EmotionClassifier()\n",
    "    criterion = nn.CrossEntropyLoss() # loss function\n",
    "    optimizer = optim.Adam(model.parameters(), lr=0.001)\n",
    "\n",
    "    # Train the model\n",
    "    epochs = 50\n",
    "    for epoch in range(epochs):\n",
    "        model.train()\n",
    "        running_loss = 0.0\n",
    "        correct = 0\n",
    "        total = 0\n",
    "\n",
    "        for inputs, labels in train_loader:\n",
    "            optimizer.zero_grad()\n",
    "            outputs = model(inputs)\n",
    "            loss = criterion(outputs, labels)\n",
    "            loss.backward()\n",
    "            optimizer.step()\n",
    "\n",
    "            running_loss += loss.item()\n",
    "            predicted = torch.max(outputs, 1)[1]\n",
    "            total += labels.size(0)\n",
    "            correct += (predicted == labels).sum().item()\n",
    "\n",
    "        train_accuracy = 100 * (correct / total)\n",
    "        print(f'Epoch {epoch + 1}/{epochs}, Loss: {running_loss:.4f}, Train Accuracy: {train_accuracy:.2f}%')\n",
    "\n",
    "    # Validate the model\n",
    "    model.eval()\n",
    "    correct = 0\n",
    "    total = 0\n",
    "    with torch.no_grad():\n",
    "        for inputs, labels in test_loader:\n",
    "            outputs = model(inputs)\n",
    "            predicted = torch.max(outputs, 1)[1]\n",
    "            total += labels.size(0)\n",
    "            correct += (predicted == labels).sum().item()\n",
    "\n",
    "    test_accuracy = 100 * (correct / total)\n",
    "    print(f'Test Accuracy: {test_accuracy:.2f}%')\n",
    "    \n",
    "    return model"
   ]
  },
  {
   "cell_type": "code",
   "execution_count": 31,
   "metadata": {},
   "outputs": [
    {
     "name": "stderr",
     "output_type": "stream",
     "text": [
      "c:\\Users\\sean\\miniconda3\\Lib\\site-packages\\torch\\nn\\modules\\rnn.py:83: UserWarning: dropout option adds dropout after all but last recurrent layer, so non-zero dropout expects num_layers greater than 1, but got dropout=0.3 and num_layers=1\n",
      "  warnings.warn(\"dropout option adds dropout after all but last \"\n",
      "c:\\Users\\sean\\miniconda3\\Lib\\site-packages\\tqdm\\auto.py:21: TqdmWarning: IProgress not found. Please update jupyter and ipywidgets. See https://ipywidgets.readthedocs.io/en/stable/user_install.html\n",
      "  from .autonotebook import tqdm as notebook_tqdm\n"
     ]
    },
    {
     "name": "stdout",
     "output_type": "stream",
     "text": [
      "Epoch 1/50, Loss: 50.1388, Train Accuracy: 64.63%\n",
      "Epoch 2/50, Loss: 41.3865, Train Accuracy: 78.18%\n",
      "Epoch 3/50, Loss: 40.6274, Train Accuracy: 79.30%\n",
      "Epoch 4/50, Loss: 39.9537, Train Accuracy: 80.06%\n",
      "Epoch 5/50, Loss: 40.2551, Train Accuracy: 79.71%\n",
      "Epoch 6/50, Loss: 39.8746, Train Accuracy: 79.71%\n",
      "Epoch 7/50, Loss: 39.9779, Train Accuracy: 79.18%\n",
      "Epoch 8/50, Loss: 40.2096, Train Accuracy: 79.41%\n",
      "Epoch 9/50, Loss: 39.7283, Train Accuracy: 80.12%\n",
      "Epoch 10/50, Loss: 40.5305, Train Accuracy: 78.71%\n",
      "Epoch 11/50, Loss: 40.1498, Train Accuracy: 80.06%\n",
      "Epoch 12/50, Loss: 39.4760, Train Accuracy: 80.70%\n",
      "Epoch 13/50, Loss: 40.2517, Train Accuracy: 79.24%\n",
      "Epoch 14/50, Loss: 39.9512, Train Accuracy: 80.47%\n",
      "Epoch 15/50, Loss: 40.2336, Train Accuracy: 79.53%\n",
      "Epoch 16/50, Loss: 40.0131, Train Accuracy: 79.88%\n",
      "Epoch 17/50, Loss: 39.9839, Train Accuracy: 80.06%\n",
      "Epoch 18/50, Loss: 39.5841, Train Accuracy: 80.12%\n",
      "Epoch 19/50, Loss: 40.2026, Train Accuracy: 79.94%\n",
      "Epoch 20/50, Loss: 39.6662, Train Accuracy: 80.12%\n",
      "Epoch 21/50, Loss: 39.6909, Train Accuracy: 80.29%\n",
      "Epoch 22/50, Loss: 39.6623, Train Accuracy: 80.59%\n",
      "Epoch 23/50, Loss: 39.7393, Train Accuracy: 80.76%\n",
      "Epoch 24/50, Loss: 39.3199, Train Accuracy: 80.70%\n",
      "Epoch 25/50, Loss: 39.7024, Train Accuracy: 79.88%\n",
      "Epoch 26/50, Loss: 39.9014, Train Accuracy: 80.41%\n",
      "Epoch 27/50, Loss: 39.1240, Train Accuracy: 82.40%\n",
      "Epoch 28/50, Loss: 39.2588, Train Accuracy: 81.00%\n",
      "Epoch 29/50, Loss: 39.2777, Train Accuracy: 81.29%\n",
      "Epoch 30/50, Loss: 39.3085, Train Accuracy: 81.58%\n",
      "Epoch 31/50, Loss: 39.6157, Train Accuracy: 80.00%\n",
      "Epoch 32/50, Loss: 39.6969, Train Accuracy: 80.35%\n",
      "Epoch 33/50, Loss: 40.4827, Train Accuracy: 79.71%\n",
      "Epoch 34/50, Loss: 39.7844, Train Accuracy: 80.70%\n",
      "Epoch 35/50, Loss: 39.6494, Train Accuracy: 80.29%\n",
      "Epoch 36/50, Loss: 39.5423, Train Accuracy: 80.70%\n",
      "Epoch 37/50, Loss: 39.8259, Train Accuracy: 80.70%\n",
      "Epoch 38/50, Loss: 39.7667, Train Accuracy: 80.41%\n",
      "Epoch 39/50, Loss: 39.8434, Train Accuracy: 80.82%\n",
      "Epoch 40/50, Loss: 39.4597, Train Accuracy: 81.17%\n",
      "Epoch 41/50, Loss: 39.4528, Train Accuracy: 81.47%\n",
      "Epoch 42/50, Loss: 39.4408, Train Accuracy: 81.47%\n",
      "Epoch 43/50, Loss: 39.9654, Train Accuracy: 79.88%\n",
      "Epoch 44/50, Loss: 39.7115, Train Accuracy: 80.76%\n",
      "Epoch 45/50, Loss: 39.8589, Train Accuracy: 79.30%\n",
      "Epoch 46/50, Loss: 39.8385, Train Accuracy: 80.12%\n",
      "Epoch 47/50, Loss: 40.1379, Train Accuracy: 79.65%\n",
      "Epoch 48/50, Loss: 39.2368, Train Accuracy: 81.47%\n",
      "Epoch 49/50, Loss: 39.7046, Train Accuracy: 80.47%\n",
      "Epoch 50/50, Loss: 39.1612, Train Accuracy: 81.29%\n",
      "Test Accuracy: 85.95%\n"
     ]
    }
   ],
   "source": [
    "emotion_classifier_torch = train_emotion_classifier_torch(emotions_df_fft_a_preprocessed, y_mapped)"
   ]
  },
  {
   "cell_type": "code",
   "execution_count": 32,
   "metadata": {},
   "outputs": [
    {
     "name": "stderr",
     "output_type": "stream",
     "text": [
      "c:\\Users\\sean\\miniconda3\\Lib\\site-packages\\torch\\nn\\modules\\rnn.py:83: UserWarning: dropout option adds dropout after all but last recurrent layer, so non-zero dropout expects num_layers greater than 1, but got dropout=0.3 and num_layers=1\n",
      "  warnings.warn(\"dropout option adds dropout after all but last \"\n"
     ]
    },
    {
     "name": "stdout",
     "output_type": "stream",
     "text": [
      "Epoch 1/50, Loss: 49.8929, Train Accuracy: 63.99%\n",
      "Epoch 2/50, Loss: 41.7376, Train Accuracy: 77.65%\n",
      "Epoch 3/50, Loss: 40.8462, Train Accuracy: 78.12%\n",
      "Epoch 4/50, Loss: 40.2210, Train Accuracy: 80.06%\n",
      "Epoch 5/50, Loss: 39.9046, Train Accuracy: 80.00%\n",
      "Epoch 6/50, Loss: 40.6095, Train Accuracy: 78.89%\n",
      "Epoch 7/50, Loss: 39.8374, Train Accuracy: 80.65%\n",
      "Epoch 8/50, Loss: 40.1388, Train Accuracy: 79.71%\n",
      "Epoch 9/50, Loss: 39.8644, Train Accuracy: 80.76%\n",
      "Epoch 10/50, Loss: 39.7203, Train Accuracy: 81.29%\n",
      "Epoch 11/50, Loss: 39.8240, Train Accuracy: 79.06%\n",
      "Epoch 12/50, Loss: 39.6797, Train Accuracy: 80.76%\n",
      "Epoch 13/50, Loss: 39.8124, Train Accuracy: 80.70%\n",
      "Epoch 14/50, Loss: 40.0881, Train Accuracy: 79.82%\n",
      "Epoch 15/50, Loss: 39.7763, Train Accuracy: 79.24%\n",
      "Epoch 16/50, Loss: 40.1080, Train Accuracy: 79.24%\n",
      "Epoch 17/50, Loss: 39.7985, Train Accuracy: 80.00%\n",
      "Epoch 18/50, Loss: 39.8248, Train Accuracy: 79.88%\n",
      "Epoch 19/50, Loss: 39.5164, Train Accuracy: 81.00%\n",
      "Epoch 20/50, Loss: 39.8689, Train Accuracy: 81.58%\n",
      "Epoch 21/50, Loss: 39.8720, Train Accuracy: 80.35%\n",
      "Epoch 22/50, Loss: 38.9740, Train Accuracy: 81.99%\n",
      "Epoch 23/50, Loss: 39.6487, Train Accuracy: 80.29%\n",
      "Epoch 24/50, Loss: 39.9083, Train Accuracy: 79.88%\n",
      "Epoch 25/50, Loss: 39.7445, Train Accuracy: 80.65%\n",
      "Epoch 26/50, Loss: 39.7494, Train Accuracy: 80.41%\n",
      "Epoch 27/50, Loss: 39.9440, Train Accuracy: 80.29%\n",
      "Epoch 28/50, Loss: 39.6184, Train Accuracy: 80.29%\n",
      "Epoch 29/50, Loss: 40.2686, Train Accuracy: 79.12%\n",
      "Epoch 30/50, Loss: 39.5707, Train Accuracy: 81.52%\n",
      "Epoch 31/50, Loss: 40.0249, Train Accuracy: 79.59%\n",
      "Epoch 32/50, Loss: 39.2401, Train Accuracy: 81.58%\n",
      "Epoch 33/50, Loss: 39.5242, Train Accuracy: 80.70%\n",
      "Epoch 34/50, Loss: 39.9014, Train Accuracy: 79.18%\n",
      "Epoch 35/50, Loss: 39.2115, Train Accuracy: 81.00%\n",
      "Epoch 36/50, Loss: 39.5260, Train Accuracy: 80.70%\n",
      "Epoch 37/50, Loss: 39.3463, Train Accuracy: 81.23%\n",
      "Epoch 38/50, Loss: 39.5306, Train Accuracy: 81.52%\n",
      "Epoch 39/50, Loss: 39.6523, Train Accuracy: 80.76%\n",
      "Epoch 40/50, Loss: 39.5641, Train Accuracy: 80.47%\n",
      "Epoch 41/50, Loss: 39.8468, Train Accuracy: 79.18%\n",
      "Epoch 42/50, Loss: 39.8121, Train Accuracy: 79.77%\n",
      "Epoch 43/50, Loss: 39.7619, Train Accuracy: 81.23%\n",
      "Epoch 44/50, Loss: 39.7021, Train Accuracy: 80.41%\n",
      "Epoch 45/50, Loss: 39.7574, Train Accuracy: 79.18%\n",
      "Epoch 46/50, Loss: 39.6671, Train Accuracy: 80.70%\n",
      "Epoch 47/50, Loss: 39.2882, Train Accuracy: 80.82%\n",
      "Epoch 48/50, Loss: 39.3399, Train Accuracy: 81.00%\n",
      "Epoch 49/50, Loss: 39.5451, Train Accuracy: 80.18%\n",
      "Epoch 50/50, Loss: 39.5407, Train Accuracy: 81.11%\n",
      "Test Accuracy: 85.25%\n"
     ]
    },
    {
     "data": {
      "text/plain": [
       "EmotionClassifier(\n",
       "  (lstm1): LSTM(32, 256, batch_first=True, dropout=0.3)\n",
       "  (lstm2): LSTM(256, 128, batch_first=True, dropout=0.3)\n",
       "  (fc1): Linear(in_features=128, out_features=64, bias=True)\n",
       "  (fc2): Linear(in_features=64, out_features=3, bias=True)\n",
       "  (dropout): Dropout(p=0.3, inplace=False)\n",
       "  (relu): ReLU()\n",
       "  (softmax): Softmax(dim=1)\n",
       ")"
      ]
     },
     "execution_count": 32,
     "metadata": {},
     "output_type": "execute_result"
    }
   ],
   "source": [
    "train_emotion_classifier_torch(emotions_df_fft_b_preprocessed, y_mapped)"
   ]
  }
 ],
 "metadata": {
  "kernelspec": {
   "display_name": "base",
   "language": "python",
   "name": "python3"
  },
  "language_info": {
   "codemirror_mode": {
    "name": "ipython",
    "version": 3
   },
   "file_extension": ".py",
   "mimetype": "text/x-python",
   "name": "python",
   "nbconvert_exporter": "python",
   "pygments_lexer": "ipython3",
   "version": "3.12.2"
  }
 },
 "nbformat": 4,
 "nbformat_minor": 2
}
